{
 "cells": [
  {
   "cell_type": "code",
   "execution_count": 1,
   "id": "pleasant-march",
   "metadata": {},
   "outputs": [],
   "source": [
    "import pandas as pd\n",
    "import os\n",
    "import gzip"
   ]
  },
  {
   "cell_type": "code",
   "execution_count": 2,
   "id": "sharp-appeal",
   "metadata": {},
   "outputs": [],
   "source": [
    "def reformat(vcf_file, pop, suffix='formatted.tsv', genotypes=False):\n",
    "    \n",
    "    out_tsv = '.'.join(os.path.basename(vcf_file).split('.')[0:-3] + [suffix])\n",
    "    out_dir = os.path.dirname(vcf_file) + '/'\n",
    "    out = open(out_dir + out_tsv, 'w')\n",
    "\n",
    "    out_header = ['POS', 'A1', 'A2', 'POP1', 'POP2']\n",
    "    out.write('\\t'.join(out_header) +'\\n')\n",
    "    \n",
    "    with gzip.open(vcf_file, 'rb') as f:\n",
    "        for i in f:\n",
    "            i = i.rstrip()\n",
    "            i = i.decode()\n",
    "            #print(i)\n",
    "            if not i.startswith(\"#\"):\n",
    "                #print(i.split('\\t'))\n",
    "                # VCF Header: #CHROM  POS     ID      REF     ALT     QUAL    FILTER  INFO    FORMAT  HG01879\n",
    "                # Sample info example: 0|0\n",
    "                \n",
    "                (chr, pos, id_field, a2, a1, qual, filter_field, info, format_field, gt) = i.split('\\t')\n",
    "                \n",
    "                # Set population of both chromosome copies as the ancestry of the patient sample\n",
    "                if pop == \"AFR\":\n",
    "                    pop1 = \"0\"\n",
    "                    pop2 = \"0\"\n",
    "                elif pop == \"EUR\":\n",
    "                    pop1 = \"1\"\n",
    "                    pop2 = \"1\"\n",
    "                    \n",
    "                # Get the genotypes of the individuals\n",
    "                if gt[0] == 0:\n",
    "                    g1 = a2\n",
    "                else:\n",
    "                    g1 = a1\n",
    "                if gt[-1] == 0:\n",
    "                    g2 = a2\n",
    "                else:\n",
    "                    g2 = a1\n",
    "                \n",
    "                # Output File: POS A1 A2 POP1 POP2\n",
    "                # Only print out SNPs with length 1 for ref and alt\n",
    "                if (len(a2) == 1) and (len(a1) ==1):\n",
    "                    if genotypes:\n",
    "                        out.write('\\t'.join([pos, g1, g2, pop1, pop2]) + '\\n')\n",
    "                    else:\n",
    "                        out.write('\\t'.join([pos, a1, a2, pop1, pop2]) + '\\n')\n",
    "                "
   ]
  },
  {
   "cell_type": "markdown",
   "id": "active-gnome",
   "metadata": {},
   "source": [
    "## Extract a single EUR and single AFR sample from the VCF"
   ]
  },
  {
   "cell_type": "markdown",
   "id": "fantastic-synthesis",
   "metadata": {},
   "source": [
    "### Chromosome 21"
   ]
  },
  {
   "cell_type": "code",
   "execution_count": 11,
   "id": "threaded-interim",
   "metadata": {},
   "outputs": [],
   "source": [
    "# Get list of 1000 Genome samples in the AFR and EUR populations\n",
    "#chr21_dir=\"/home/lbruce/project_files/chromosome_21_files/\"\n",
    "chr21_dir=\"/home/lbruce/teams/CSE284_SP21_A00/team3/chromosome_21_files/\"\n",
    "\n",
    "# AFR Labels from ps2_reference_labels.csv\n",
    "afr_samples = pd.read_csv(chr21_dir + \"AFR_labels.csv\", header=None)[0].tolist()\n",
    "# EUR Labels from ps2_reference_labels.csv\n",
    "eur_samples = pd.read_csv(chr21_dir + \"EUR_labels.csv\", header=None)[0].tolist()\n",
    "\n",
    "chr21_vcf = chr21_dir + \"ALL.chr21.phase3_shapeit2_mvncall_integrated_v5a.20130502.genotypes.vcf.gz\""
   ]
  },
  {
   "cell_type": "code",
   "execution_count": 12,
   "id": "latin-angola",
   "metadata": {},
   "outputs": [
    {
     "name": "stdout",
     "output_type": "stream",
     "text": [
      "502\n",
      "560 None\n",
      "bcftools view -s HG01879 /home/lbruce/teams/CSE284_SP21_A00/team3/chromosome_21_files/ALL.chr21.phase3_shapeit2_mvncall_integrated_v5a.20130502.genotypes.vcf.gz | bgzip -c > /home/lbruce/teams/CSE284_SP21_A00/team3/chromosome_21_files/HG01879.AFR.chr21.phase3_shapeit2_mvncall_integrated_v5a.20130502.genotypes.vcf.gz && tabix -s1 -b2 -e2 /home/lbruce/teams/CSE284_SP21_A00/team3/chromosome_21_files/HG01879.AFR.chr21.phase3_shapeit2_mvncall_integrated_v5a.20130502.genotypes.vcf.gz\n",
      "bcftools view -s NA12878 /home/lbruce/teams/CSE284_SP21_A00/team3/chromosome_21_files/ALL.chr21.phase3_shapeit2_mvncall_integrated_v5a.20130502.genotypes.vcf.gz | bgzip -c > /home/lbruce/teams/CSE284_SP21_A00/team3/chromosome_21_files/NA12878.EUR.chr21.phase3_shapeit2_mvncall_integrated_v5a.20130502.genotypes.vcf.gz && tabix -s1 -b2 -e2 /home/lbruce/teams/CSE284_SP21_A00/team3/chromosome_21_files/NA12878.EUR.chr21.phase3_shapeit2_mvncall_integrated_v5a.20130502.genotypes.vcf.gz\n"
     ]
    }
   ],
   "source": [
    "# Get List of column indexes in the vcf file for the two populations\n",
    "# VCF file: ALL.chr21.phase3_shapeit2_mvncall_integrated_v5a.20130502.genotypes.vcf.gz \n",
    "# VCF '#CHROM' line file: chr21_vcf_header.txt\n",
    "chr21_header = pd.read_csv(chr21_dir + \"chr21_vcf_header.txt\", sep='\\t', header=None).values.tolist()[0]\n",
    "\n",
    "# Get sample names for the two populations\n",
    "afr_columns = []\n",
    "eur_columns = []\n",
    "for idx,c in enumerate(chr21_header):\n",
    "    if c in afr_samples:\n",
    "        afr_columns.append(c)\n",
    "    elif c in eur_samples:\n",
    "        eur_columns.append(c)\n",
    "print(len(afr_columns), print(len(eur_columns)))\n",
    "#print(afr_columns, eur_columns)\n",
    "\n",
    "# Create bcftools command to extract samples by ancestry population\n",
    "# command  bcftools view -Ou -s sample1,sample2 file.vcf\n",
    "#print(afr_columns, eur_columns)\n",
    "afr_columns_formatted = ','.join(afr_columns)\n",
    "eur_columns_formatted = ','.join(eur_columns)\n",
    "\n",
    "# Executed bcftools commands in terminal but could also use os.system()\n",
    "chr21_afr_vcf = chr21_dir + afr_columns[0] + \".AFR.chr21.phase3_shapeit2_mvncall_integrated_v5a.20130502.genotypes.vcf.gz\"\n",
    "# Extract first AFR sample\n",
    "command=\"bcftools view -s {0} {1} | bgzip -c > {2} && tabix -s1 -b2 -e2 {2}\".format(afr_columns[0], chr21_vcf, chr21_afr_vcf)\n",
    "#os.system(command)\n",
    "print(command)\n",
    "\n",
    "# Extract NA12878 EUR sample\n",
    "eur_sample=\"NA12878\"\n",
    "chr21_eur_vcf = chr21_dir + eur_sample+ \".EUR.chr21.phase3_shapeit2_mvncall_integrated_v5a.20130502.genotypes.vcf.gz\"\n",
    "command2=\"bcftools view -s {0} {1} | bgzip -c > {2} && tabix -s1 -b2 -e2 {2}\".format(eur_sample, chr21_vcf, chr21_eur_vcf)\n",
    "#os.system(command2)\n",
    "print(command2)"
   ]
  },
  {
   "cell_type": "code",
   "execution_count": 14,
   "id": "loved-christmas",
   "metadata": {},
   "outputs": [
    {
     "name": "stdout",
     "output_type": "stream",
     "text": [
      "/home/lbruce/teams/CSE284_SP21_A00/team3/chromosome_21_files/HG01879.AFR.chr21.phase3_shapeit2_mvncall_integrated_v5a.20130502.genotypes.vcf.gz\n"
     ]
    }
   ],
   "source": [
    "print(chr21_afr_vcf)"
   ]
  },
  {
   "cell_type": "markdown",
   "id": "favorite-conservative",
   "metadata": {},
   "source": [
    "#### Reformat into POS Ref Alt POP1 POP2"
   ]
  },
  {
   "cell_type": "code",
   "execution_count": 22,
   "id": "noticed-poker",
   "metadata": {},
   "outputs": [],
   "source": [
    "reformat(chr21_afr_vcf, \"AFR\")"
   ]
  },
  {
   "cell_type": "code",
   "execution_count": 23,
   "id": "subject-dictionary",
   "metadata": {},
   "outputs": [],
   "source": [
    "reformat(chr21_eur_vcf, \"EUR\")"
   ]
  },
  {
   "cell_type": "markdown",
   "id": "wicked-blast",
   "metadata": {},
   "source": [
    "#### Reformat with genotypes rather than ref/alt"
   ]
  },
  {
   "cell_type": "code",
   "execution_count": 10,
   "id": "designing-program",
   "metadata": {},
   "outputs": [],
   "source": [
    "chr21_afr_vcf = \"../../chromosome_21_files/HG01879.AFR.chr21.phase3_shapeit2_mvncall_integrated_v5a.20130502.genotypes.vcf.gz\"\n",
    "reformat(chr21_afr_vcf, \"AFR\", 'formatted_geno.tsv', genotypes=True)"
   ]
  },
  {
   "cell_type": "code",
   "execution_count": 12,
   "id": "external-employer",
   "metadata": {},
   "outputs": [],
   "source": [
    "chr21_eur_vcf = \"../../chromosome_21_files/NA12878.EUR.chr21.phase3_shapeit2_mvncall_integrated_v5a.20130502.genotypes.vcf.gz\"\n",
    "reformat(chr21_eur_vcf, \"EUR\", 'formatted_geno.tsv', genotypes=True)"
   ]
  },
  {
   "cell_type": "markdown",
   "id": "finite-quality",
   "metadata": {},
   "source": [
    "### Chromosome 14"
   ]
  },
  {
   "cell_type": "code",
   "execution_count": 4,
   "id": "russian-melissa",
   "metadata": {},
   "outputs": [],
   "source": [
    "# Get list of 1000 Genome samples in the AFR and EUR populations\n",
    "chr14_dir=\"/home/lbruce/teams/CSE284_SP21_A00/team3/chromosome_14_files/\"\n",
    "\n",
    "# AFR Labels from ps2_reference_labels.csv\n",
    "afr_samples = pd.read_csv(chr14_dir + \"AFR_labels.csv\", header=None)[0].tolist()\n",
    "# EUR Labels from ps2_reference_labels.csv\n",
    "eur_samples = pd.read_csv(chr14_dir + \"EUR_labels.csv\", header=None)[0].tolist()\n",
    "\n",
    "chr14_vcf = chr14_dir + \"ALL.chr14.phase3_shapeit2_mvncall_integrated_v5a.20130502.genotypes.vcf.gz\""
   ]
  },
  {
   "cell_type": "code",
   "execution_count": 10,
   "id": "aerial-composition",
   "metadata": {},
   "outputs": [
    {
     "name": "stdout",
     "output_type": "stream",
     "text": [
      "502\n",
      "560 None\n",
      "bcftools view -s HG01879 /home/lbruce/teams/CSE284_SP21_A00/team3/chromosome_14_files/ALL.chr14.phase3_shapeit2_mvncall_integrated_v5a.20130502.genotypes.vcf.gz | bgzip -c > /home/lbruce/teams/CSE284_SP21_A00/team3/chromosome_14_files/HG01879.AFR.chr14.phase3_shapeit2_mvncall_integrated_v5a.20130502.genotypes.vcf.gz && tabix -s1 -b2 -e2 /home/lbruce/teams/CSE284_SP21_A00/team3/chromosome_14_files/HG01879.AFR.chr14.phase3_shapeit2_mvncall_integrated_v5a.20130502.genotypes.vcf.gz\n",
      "bcftools view -s NA12878 /home/lbruce/teams/CSE284_SP21_A00/team3/chromosome_14_files/ALL.chr14.phase3_shapeit2_mvncall_integrated_v5a.20130502.genotypes.vcf.gz | bgzip -c > /home/lbruce/teams/CSE284_SP21_A00/team3/chromosome_14_files/NA12878.EUR.chr14.phase3_shapeit2_mvncall_integrated_v5a.20130502.genotypes.vcf.gz && tabix -s1 -b2 -e2 /home/lbruce/teams/CSE284_SP21_A00/team3/chromosome_14_files/NA12878.EUR.chr14.phase3_shapeit2_mvncall_integrated_v5a.20130502.genotypes.vcf.gz\n"
     ]
    }
   ],
   "source": [
    "# Get List of column indexes in the vcf file for the two populations\n",
    "# VCF file: ALL.chr14.phase3_shapeit2_mvncall_integrated_v5a.20130502.genotypes.vcf.gz \n",
    "# VCF '#CHROM' line file: chr14_vcf_header.txt\n",
    "chr14_header = pd.read_csv(chr14_dir + \"chr14_vcf_header.txt\", sep='\\t', header=None).values.tolist()[0]\n",
    "\n",
    "# Get sample names for the two populations\n",
    "afr_columns = []\n",
    "eur_columns = []\n",
    "for idx,c in enumerate(chr14_header):\n",
    "    if c in afr_samples:\n",
    "        afr_columns.append(c)\n",
    "    elif c in eur_samples:\n",
    "        eur_columns.append(c)\n",
    "print(len(afr_columns), print(len(eur_columns)))\n",
    "#print(afr_columns, eur_columns)\n",
    "\n",
    "# Create bcftools command to extract samples by ancestry population\n",
    "# command  bcftools view -Ou -s sample1,sample2 file.vcf\n",
    "#print(afr_columns, eur_columns)\n",
    "afr_columns_formatted = ','.join(afr_columns)\n",
    "eur_columns_formatted = ','.join(eur_columns)\n",
    "\n",
    "# Executed bcftools commands in terminal but could also use os.system()\n",
    "chr14_afr_vcf = chr14_dir + afr_columns[0] + \".AFR.chr14.phase3_shapeit2_mvncall_integrated_v5a.20130502.genotypes.vcf.gz\"\n",
    "# Extract first AFR sample\n",
    "command=\"bcftools view -s {0} {1} | bgzip -c > {2} && tabix -s1 -b2 -e2 {2}\".format(afr_columns[0], chr14_vcf, chr14_afr_vcf)\n",
    "#os.system(command)\n",
    "print(command)\n",
    "\n",
    "# Extract NA12878 EUR sample\n",
    "eur_sample=\"NA12878\"\n",
    "chr14_eur_vcf = chr14_dir + eur_sample+ \".EUR.chr14.phase3_shapeit2_mvncall_integrated_v5a.20130502.genotypes.vcf.gz\"\n",
    "command2=\"bcftools view -s {0} {1} | bgzip -c > {2} && tabix -s1 -b2 -e2 {2}\".format(eur_sample, chr14_vcf, chr14_eur_vcf)\n",
    "#os.system(command2)\n",
    "print(command2)"
   ]
  },
  {
   "cell_type": "code",
   "execution_count": 15,
   "id": "israeli-segment",
   "metadata": {},
   "outputs": [
    {
     "name": "stdout",
     "output_type": "stream",
     "text": [
      "/home/lbruce/teams/CSE284_SP21_A00/team3/chromosome_14_files/HG01879.AFR.chr14.phase3_shapeit2_mvncall_integrated_v5a.20130502.genotypes.vcf.gz\n"
     ]
    }
   ],
   "source": [
    "print(chr14_afr_vcf)"
   ]
  },
  {
   "cell_type": "markdown",
   "id": "primary-seeking",
   "metadata": {},
   "source": [
    "#### Reformat into POS Ref Alt POP1 POP2"
   ]
  },
  {
   "cell_type": "code",
   "execution_count": 24,
   "id": "automotive-warrant",
   "metadata": {},
   "outputs": [],
   "source": [
    "reformat(chr14_afr_vcf, \"AFR\")"
   ]
  },
  {
   "cell_type": "code",
   "execution_count": 25,
   "id": "flying-cameroon",
   "metadata": {},
   "outputs": [],
   "source": [
    "reformat(chr14_eur_vcf, \"EUR\")"
   ]
  },
  {
   "cell_type": "markdown",
   "id": "beautiful-river",
   "metadata": {},
   "source": [
    "#### reformat with genotypes rather than ref/alt"
   ]
  },
  {
   "cell_type": "code",
   "execution_count": 8,
   "id": "southern-nature",
   "metadata": {},
   "outputs": [],
   "source": [
    "chr14_afr_vcf = \"../../chromosome_14_files/HG01879.AFR.chr14.phase3_shapeit2_mvncall_integrated_v5a.20130502.genotypes.vcf.gz\"\n",
    "reformat(chr14_afr_vcf, \"AFR\", \"formatted_geno.tsv\", genotypes=True)"
   ]
  },
  {
   "cell_type": "code",
   "execution_count": 9,
   "id": "curious-armenia",
   "metadata": {},
   "outputs": [],
   "source": [
    "chr14_eur_vcf = \"../../chromosome_14_files/NA12878.EUR.chr14.phase3_shapeit2_mvncall_integrated_v5a.20130502.genotypes.vcf.gz\"\n",
    "reformat(chr14_eur_vcf, \"EUR\", \"formatted_geno.tsv\", genotypes=True)"
   ]
  }
 ],
 "metadata": {
  "kernelspec": {
   "display_name": "Python 3",
   "language": "python",
   "name": "python3"
  },
  "language_info": {
   "codemirror_mode": {
    "name": "ipython",
    "version": 3
   },
   "file_extension": ".py",
   "mimetype": "text/x-python",
   "name": "python",
   "nbconvert_exporter": "python",
   "pygments_lexer": "ipython3",
   "version": "3.8.6"
  }
 },
 "nbformat": 4,
 "nbformat_minor": 5
}
