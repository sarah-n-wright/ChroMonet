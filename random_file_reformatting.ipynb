{
 "cells": [
  {
   "cell_type": "markdown",
   "id": "romantic-nirvana",
   "metadata": {},
   "source": [
    "## Reformat genotype file into bed format"
   ]
  },
  {
   "cell_type": "code",
   "execution_count": 6,
   "id": "computational-interview",
   "metadata": {},
   "outputs": [],
   "source": [
    "import pandas as pd\n",
    "import numpy as np"
   ]
  },
  {
   "cell_type": "code",
   "execution_count": 3,
   "id": "external-strain",
   "metadata": {},
   "outputs": [],
   "source": [
    "simulated_genomes_dir = \"/home/lbruce/teams/CSE284_SP21_A00/team3/Git/cse284_project/Data/\""
   ]
  },
  {
   "cell_type": "code",
   "execution_count": 36,
   "id": "neutral-catholic",
   "metadata": {},
   "outputs": [],
   "source": [
    "def convert_tsv_to_beds(filename, genome_tsv_file, output_dir):\n",
    "    \"\"\"\n",
    "    Convert genome tsv file (simulated or otherwise) to bed files\n",
    "    Original: \n",
    "    POS     A1      A2      POP1    POP2\n",
    "    0       C       T       0       0\n",
    "    \n",
    "    Output:\n",
    "    Copy 1: CHR    START_POS  END_POS  POP1\n",
    "    Copy 2: CHR    START_POS  END_POS  POP2\n",
    "    \"\"\"\n",
    "    df = pd.read_csv(genome_tsv_file, sep=('\\t'))\n",
    "    \n",
    "    # Insert chromosome column\n",
    "    df.insert(0,'CHR','21')\n",
    "    \n",
    "    # Insert stop position for bed file\n",
    "    df.insert(2,'STOP_POS',df['POS'] + 1)\n",
    "    df.rename(columns={'POS':'START_POS'}, inplace=True)\n",
    "    \n",
    "    # Split into chromosome copy\n",
    "    copy1 = df[['CHR', 'START_POS', 'STOP_POS', 'POP1']]\n",
    "    copy2 = df[['CHR', 'START_POS', 'STOP_POS', 'POP2']]\n",
    "    \n",
    "    # Write to new files\n",
    "    copy1_filename = filename.split('.')[0] + '_copy1.bed'\n",
    "    copy1.to_csv(output_dir + copy1_filename, sep='\\t', index=False)\n",
    "    \n",
    "    copy2_filename = filename.split('.')[0] + '_copy2.bed'\n",
    "    copy2.to_csv(output_dir + copy2_filename, sep='\\t', index=False) "
   ]
  },
  {
   "cell_type": "code",
   "execution_count": 37,
   "id": "valuable-helicopter",
   "metadata": {},
   "outputs": [],
   "source": [
    "genome_file = simulated_genomes_dir + \"simGenome_100_0_0.tsv\"\n",
    "filename = \"simGenome_100_0_0.tsv\"\n",
    "output_dir = \"/home/lbruce/teams/CSE284_SP21_A00/team3/chromosome_21_files/\"\n",
    "\n",
    "convert_tsv_to_beds(filename, genome_file, output_dir)"
   ]
  },
  {
   "cell_type": "markdown",
   "id": "prerequisite-suggestion",
   "metadata": {},
   "source": [
    "## Fake Admixed Data for testing my bedtools formatting"
   ]
  },
  {
   "cell_type": "markdown",
   "id": "spanish-silence",
   "metadata": {},
   "source": [
    "## Merge Regions with same predicted Population Labels"
   ]
  },
  {
   "cell_type": "code",
   "execution_count": 67,
   "id": "synthetic-things",
   "metadata": {},
   "outputs": [],
   "source": [
    "def merge_regions(bed_file, chrom, output_prefix, pop_header):\n",
    "    \"\"\"\n",
    "    Merge positions where the adjacent population labels are the same.\n",
    "    Output bed file formatted for chromosome painting processing.\n",
    "    \n",
    "    Input:\n",
    "    chr21 1  2 AFR\n",
    "    chr21 5  6 AFR\n",
    "    chr21 8  9 EUR \n",
    "    Output:\n",
    "    chr21 1 6 AFR\n",
    "    chr21 8 9 EUR\n",
    "    \"\"\"\n",
    "    df = pd.read_csv(bed_file, sep='\\t')\n",
    "    \n",
    "    out = open(output_prefix + \".merged.bed\", 'w')\n",
    "    \n",
    "    pop_map = {0: \"AFR\", 1:\"EUR\"}\n",
    "    pop_range = []\n",
    "    pop=0\n",
    "    for index,row in df.iterrows():\n",
    "        #print(\"Index\", index, df.shape[0])\n",
    "        if index < df.shape[0] - 1: \n",
    "            # If current position has the same population, add to range\n",
    "            if row[pop_header] == pop:\n",
    "                pop_range.append(row['START_POS'])\n",
    "            else:\n",
    "                # Write previous pop range to merged bed file\n",
    "                if pop_range != []:\n",
    "                    output_line = [str(chrom), str(pop_range[0]), str(pop_range[-1] + 1), str(pop_map[pop])]\n",
    "                    out.write('\\t'.join(output_line) + '\\n')\n",
    "\n",
    "                # Start new range and switch pop\n",
    "                if pop == 0:\n",
    "                    pop = 1\n",
    "                elif pop == 1:\n",
    "                    pop = 0\n",
    "                pop_range = []\n",
    "\n",
    "                # Add current position\n",
    "                pop_range.append(row['START_POS'])\n",
    "\n",
    "        else:\n",
    "            if row[pop_header] == pop:\n",
    "                pop_range.append(row['START_POS'])\n",
    "                output_line = [str(chrom), str(pop_range[0]), str(pop_range[-1] + 1), str(pop_map[pop])]\n",
    "                out.write('\\t'.join(output_line) + '\\n')\n",
    "            else:\n",
    "                # Write previous pop range to merged bed file\n",
    "                if pop_range != []:\n",
    "                    output_line = [str(chrom), str(pop_range[0]), str(pop_range[-1] + 1), str(pop_map[pop])]\n",
    "                    out.write('\\t'.join(output_line) + '\\n')\n",
    "                \n",
    "                # Start new range and switch pop\n",
    "                if pop == 0:\n",
    "                    pop = 1\n",
    "                elif pop == 1:\n",
    "                    pop = 0\n",
    "                pop_range = []\n",
    "\n",
    "                # Add current position\n",
    "                pop_range.append(row['START_POS'])\n",
    "                output_line = [str(chrom), str(pop_range[0]), str(pop_range[-1] + 1), str(pop_map[pop])]\n",
    "                out.write('\\t'.join(output_line) + '\\n')"
   ]
  },
  {
   "cell_type": "code",
   "execution_count": 50,
   "id": "critical-moderator",
   "metadata": {},
   "outputs": [],
   "source": [
    "genome_file = simulated_genomes_dir + \"simGenome_100_0_0.tsv\"\n",
    "df = pd.read_csv(genome_file, sep=('\\t'))\n",
    "df_opposite = df.copy()\n",
    "# Flip population\n",
    "df_opposite['POP1'] = 1\n",
    "df_opposite['POP2'] = 1\n",
    "\n",
    "# Concatenate half original and half opposite of dataframe\n",
    "df_mixed= pd.concat([df[:51],df_opposite[51:]])\n",
    "mixed_genome=\"/home/lbruce/teams/CSE284_SP21_A00/team3/chromosome_21_files/MIXED_simGenome_100_0_0.tsv\"\n",
    "df_mixed.to_csv(mixed_genome, sep='\\t', index=False)\n",
    "\n",
    "filename = \"MIXED_simGenome_100_0_0.tsv\"\n",
    "output_dir = \"/home/lbruce/teams/CSE284_SP21_A00/team3/chromosome_21_files/\"\n",
    "\n",
    "# Convert to split bed files\n",
    "convert_tsv_to_beds(filename, mixed_genome, output_dir)"
   ]
  },
  {
   "cell_type": "code",
   "execution_count": 68,
   "id": "deadly-blade",
   "metadata": {},
   "outputs": [],
   "source": [
    "# Tested with fake mixed bed file\n",
    "output_dir = \"/home/lbruce/teams/CSE284_SP21_A00/team3/chromosome_21_files/\"    \n",
    "    \n",
    "merge_regions(output_dir + '/MIXED_simGenome_100_0_0_copy1.bed', 'chr21', output_dir + '/MIXED_simGenome_100_0_0_copy1', 'POP1')"
   ]
  },
  {
   "cell_type": "code",
   "execution_count": 69,
   "id": "amino-toronto",
   "metadata": {},
   "outputs": [],
   "source": [
    "merge_regions(output_dir + '/MIXED_simGenome_100_0_0_copy2.bed', 'chr21', output_dir + '/MIXED_simGenome_100_0_0_copy2', 'POP2')"
   ]
  },
  {
   "cell_type": "markdown",
   "id": "raising-finding",
   "metadata": {},
   "source": [
    "# Reformat chr 14/21 files to have AFR=0 and EUR=1"
   ]
  },
  {
   "cell_type": "code",
   "execution_count": 5,
   "id": "mature-threshold",
   "metadata": {},
   "outputs": [],
   "source": [
    "hmm_file = \"/home/lbruce/teams/CSE284_SP21_A00/team3/HMM_Log10_Test_Outputs/admixEUR_AFR_chr14_Rx1_b_recomb0.01_HMMoutput.tsv\"\n",
    "hmm_formatted_file = open(\"/home/lbruce/teams/CSE284_SP21_A00/team3/HMM_Log10_Test_Outputs/admixEUR_AFR_chr14_Rx1_b_recomb0.01_HMMoutput_formatted.tsv\", 'w')\n",
    "with open(hmm_file, 'r') as f:\n",
    "    for lines in f:\n",
    "        lines = lines.rstrip()\n",
    "        fields = lines.split('\\t')\n",
    "        if fields[2] == 'AFR':\n",
    "            fields[2] = '0'\n",
    "        elif fields[2] == 'EUR':\n",
    "            fields[2] = '1'\n",
    "            \n",
    "        if fields[3] == 'AFR':\n",
    "            fields[3] = '0'\n",
    "        elif fields[3] == 'EUR':\n",
    "            fields[3] = '1'\n",
    "        \n",
    "        hmm_formatted_file.write('\\t'.join(fields) + '\\n')\n"
   ]
  },
  {
   "cell_type": "markdown",
   "id": "scheduled-spider",
   "metadata": {},
   "source": [
    "## TO DELETE"
   ]
  },
  {
   "cell_type": "markdown",
   "id": "liberal-detroit",
   "metadata": {},
   "source": [
    "Use Bedtools to Merge on Population"
   ]
  },
  {
   "cell_type": "code",
   "execution_count": 39,
   "id": "silent-restriction",
   "metadata": {},
   "outputs": [],
   "source": [
    "%%bash\n",
    "output_dir=\"/home/lbruce/teams/CSE284_SP21_A00/team3/chromosome_21_files/\"\n",
    "# Merges regions based on POP1/POP2 column\n",
    "# Doesn't work for our purpose because regions do not overlap :(\n",
    "#bedtools merge -c 4 -o distinct -i $output_dir/simGenome_100_0_0_copy1.bed -header >  $output_dir/simGenome_100_0_0_copy1.merged.bed\n",
    "#bedtools merge -c 4 -o distinct -i $output_dir/simGenome_100_0_0_copy2.bed -header >  $output_dir/simGenome_100_0_0_copy2.merged.bed"
   ]
  },
  {
   "cell_type": "code",
   "execution_count": 52,
   "id": "rental-aluminum",
   "metadata": {},
   "outputs": [],
   "source": [
    "%%bash\n",
    "# DO NOT USE: Doesn't work because regions not overlapping\n",
    "\n",
    "output_dir=\"/home/lbruce/teams/CSE284_SP21_A00/team3/chromosome_21_files/\"\n",
    "# Merges regions based on POP1/POP2 column\n",
    "#bedtools merge -c 1,2,3,4 -o distinct -i $output_dir/MIXED_simGenome_100_0_0_copy1.bed -header >  $output_dir/MIXED_simGenome_100_0_0_copy1.merged.bed\n",
    "#bedtools merge -c 1,2,3,4 -o distinct -i $output_dir/MIXED_simGenome_100_0_0_copy2.bed -header >  $output_dir/MIXED_simGenome_100_0_0_copy2.merged.bed"
   ]
  }
 ],
 "metadata": {
  "kernelspec": {
   "display_name": "Python 3",
   "language": "python",
   "name": "python3"
  },
  "language_info": {
   "codemirror_mode": {
    "name": "ipython",
    "version": 3
   },
   "file_extension": ".py",
   "mimetype": "text/x-python",
   "name": "python",
   "nbconvert_exporter": "python",
   "pygments_lexer": "ipython3",
   "version": "3.8.6"
  }
 },
 "nbformat": 4,
 "nbformat_minor": 5
}
