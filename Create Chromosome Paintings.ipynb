{
 "cells": [
  {
   "cell_type": "code",
   "execution_count": 36,
   "id": "billion-october",
   "metadata": {},
   "outputs": [],
   "source": [
    "import pandas as pd\n",
    "import os\n",
    "from os import listdir\n",
    "from os.path import isfile, join"
   ]
  },
  {
   "cell_type": "code",
   "execution_count": 37,
   "id": "protected-absolute",
   "metadata": {},
   "outputs": [],
   "source": [
    "python_dir = \"/opt/conda/bin/python\"\n",
    "chrom_painting_script = \"/home/lbruce/teams/CSE284_SP21_A00/team3/Git/cse284_project/plot_chromosome_painting.py\""
   ]
  },
  {
   "cell_type": "markdown",
   "id": "varied-notebook",
   "metadata": {},
   "source": [
    "# 100 bp Simulated Chromosome Paintings"
   ]
  },
  {
   "cell_type": "markdown",
   "id": "suited-dollar",
   "metadata": {},
   "source": [
    "## Pre-HMM TSVs"
   ]
  },
  {
   "cell_type": "code",
   "execution_count": 38,
   "id": "premium-dragon",
   "metadata": {},
   "outputs": [],
   "source": [
    "# Get List of TSV files\n",
    "tsv_files_dir = \"//home/lbruce/teams/CSE284_SP21_A00/team3/Git/cse284_project/Data/\"\n",
    "tsv_files = [f for f in listdir(tsv_files_dir) if join(tsv_files_dir, f).endswith('.tsv')]\n",
    "plot_output_dir = \"/home/lbruce/teams/CSE284_SP21_A00/team3/PreHMM_chromosome_painting_plots/\"\n",
    "#print(tsv_files)"
   ]
  },
  {
   "cell_type": "code",
   "execution_count": 39,
   "id": "patent-shadow",
   "metadata": {},
   "outputs": [],
   "source": [
    "for f in tsv_files:\n",
    "    input_dir = tsv_files_dir\n",
    "    output_dir = plot_output_dir\n",
    "    tsv_file = f\n",
    "    plot_title = f.split('.')[0]\n",
    "    chromosome = '21'\n",
    "    chromosome_length = \"100\"\n",
    "    pop_list = \"AFR EUR\"\n",
    "    \n",
    "    # TODO: if chromosome in file name, extract\n",
    "    # chromosome length is dependent on chr#, if synthetic set to 100\n",
    "    # ex: admixEUR_AFR_chr14_Rx3_c.tsv \n",
    "    if 'chr' in f:\n",
    "        print(\"CHROMOSOME\", f)\n",
    "        chromosome_full = f.split('_')[2]\n",
    "        chromosome = chromosome_full.split('r')[1]\n",
    "        if chromosome == '21':\n",
    "            chromosome_length = \"48129895\"\n",
    "        elif chromosome == '14':\n",
    "            chromosome_length = \"107043718\"\n",
    "            \n",
    "    command = \" \".join([python_dir, chrom_painting_script, \\\n",
    "                       '--input_dir', input_dir, \\\n",
    "                       '--output_dir', output_dir, \\\n",
    "                       '--tsv_file', tsv_file,\\\n",
    "                       '--plot_title', plot_title,\n",
    "                       '--chromosome', chromosome,\\\n",
    "                       '--chromosome_length', chromosome_length,\n",
    "                       '--pop_list', pop_list])\n",
    "    #print(command) \n",
    "    os.system(command)"
   ]
  },
  {
   "cell_type": "markdown",
   "id": "presidential-evaluation",
   "metadata": {},
   "source": [
    "## Post-HMM TSVs"
   ]
  },
  {
   "cell_type": "code",
   "execution_count": 40,
   "id": "english-recommendation",
   "metadata": {},
   "outputs": [],
   "source": [
    "# Get List of HMM output files\n",
    "HMM_files_dir = \"/home/lbruce/teams/CSE284_SP21_A00/team3/HMM_Test_Outputs/\"\n",
    "HMM_files = [f for f in listdir(HMM_files_dir) if join(HMM_files_dir, f).endswith('.tsv')]\n",
    "#print(HMM_files)"
   ]
  },
  {
   "cell_type": "code",
   "execution_count": 41,
   "id": "micro-lease",
   "metadata": {},
   "outputs": [],
   "source": [
    "for f in HMM_files:\n",
    "    input_dir = HMM_files_dir\n",
    "    output_dir = join(HMM_files_dir, \"chromosome_paintings/\")\n",
    "    tsv_file = f\n",
    "    plot_title = f.split('.')[0] + '.' + f.split('.')[1]\n",
    "    chromosome = '21'\n",
    "    chromosome_length = \"100\"\n",
    "    pop_list = \"AFR EUR\"\n",
    "    \n",
    "    # TODO: if chromosome in file name, extract\n",
    "    # chromosome length is dependent on chr#, if synthetic set to 100\n",
    "    # ex: admixEUR_AFR_chr14_Rx3_c.tsv \n",
    "    if 'chr' in f:\n",
    "        print(\"CHROMOSOME\", f)\n",
    "        chromosome_full = f.split('_')[2]\n",
    "        chromosome = chromosome_full.split('r')[1]\n",
    "        if chromosome == '21':\n",
    "            chromosome_length = \"48129895\"\n",
    "        elif chromosome == '14':\n",
    "            chromosome_length = \"107043718\"\n",
    "            \n",
    "    command = \" \".join([python_dir, chrom_painting_script, \\\n",
    "                       '--input_dir', input_dir, \\\n",
    "                       '--output_dir', output_dir, \\\n",
    "                       '--tsv_file', tsv_file,\\\n",
    "                       '--plot_title', plot_title,\n",
    "                       '--chromosome', chromosome,\\\n",
    "                       '--chromosome_length', chromosome_length,\n",
    "                       '--pop_list', pop_list])\n",
    "    #print(command)\n",
    "    os.system(command)\n",
    "    #break"
   ]
  },
  {
   "cell_type": "code",
   "execution_count": null,
   "id": "significant-appointment",
   "metadata": {},
   "outputs": [],
   "source": []
  }
 ],
 "metadata": {
  "kernelspec": {
   "display_name": "Python 3",
   "language": "python",
   "name": "python3"
  },
  "language_info": {
   "codemirror_mode": {
    "name": "ipython",
    "version": 3
   },
   "file_extension": ".py",
   "mimetype": "text/x-python",
   "name": "python",
   "nbconvert_exporter": "python",
   "pygments_lexer": "ipython3",
   "version": "3.8.6"
  }
 },
 "nbformat": 4,
 "nbformat_minor": 5
}
