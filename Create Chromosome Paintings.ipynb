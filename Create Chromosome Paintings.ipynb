{
 "cells": [
  {
   "cell_type": "code",
   "execution_count": 5,
   "id": "distinct-contents",
   "metadata": {},
   "outputs": [],
   "source": [
    "import pandas as pd\n",
    "import os\n",
    "from os import listdir\n",
    "from os.path import isfile, join"
   ]
  },
  {
   "cell_type": "code",
   "execution_count": 7,
   "id": "revised-mission",
   "metadata": {},
   "outputs": [
    {
     "name": "stdout",
     "output_type": "stream",
     "text": [
      "['simAdmixedGenome_100_0_1_Rx4_0_recomb0.1_HMMoutput.tsv', 'simGenome_100_0_1_recomb0.1_HMMoutput.tsv', 'simAdmixedGenome_100_0_1_Rx2_0_recomb0.1_HMMoutput.tsv', 'simAdmixedGenome_100_0_1_Rx5_1_recomb0.1_HMMoutput.tsv', 'simAdmixedGenome_100_0_1_Rx1_0_recomb0.1_HMMoutput.tsv', 'simGenome_100_1_0_recomb0.1_HMMoutput.tsv', 'simGenome_perfect_100_1_0_recomb0.1_HMMoutput.tsv', 'simGenome_perfect_100_0_1_recomb0.1_HMMoutput.tsv', 'simAdmixedGenome_100_0_1_Rx5_0_recomb0.1_HMMoutput.tsv', 'simAdmixedGenome_100_0_1_Rx2_1_recomb0.1_HMMoutput.tsv', 'simAdmixedGenome_100_0_1_Rx1_1_recomb0.1_HMMoutput.tsv', 'simGenome_100_1_1_recomb0.1_HMMoutput.tsv', 'simAdmixedGenome_100_0_1_Rx4_1_recomb0.1_HMMoutput.tsv', 'simGenome_100_0_0_recomb0.1_HMMoutput.tsv', 'simGenome_perfect_100_0_0_recomb0.1_HMMoutput.tsv', 'simGenome_perfect_100_1_1_recomb0.1_HMMoutput.tsv']\n"
     ]
    }
   ],
   "source": [
    "# Get List of HMM output files\n",
    "HMM_files_dir = \"/home/lbruce/teams/CSE284_SP21_A00/team3/HMM_Test_Outputs/\"\n",
    "HMM_files = [f for f in listdir(HMM_files_dir) if join(HMM_files_dir, f).endswith('.tsv')]\n",
    "print(HMM_files)"
   ]
  },
  {
   "cell_type": "code",
   "execution_count": 12,
   "id": "perfect-spread",
   "metadata": {},
   "outputs": [
    {
     "name": "stdout",
     "output_type": "stream",
     "text": [
      "/opt/conda/bin/python /home/lbruce/teams/CSE284_SP21_A00/team3/Git/cse284_project/plot_chromosome_painting.py --input_dir /home/lbruce/teams/CSE284_SP21_A00/team3/HMM_Test_Outputs/ --output_dir /home/lbruce/teams/CSE284_SP21_A00/team3/HMM_Test_Outputs/chromosome_paintings/ --tsv_file simAdmixedGenome_100_0_1_Rx4_0_recomb0.1_HMMoutput.tsv --plot_title simAdmixedGenome_100_0_1_Rx4_0_recomb0 --chromosome 21 --chromosome_length 100 --pop_list AFR EUR\n",
      "/opt/conda/bin/python /home/lbruce/teams/CSE284_SP21_A00/team3/Git/cse284_project/plot_chromosome_painting.py --input_dir /home/lbruce/teams/CSE284_SP21_A00/team3/HMM_Test_Outputs/ --output_dir /home/lbruce/teams/CSE284_SP21_A00/team3/HMM_Test_Outputs/chromosome_paintings/ --tsv_file simGenome_100_0_1_recomb0.1_HMMoutput.tsv --plot_title simGenome_100_0_1_recomb0 --chromosome 21 --chromosome_length 100 --pop_list AFR EUR\n",
      "/opt/conda/bin/python /home/lbruce/teams/CSE284_SP21_A00/team3/Git/cse284_project/plot_chromosome_painting.py --input_dir /home/lbruce/teams/CSE284_SP21_A00/team3/HMM_Test_Outputs/ --output_dir /home/lbruce/teams/CSE284_SP21_A00/team3/HMM_Test_Outputs/chromosome_paintings/ --tsv_file simAdmixedGenome_100_0_1_Rx2_0_recomb0.1_HMMoutput.tsv --plot_title simAdmixedGenome_100_0_1_Rx2_0_recomb0 --chromosome 21 --chromosome_length 100 --pop_list AFR EUR\n",
      "/opt/conda/bin/python /home/lbruce/teams/CSE284_SP21_A00/team3/Git/cse284_project/plot_chromosome_painting.py --input_dir /home/lbruce/teams/CSE284_SP21_A00/team3/HMM_Test_Outputs/ --output_dir /home/lbruce/teams/CSE284_SP21_A00/team3/HMM_Test_Outputs/chromosome_paintings/ --tsv_file simAdmixedGenome_100_0_1_Rx5_1_recomb0.1_HMMoutput.tsv --plot_title simAdmixedGenome_100_0_1_Rx5_1_recomb0 --chromosome 21 --chromosome_length 100 --pop_list AFR EUR\n",
      "/opt/conda/bin/python /home/lbruce/teams/CSE284_SP21_A00/team3/Git/cse284_project/plot_chromosome_painting.py --input_dir /home/lbruce/teams/CSE284_SP21_A00/team3/HMM_Test_Outputs/ --output_dir /home/lbruce/teams/CSE284_SP21_A00/team3/HMM_Test_Outputs/chromosome_paintings/ --tsv_file simAdmixedGenome_100_0_1_Rx1_0_recomb0.1_HMMoutput.tsv --plot_title simAdmixedGenome_100_0_1_Rx1_0_recomb0 --chromosome 21 --chromosome_length 100 --pop_list AFR EUR\n",
      "/opt/conda/bin/python /home/lbruce/teams/CSE284_SP21_A00/team3/Git/cse284_project/plot_chromosome_painting.py --input_dir /home/lbruce/teams/CSE284_SP21_A00/team3/HMM_Test_Outputs/ --output_dir /home/lbruce/teams/CSE284_SP21_A00/team3/HMM_Test_Outputs/chromosome_paintings/ --tsv_file simGenome_100_1_0_recomb0.1_HMMoutput.tsv --plot_title simGenome_100_1_0_recomb0 --chromosome 21 --chromosome_length 100 --pop_list AFR EUR\n",
      "/opt/conda/bin/python /home/lbruce/teams/CSE284_SP21_A00/team3/Git/cse284_project/plot_chromosome_painting.py --input_dir /home/lbruce/teams/CSE284_SP21_A00/team3/HMM_Test_Outputs/ --output_dir /home/lbruce/teams/CSE284_SP21_A00/team3/HMM_Test_Outputs/chromosome_paintings/ --tsv_file simGenome_perfect_100_1_0_recomb0.1_HMMoutput.tsv --plot_title simGenome_perfect_100_1_0_recomb0 --chromosome 21 --chromosome_length 100 --pop_list AFR EUR\n",
      "/opt/conda/bin/python /home/lbruce/teams/CSE284_SP21_A00/team3/Git/cse284_project/plot_chromosome_painting.py --input_dir /home/lbruce/teams/CSE284_SP21_A00/team3/HMM_Test_Outputs/ --output_dir /home/lbruce/teams/CSE284_SP21_A00/team3/HMM_Test_Outputs/chromosome_paintings/ --tsv_file simGenome_perfect_100_0_1_recomb0.1_HMMoutput.tsv --plot_title simGenome_perfect_100_0_1_recomb0 --chromosome 21 --chromosome_length 100 --pop_list AFR EUR\n",
      "/opt/conda/bin/python /home/lbruce/teams/CSE284_SP21_A00/team3/Git/cse284_project/plot_chromosome_painting.py --input_dir /home/lbruce/teams/CSE284_SP21_A00/team3/HMM_Test_Outputs/ --output_dir /home/lbruce/teams/CSE284_SP21_A00/team3/HMM_Test_Outputs/chromosome_paintings/ --tsv_file simAdmixedGenome_100_0_1_Rx5_0_recomb0.1_HMMoutput.tsv --plot_title simAdmixedGenome_100_0_1_Rx5_0_recomb0 --chromosome 21 --chromosome_length 100 --pop_list AFR EUR\n",
      "/opt/conda/bin/python /home/lbruce/teams/CSE284_SP21_A00/team3/Git/cse284_project/plot_chromosome_painting.py --input_dir /home/lbruce/teams/CSE284_SP21_A00/team3/HMM_Test_Outputs/ --output_dir /home/lbruce/teams/CSE284_SP21_A00/team3/HMM_Test_Outputs/chromosome_paintings/ --tsv_file simAdmixedGenome_100_0_1_Rx2_1_recomb0.1_HMMoutput.tsv --plot_title simAdmixedGenome_100_0_1_Rx2_1_recomb0 --chromosome 21 --chromosome_length 100 --pop_list AFR EUR\n",
      "/opt/conda/bin/python /home/lbruce/teams/CSE284_SP21_A00/team3/Git/cse284_project/plot_chromosome_painting.py --input_dir /home/lbruce/teams/CSE284_SP21_A00/team3/HMM_Test_Outputs/ --output_dir /home/lbruce/teams/CSE284_SP21_A00/team3/HMM_Test_Outputs/chromosome_paintings/ --tsv_file simAdmixedGenome_100_0_1_Rx1_1_recomb0.1_HMMoutput.tsv --plot_title simAdmixedGenome_100_0_1_Rx1_1_recomb0 --chromosome 21 --chromosome_length 100 --pop_list AFR EUR\n",
      "/opt/conda/bin/python /home/lbruce/teams/CSE284_SP21_A00/team3/Git/cse284_project/plot_chromosome_painting.py --input_dir /home/lbruce/teams/CSE284_SP21_A00/team3/HMM_Test_Outputs/ --output_dir /home/lbruce/teams/CSE284_SP21_A00/team3/HMM_Test_Outputs/chromosome_paintings/ --tsv_file simGenome_100_1_1_recomb0.1_HMMoutput.tsv --plot_title simGenome_100_1_1_recomb0 --chromosome 21 --chromosome_length 100 --pop_list AFR EUR\n",
      "/opt/conda/bin/python /home/lbruce/teams/CSE284_SP21_A00/team3/Git/cse284_project/plot_chromosome_painting.py --input_dir /home/lbruce/teams/CSE284_SP21_A00/team3/HMM_Test_Outputs/ --output_dir /home/lbruce/teams/CSE284_SP21_A00/team3/HMM_Test_Outputs/chromosome_paintings/ --tsv_file simAdmixedGenome_100_0_1_Rx4_1_recomb0.1_HMMoutput.tsv --plot_title simAdmixedGenome_100_0_1_Rx4_1_recomb0 --chromosome 21 --chromosome_length 100 --pop_list AFR EUR\n",
      "/opt/conda/bin/python /home/lbruce/teams/CSE284_SP21_A00/team3/Git/cse284_project/plot_chromosome_painting.py --input_dir /home/lbruce/teams/CSE284_SP21_A00/team3/HMM_Test_Outputs/ --output_dir /home/lbruce/teams/CSE284_SP21_A00/team3/HMM_Test_Outputs/chromosome_paintings/ --tsv_file simGenome_100_0_0_recomb0.1_HMMoutput.tsv --plot_title simGenome_100_0_0_recomb0 --chromosome 21 --chromosome_length 100 --pop_list AFR EUR\n",
      "/opt/conda/bin/python /home/lbruce/teams/CSE284_SP21_A00/team3/Git/cse284_project/plot_chromosome_painting.py --input_dir /home/lbruce/teams/CSE284_SP21_A00/team3/HMM_Test_Outputs/ --output_dir /home/lbruce/teams/CSE284_SP21_A00/team3/HMM_Test_Outputs/chromosome_paintings/ --tsv_file simGenome_perfect_100_0_0_recomb0.1_HMMoutput.tsv --plot_title simGenome_perfect_100_0_0_recomb0 --chromosome 21 --chromosome_length 100 --pop_list AFR EUR\n",
      "/opt/conda/bin/python /home/lbruce/teams/CSE284_SP21_A00/team3/Git/cse284_project/plot_chromosome_painting.py --input_dir /home/lbruce/teams/CSE284_SP21_A00/team3/HMM_Test_Outputs/ --output_dir /home/lbruce/teams/CSE284_SP21_A00/team3/HMM_Test_Outputs/chromosome_paintings/ --tsv_file simGenome_perfect_100_1_1_recomb0.1_HMMoutput.tsv --plot_title simGenome_perfect_100_1_1_recomb0 --chromosome 21 --chromosome_length 100 --pop_list AFR EUR\n"
     ]
    }
   ],
   "source": [
    "python_dir = \"/opt/conda/bin/python\"\n",
    "chrom_painting_script = \"/home/lbruce/teams/CSE284_SP21_A00/team3/Git/cse284_project/plot_chromosome_painting.py\"\n",
    "\n",
    "for f in HMM_files:\n",
    "    input_dir = HMM_files_dir\n",
    "    output_dir = join(HMM_files_dir, \"chromosome_paintings/\")\n",
    "    tsv_file = f\n",
    "    plot_title = f.split('.')[0]\n",
    "    chromosome = '21'\n",
    "    chromosome_length = \"100\"\n",
    "    pop_list = \"AFR EUR\"\n",
    "    \n",
    "    # TODO: if chromosome in file name, extract\n",
    "    # chromosome length is dependent on chr#, if synthetic set to 100\n",
    "    if 'chr' in f:\n",
    "        print(\"CHROMOSOME\", f)\n",
    "        if chromosome == '21':\n",
    "            chromosome_length = \"48129895\"\n",
    "        elif chromosome == '14':\n",
    "            chromosome_length = \"107043718\"\n",
    "            \n",
    "    command = \" \".join([python_dir, chrom_painting_script, \\\n",
    "                       '--input_dir', input_dir, \\\n",
    "                       '--output_dir', output_dir, \\\n",
    "                       '--tsv_file', tsv_file,\\\n",
    "                       '--plot_title', plot_title,\n",
    "                       '--chromosome', chromosome,\\\n",
    "                       '--chromosome_length', chromosome_length,\n",
    "                       '--pop_list', pop_list])\n",
    "    print(command)\n",
    "    \n",
    "        \n",
    "                      "
   ]
  },
  {
   "cell_type": "code",
   "execution_count": null,
   "id": "patent-directive",
   "metadata": {},
   "outputs": [],
   "source": []
  }
 ],
 "metadata": {
  "kernelspec": {
   "display_name": "Python 3",
   "language": "python",
   "name": "python3"
  },
  "language_info": {
   "codemirror_mode": {
    "name": "ipython",
    "version": 3
   },
   "file_extension": ".py",
   "mimetype": "text/x-python",
   "name": "python",
   "nbconvert_exporter": "python",
   "pygments_lexer": "ipython3",
   "version": "3.8.6"
  }
 },
 "nbformat": 4,
 "nbformat_minor": 5
}
