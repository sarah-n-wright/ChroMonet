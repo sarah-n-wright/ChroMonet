{
 "cells": [
  {
   "cell_type": "markdown",
   "id": "residential-investigator",
   "metadata": {},
   "source": [
    "## Create Chromosome paintings by calling plot_chromosome_painting.py\n",
    "Note** Notebook only able to be run in team3 JupyterHub"
   ]
  },
  {
   "cell_type": "code",
   "execution_count": 1,
   "id": "herbal-costume",
   "metadata": {},
   "outputs": [],
   "source": [
    "import pandas as pd\n",
    "import os\n",
    "from os import listdir\n",
    "from os.path import isfile, join"
   ]
  },
  {
   "cell_type": "code",
   "execution_count": 2,
   "id": "olympic-immunology",
   "metadata": {},
   "outputs": [],
   "source": [
    "python_dir = \"/opt/conda/bin/python\"\n",
    "chrom_painting_script = \"/home/lbruce/teams/CSE284_SP21_A00/team3/Git/cse284_project/plot_chromosome_painting.py\""
   ]
  },
  {
   "cell_type": "markdown",
   "id": "fossil-james",
   "metadata": {},
   "source": [
    "# 100 bp Simulated Chromosome Paintings"
   ]
  },
  {
   "cell_type": "markdown",
   "id": "structural-reminder",
   "metadata": {},
   "source": [
    "## Pre-HMM TSVs"
   ]
  },
  {
   "cell_type": "code",
   "execution_count": 38,
   "id": "deadly-looking",
   "metadata": {},
   "outputs": [],
   "source": [
    "# Get List of TSV files\n",
    "tsv_files_dir = \"//home/lbruce/teams/CSE284_SP21_A00/team3/Git/cse284_project/Data/\"\n",
    "tsv_files = [f for f in listdir(tsv_files_dir) if join(tsv_files_dir, f).endswith('.tsv') ]\n",
    "plot_output_dir = \"/home/lbruce/teams/CSE284_SP21_A00/team3/PreHMM_chromosome_painting_plots/\"\n",
    "#print(tsv_files)"
   ]
  },
  {
   "cell_type": "code",
   "execution_count": 39,
   "id": "conventional-dividend",
   "metadata": {},
   "outputs": [],
   "source": [
    "for f in tsv_files:\n",
    "    input_dir = tsv_files_dir\n",
    "    output_dir = plot_output_dir\n",
    "    tsv_file = f\n",
    "    plot_title = f.split('.')[0]\n",
    "    chromosome = '21'\n",
    "    chromosome_length = \"100\"\n",
    "    pop_list = \"AFR EUR\"\n",
    "    \n",
    "    # TODO: if chromosome in file name, extract\n",
    "    # chromosome length is dependent on chr#, if synthetic set to 100\n",
    "    # ex: admixEUR_AFR_chr14_Rx3_c.tsv \n",
    "    if 'chr' in f:\n",
    "        print(\"CHROMOSOME\", f)\n",
    "        chromosome_full = f.split('_')[2]\n",
    "        chromosome = chromosome_full.split('r')[1]\n",
    "        if chromosome == '21':\n",
    "            chromosome_length = \"48129895\"\n",
    "        elif chromosome == '14':\n",
    "            chromosome_length = \"107043718\"\n",
    "            \n",
    "    command = \" \".join([python_dir, chrom_painting_script, \\\n",
    "                       '--input_dir', input_dir, \\\n",
    "                       '--output_dir', output_dir, \\\n",
    "                       '--tsv_file', tsv_file,\\\n",
    "                       '--plot_title', plot_title,\n",
    "                       '--chromosome', chromosome,\\\n",
    "                       '--chromosome_length', chromosome_length,\n",
    "                       '--pop_list', pop_list])\n",
    "    #print(command) \n",
    "    os.system(command)"
   ]
  },
  {
   "cell_type": "markdown",
   "id": "absent-character",
   "metadata": {},
   "source": [
    "## Post-HMM TSVs 100 bp Simulated Data"
   ]
  },
  {
   "cell_type": "code",
   "execution_count": 7,
   "id": "understanding-majority",
   "metadata": {},
   "outputs": [
    {
     "name": "stdout",
     "output_type": "stream",
     "text": [
      "['simAdmixedGenome_100_0_1_Rx1_1_recomb0.4_HMMoutput.tsv', 'simAdmixedGenome_100_0_1_Rx5_0_recomb0.1_HMMoutput.tsv', 'simAdmixedGenome_100_0_1_Rx4_0_recomb0.2_HMMoutput.tsv', 'simAdmixedGenome_100_0_1_Rx2_1_recomb0.1_HMMoutput.tsv', 'simAdmixedGenome_100_0_1_Rx2_0_recomb0.8_HMMoutput.tsv', 'simAdmixedGenome_100_0_1_Rx5_1_recomb0.8_HMMoutput.tsv', 'simAdmixedGenome_100_0_1_Rx5_1_recomb0.01_HMMoutput.tsv', 'simAdmixedGenome_100_0_1_Rx2_0_recomb0.001_HMMoutput.tsv', 'simGenome_100_0_0_recomb0.1_HMMoutput.tsv', 'simAdmixedGenome_100_0_1_Rx4_0_recomb0.001_HMMoutput.tsv', 'simAdmixedGenome_100_0_1_Rx5_0_recomb0.01_HMMoutput.tsv', 'simAdmixedGenome_100_0_1_Rx1_1_recomb0.1_HMMoutput.tsv', 'simAdmixedGenome_100_0_1_Rx4_0_recomb0.7_HMMoutput.tsv', 'simAdmixedGenome_100_0_1_Rx2_1_recomb0.4_HMMoutput.tsv', 'simAdmixedGenome_100_0_1_Rx5_0_recomb0.4_HMMoutput.tsv', 'simAdmixedGenome_100_0_1_Rx1_0_recomb0.8_HMMoutput.tsv', 'simAdmixedGenome_100_0_1_Rx4_1_recomb0.01_HMMoutput.tsv', 'simAdmixedGenome_100_0_1_Rx4_0_recomb0.8_HMMoutput.tsv', 'simAdmixedGenome_100_0_1_Rx2_0_recomb0.2_HMMoutput.tsv', 'simAdmixedGenome_100_0_1_Rx4_1_recomb0.1_HMMoutput.tsv', 'simAdmixedGenome_100_0_1_Rx5_1_recomb0.2_HMMoutput.tsv', 'simAdmixedGenome_100_0_1_Rx1_0_recomb0.7_HMMoutput.tsv', 'simAdmixedGenome_100_0_1_Rx4_0_recomb0.01_HMMoutput.tsv', 'simAdmixedGenome_100_0_1_Rx1_1_recomb0.05_HMMoutput.tsv', 'simAdmixedGenome_100_0_1_Rx5_1_recomb0.7_HMMoutput.tsv', 'simAdmixedGenome_100_0_1_Rx2_0_recomb0.7_HMMoutput.tsv', 'simAdmixedGenome_100_0_1_Rx4_1_recomb0.4_HMMoutput.tsv', 'simAdmixedGenome_100_0_1_Rx1_0_recomb0.2_HMMoutput.tsv', 'simAdmixedGenome_100_0_1_Rx1_0_recomb0.05_HMMoutput.tsv', 'simGenome_100_1_1_recomb0.1_HMMoutput.tsv', 'simAdmixedGenome_100_0_1_Rx1_1_recomb0.9_HMMoutput.tsv', 'simAdmixedGenome_100_0_1_Rx2_0_recomb0.5_HMMoutput.tsv', 'simAdmixedGenome_100_0_1_Rx4_1_recomb0.6_HMMoutput.tsv', 'simAdmixedGenome_100_0_1_Rx5_1_recomb0.5_HMMoutput.tsv', 'simAdmixedGenome_100_0_1_Rx5_1_recomb0.001_HMMoutput.tsv', 'simAdmixedGenome_100_0_1_Rx2_1_recomb0.9_HMMoutput.tsv', 'simAdmixedGenome_100_0_1_Rx5_0_recomb0.9_HMMoutput.tsv', 'simAdmixedGenome_100_0_1_Rx1_0_recomb0.5_HMMoutput.tsv', 'simAdmixedGenome_100_0_1_Rx4_1_recomb0.3_HMMoutput.tsv', 'simGenome_perfect_100_1_0_recomb0.1_HMMoutput.tsv', 'simAdmixedGenome_100_0_1_Rx1_1_recomb0.001_HMMoutput.tsv', 'simAdmixedGenome_100_0_1_Rx2_1_recomb0.05_HMMoutput.tsv', 'simAdmixedGenome_100_0_1_Rx5_0_recomb0.6_HMMoutput.tsv', 'simAdmixedGenome_100_0_1_Rx4_0_recomb0.5_HMMoutput.tsv', 'simAdmixedGenome_100_0_1_Rx2_1_recomb0.6_HMMoutput.tsv', 'simAdmixedGenome_100_0_1_Rx1_1_recomb0.3_HMMoutput.tsv', 'simAdmixedGenome_100_0_1_Rx2_0_recomb0.05_HMMoutput.tsv', 'simGenome_perfect_100_0_1_recomb0.1_HMMoutput.tsv', 'simAdmixedGenome_100_0_1_Rx2_1_recomb0.3_HMMoutput.tsv', 'simAdmixedGenome_100_0_1_Rx5_0_recomb0.3_HMMoutput.tsv', 'simAdmixedGenome_100_0_1_Rx1_1_recomb0.6_HMMoutput.tsv', 'simAdmixedGenome_100_0_1_Rx4_1_recomb0.9_HMMoutput.tsv', 'simAdmixedGenome_100_0_1_Rx2_1_recomb0.01_HMMoutput.tsv', 'simAdmixedGenome_100_0_1_Rx4_1_recomb0.8_HMMoutput.tsv', 'simAdmixedGenome_100_0_1_Rx1_1_recomb0.7_HMMoutput.tsv', 'simAdmixedGenome_100_0_1_Rx5_0_recomb0.2_HMMoutput.tsv', 'simAdmixedGenome_100_0_1_Rx2_1_recomb0.2_HMMoutput.tsv', 'simAdmixedGenome_100_0_1_Rx4_0_recomb0.1_HMMoutput.tsv', 'simAdmixedGenome_100_0_1_Rx2_0_recomb0.01_HMMoutput.tsv', 'simAdmixedGenome_100_0_1_Rx2_1_recomb0.001_HMMoutput.tsv', 'simGenome_100_1_0_recomb0.1_HMMoutput.tsv', 'simAdmixedGenome_100_0_1_Rx4_1_recomb0.001_HMMoutput.tsv', 'simAdmixedGenome_100_0_1_Rx1_1_recomb0.2_HMMoutput.tsv', 'simAdmixedGenome_100_0_1_Rx2_1_recomb0.7_HMMoutput.tsv', 'simAdmixedGenome_100_0_1_Rx4_0_recomb0.4_HMMoutput.tsv', 'simAdmixedGenome_100_0_1_Rx5_0_recomb0.7_HMMoutput.tsv', 'simAdmixedGenome_100_0_1_Rx4_1_recomb0.2_HMMoutput.tsv', 'simAdmixedGenome_100_0_1_Rx2_0_recomb0.1_HMMoutput.tsv', 'simAdmixedGenome_100_0_1_Rx5_1_recomb0.1_HMMoutput.tsv', 'simAdmixedGenome_100_0_1_Rx1_0_recomb0.4_HMMoutput.tsv', 'simAdmixedGenome_100_0_1_Rx5_0_recomb0.8_HMMoutput.tsv', 'simAdmixedGenome_100_0_1_Rx2_1_recomb0.8_HMMoutput.tsv', 'simAdmixedGenome_100_0_1_Rx5_1_recomb0.4_HMMoutput.tsv', 'simAdmixedGenome_100_0_1_Rx4_1_recomb0.7_HMMoutput.tsv', 'simAdmixedGenome_100_0_1_Rx2_0_recomb0.4_HMMoutput.tsv', 'simAdmixedGenome_100_0_1_Rx1_0_recomb0.1_HMMoutput.tsv', 'simAdmixedGenome_100_0_1_Rx1_1_recomb0.8_HMMoutput.tsv', 'simGenome_100_0_1_recomb0.1_HMMoutput.tsv', 'simAdmixedGenome_100_0_1_Rx4_1_recomb0.05_HMMoutput.tsv', 'simAdmixedGenome_100_0_1_Rx1_0_recomb0.3_HMMoutput.tsv', 'simAdmixedGenome_100_0_1_Rx4_1_recomb0.5_HMMoutput.tsv', 'simAdmixedGenome_100_0_1_Rx2_0_recomb0.6_HMMoutput.tsv', 'simAdmixedGenome_100_0_1_Rx5_1_recomb0.6_HMMoutput.tsv', 'simAdmixedGenome_100_0_1_Rx4_0_recomb0.05_HMMoutput.tsv', 'simAdmixedGenome_100_0_1_Rx5_0_recomb0.001_HMMoutput.tsv', 'simAdmixedGenome_100_0_1_Rx1_0_recomb0.6_HMMoutput.tsv', 'simAdmixedGenome_100_0_1_Rx5_1_recomb0.3_HMMoutput.tsv', 'simAdmixedGenome_100_0_1_Rx2_0_recomb0.3_HMMoutput.tsv', 'simAdmixedGenome_100_0_1_Rx4_0_recomb0.9_HMMoutput.tsv', 'simAdmixedGenome_100_0_1_Rx1_1_recomb0.01_HMMoutput.tsv', 'simAdmixedGenome_100_0_1_Rx1_0_recomb0.01_HMMoutput.tsv', 'simAdmixedGenome_100_0_1_Rx1_0_recomb0.001_HMMoutput.tsv', 'simGenome_perfect_100_0_0_recomb0.1_HMMoutput.tsv', 'simAdmixedGenome_100_0_1_Rx1_0_recomb0.9_HMMoutput.tsv', 'simAdmixedGenome_100_0_1_Rx5_0_recomb0.5_HMMoutput.tsv', 'simAdmixedGenome_100_0_1_Rx2_1_recomb0.5_HMMoutput.tsv', 'simAdmixedGenome_100_0_1_Rx4_0_recomb0.6_HMMoutput.tsv', 'simGenome_perfect_100_1_1_recomb0.1_HMMoutput.tsv', 'simAdmixedGenome_100_0_1_Rx5_1_recomb0.05_HMMoutput.tsv', 'simAdmixedGenome_100_0_1_Rx5_0_recomb0.05_HMMoutput.tsv', 'simAdmixedGenome_100_0_1_Rx5_1_recomb0.9_HMMoutput.tsv', 'simAdmixedGenome_100_0_1_Rx2_0_recomb0.9_HMMoutput.tsv', 'simAdmixedGenome_100_0_1_Rx4_0_recomb0.3_HMMoutput.tsv', 'simAdmixedGenome_100_0_1_Rx1_1_recomb0.5_HMMoutput.tsv']\n"
     ]
    }
   ],
   "source": [
    "# Get List of HMM output files\n",
    "#HMM_files_dir = \"/home/lbruce/teams/CSE284_SP21_A00/team3/HMM_Test_Outputs/\"\n",
    "HMM_files_dir = \"/home/lbruce/teams/CSE284_SP21_A00/team3/HMM_Log10_Test_Outputs/\"\n",
    "HMM_files = [f for f in listdir(HMM_files_dir) if join(HMM_files_dir, f).endswith('.tsv') and '_100_' in f]\n",
    "print(HMM_files)"
   ]
  },
  {
   "cell_type": "code",
   "execution_count": 8,
   "id": "polyphonic-portfolio",
   "metadata": {},
   "outputs": [],
   "source": [
    "for f in HMM_files:\n",
    "    input_dir = HMM_files_dir\n",
    "    output_dir = join(HMM_files_dir, \"chromosome_paintings/100bp_beds/\")\n",
    "    tsv_file = f\n",
    "    plot_title = f.split('.')[0] + '.' + f.split('.')[1]\n",
    "    chromosome = '21'\n",
    "    chromosome_length = \"100\"\n",
    "    pop_list = \"AFR EUR\"\n",
    "    \n",
    "    # TODO: if chromosome in file name, extract\n",
    "    # chromosome length is dependent on chr#, if synthetic set to 100\n",
    "    # ex: admixEUR_AFR_chr14_Rx3_c.tsv \n",
    "    if 'chr' in f:\n",
    "        print(\"CHROMOSOME\", f)\n",
    "        chromosome_full = f.split('_')[2]\n",
    "        chromosome = chromosome_full.split('r')[1]\n",
    "        if chromosome == '21':\n",
    "            chromosome_length = \"48129895\"\n",
    "        elif chromosome == '14':\n",
    "            chromosome_length = \"107043718\"\n",
    "            \n",
    "    command = \" \".join([python_dir, chrom_painting_script, \\\n",
    "                       '--input_dir', input_dir, \\\n",
    "                       '--output_dir', output_dir, \\\n",
    "                       '--tsv_file', tsv_file,\\\n",
    "                       '--plot_title', plot_title,\n",
    "                       '--chromosome', chromosome,\\\n",
    "                       '--chromosome_length', chromosome_length,\n",
    "                       '--pop_list', pop_list])\n",
    "    #print(command)\n",
    "    os.system(command)\n",
    "    #break"
   ]
  },
  {
   "cell_type": "markdown",
   "id": "selective-villa",
   "metadata": {},
   "source": [
    "## Pre-HMM TSVs 5000 bp Simulated Data"
   ]
  },
  {
   "cell_type": "code",
   "execution_count": 24,
   "id": "suspected-appearance",
   "metadata": {},
   "outputs": [
    {
     "name": "stdout",
     "output_type": "stream",
     "text": [
      "['simGenome_perfect_5000_0_1.tsv', 'simAdmixPerfectGenomes00_11_5000_Rx1_a.tsv', 'simAdmixedGenome_5000_0_1_Rx2_0.tsv', 'simAdmixedGenome_5000_0_1_Rx1_1.tsv', 'simAdmixPerfectGenomes00_11_5000_Rx5_c.tsv', 'simGenome_perfect_5000_1_1.tsv', 'simAdmixPerfectGenomes00_11_5000_Rx10_b.tsv', 'simAdmixedGenome_5000_0_1_Rx2_1.tsv', 'simGenome_perfect_5000_0_0.tsv', 'simAdmixPerfectGenomes00_11_5000_Rx3_a.tsv', 'simGenome_perfect_5000_1_0.tsv', 'simAdmixPerfectGenomes00_11_5000_Rx10_c.tsv', 'simAdmixPerfectGenomes00_11_5000_Rx5_b.tsv', 'simAdmixedGenome_5000_0_1_Rx1_0.tsv', 'simAdmixedGenome_5000_0_1_Rx4_1.tsv', 'simGenome_5000_0_1.tsv', 'simAdmixPerfectGenomes00_11_5000_Rx5_a.tsv', 'simAdmixedGenome_5000_0_1_Rx10_1.tsv', 'simAdmixPerfectGenomes00_11_5000_Rx1_c.tsv', 'simAdmixedGenome_5000_0_1_Rx5_1.tsv', 'simGenome_5000_1_1.tsv', 'simAdmixPerfectGenomes00_11_5000_Rx3_b.tsv', 'simAdmixedGenome_5000_0_1_Rx10_0.tsv', 'simGenome_5000_0_0.tsv', 'simAdmixedGenome_5000_0_1_Rx4_0.tsv', 'simAdmixPerfectGenomes00_11_5000_Rx10_a.tsv', 'simAdmixPerfectGenomes00_11_5000_Rx3_c.tsv', 'simGenome_5000_1_0.tsv', 'simAdmixedGenome_5000_0_1_Rx5_0.tsv', 'simAdmixPerfectGenomes00_11_5000_Rx1_b.tsv']\n"
     ]
    }
   ],
   "source": [
    "# Get List of TSV files\n",
    "tsv_files_dir = \"/home/lbruce/teams/CSE284_SP21_A00/team3/simulated_files/\"\n",
    "tsv_files = [f for f in listdir(tsv_files_dir) if join(tsv_files_dir, f).endswith('.tsv') and \"_5000\" in f]\n",
    "plot_output_dir = \"/home/lbruce/teams/CSE284_SP21_A00/team3/PreHMM_chromosome_painting_plots/\"\n",
    "print(tsv_files)"
   ]
  },
  {
   "cell_type": "code",
   "execution_count": 25,
   "id": "responsible-holder",
   "metadata": {},
   "outputs": [],
   "source": [
    "for f in tsv_files:\n",
    "    input_dir = tsv_files_dir\n",
    "    output_dir = plot_output_dir\n",
    "    tsv_file = f\n",
    "    plot_title = f.split('.')[0]\n",
    "    chromosome = '21'\n",
    "    chromosome_length = \"5000\"\n",
    "    pop_list = \"AFR EUR\"\n",
    "    \n",
    "    # TODO: if chromosome in file name, extract\n",
    "    # chromosome length is dependent on chr#, if synthetic set to 100\n",
    "    # ex: admixEUR_AFR_chr14_Rx3_c.tsv \n",
    "    if 'chr' in f:\n",
    "        print(\"CHROMOSOME\", f)\n",
    "        chromosome_full = f.split('_')[2]\n",
    "        chromosome = chromosome_full.split('r')[1]\n",
    "        if chromosome == '21':\n",
    "            chromosome_length = \"48129895\"\n",
    "        elif chromosome == '14':\n",
    "            chromosome_length = \"107043718\"\n",
    "            \n",
    "    command = \" \".join([python_dir, chrom_painting_script, \\\n",
    "                       '--input_dir', input_dir, \\\n",
    "                       '--output_dir', output_dir, \\\n",
    "                       '--tsv_file', tsv_file,\\\n",
    "                       '--plot_title', plot_title,\n",
    "                       '--chromosome', chromosome,\\\n",
    "                       '--chromosome_length', chromosome_length,\n",
    "                       '--pop_list', pop_list])\n",
    "    #print(command) \n",
    "    os.system(command)"
   ]
  },
  {
   "cell_type": "markdown",
   "id": "anonymous-teddy",
   "metadata": {},
   "source": [
    "## Post-HMM TSVs 5000 bp Simulated Data"
   ]
  },
  {
   "cell_type": "code",
   "execution_count": 9,
   "id": "opened-habitat",
   "metadata": {},
   "outputs": [
    {
     "name": "stdout",
     "output_type": "stream",
     "text": [
      "['simAdmixedGenome_5000_0_1_Rx1_1_recomb0.001_HMMoutput.tsv', 'simAdmixedGenome_5000_0_1_Rx1_0_recomb0.002_HMMoutput.tsv', 'simAdmixedGenome_5000_0_1_Rx10_1_recomb0.0004_HMMoutput.tsv', 'simAdmixedGenome_5000_0_1_Rx5_0_recomb0.002_HMMoutput.tsv', 'simAdmixedGenome_5000_0_1_Rx5_1_recomb0.001_HMMoutput.tsv', 'simAdmixedGenome_5000_0_1_Rx2_0_recomb0.0004_HMMoutput.tsv', 'simAdmixedGenome_5000_0_1_Rx10_1_recomb0.0001_HMMoutput.tsv', 'simAdmixedGenome_5000_0_1_Rx10_0_recomb0.00013_HMMoutput.tsv', 'simAdmixedGenome_5000_0_1_Rx2_0_recomb0.0001_HMMoutput.tsv', 'simAdmixedGenome_5000_0_1_Rx10_0_recomb0.0001_HMMoutput.tsv', 'simAdmixedGenome_5000_0_1_Rx4_0_recomb0.00013_HMMoutput.tsv', 'simAdmixedGenome_5000_0_1_Rx2_1_recomb0.0001_HMMoutput.tsv', 'simAdmixedGenome_5000_0_1_Rx2_0_recomb0.00013_HMMoutput.tsv', 'simAdmixedGenome_5000_0_1_Rx10_0_recomb0.0004_HMMoutput.tsv', 'simAdmixedGenome_5000_0_1_Rx1_1_recomb0.00013_HMMoutput.tsv', 'simAdmixedGenome_5000_0_1_Rx2_1_recomb0.0004_HMMoutput.tsv', 'simAdmixedGenome_5000_0_1_Rx4_1_recomb0.0002_HMMoutput.tsv', 'simAdmixedGenome_5000_0_1_Rx4_0_recomb0.001_HMMoutput.tsv', 'simAdmixedGenome_5000_0_1_Rx4_1_recomb0.002_HMMoutput.tsv', 'simAdmixedGenome_5000_0_1_Rx5_0_recomb0.01_HMMoutput.tsv', 'simAdmixedGenome_5000_0_1_Rx5_1_recomb0.01_HMMoutput.tsv', 'simAdmixedGenome_5000_0_1_Rx2_1_recomb0.002_HMMoutput.tsv', 'simAdmixedGenome_5000_0_1_Rx2_0_recomb0.001_HMMoutput.tsv', 'simAdmixedGenome_5000_0_1_Rx1_1_recomb0.0004_HMMoutput.tsv', 'simAdmixedGenome_5000_0_1_Rx1_1_recomb0.0001_HMMoutput.tsv', 'simAdmixedGenome_5000_0_1_Rx5_0_recomb0.0002_HMMoutput.tsv', 'simAdmixedGenome_5000_0_1_Rx1_0_recomb0.0001_HMMoutput.tsv', 'simAdmixedGenome_5000_0_1_Rx5_1_recomb0.0002_HMMoutput.tsv', 'simAdmixedGenome_5000_0_1_Rx5_0_recomb0.00013_HMMoutput.tsv', 'simAdmixedGenome_5000_0_1_Rx4_0_recomb0.0002_HMMoutput.tsv', 'simAdmixedGenome_5000_0_1_Rx10_1_recomb0.001_HMMoutput.tsv', 'simAdmixedGenome_5000_0_1_Rx10_0_recomb0.002_HMMoutput.tsv', 'simAdmixedGenome_5000_0_1_Rx4_0_recomb0.01_HMMoutput.tsv', 'simAdmixedGenome_5000_0_1_Rx4_1_recomb0.01_HMMoutput.tsv', 'simAdmixedGenome_5000_0_1_Rx1_0_recomb0.0004_HMMoutput.tsv', 'simAdmixedGenome_5000_0_1_Rx1_0_recomb0.01_HMMoutput.tsv', 'simAdmixedGenome_5000_0_1_Rx1_1_recomb0.002_HMMoutput.tsv', 'simAdmixedGenome_5000_0_1_Rx1_0_recomb0.001_HMMoutput.tsv', 'simAdmixedGenome_5000_0_1_Rx10_1_recomb0.01_HMMoutput.tsv', 'simAdmixedGenome_5000_0_1_Rx5_0_recomb0.001_HMMoutput.tsv', 'simAdmixedGenome_5000_0_1_Rx5_1_recomb0.002_HMMoutput.tsv', 'simAdmixedGenome_5000_0_1_Rx1_1_recomb0.01_HMMoutput.tsv', 'simAdmixedGenome_5000_0_1_Rx10_0_recomb0.01_HMMoutput.tsv', 'simAdmixedGenome_5000_0_1_Rx10_1_recomb0.0002_HMMoutput.tsv', 'simAdmixedGenome_5000_0_1_Rx2_0_recomb0.0002_HMMoutput.tsv', 'simAdmixedGenome_5000_0_1_Rx10_0_recomb0.0002_HMMoutput.tsv', 'simAdmixedGenome_5000_0_1_Rx5_1_recomb0.00013_HMMoutput.tsv', 'simAdmixedGenome_5000_0_1_Rx2_1_recomb0.0002_HMMoutput.tsv', 'simAdmixedGenome_5000_0_1_Rx4_0_recomb0.002_HMMoutput.tsv', 'simAdmixedGenome_5000_0_1_Rx4_1_recomb0.001_HMMoutput.tsv', 'simAdmixedGenome_5000_0_1_Rx4_1_recomb0.0001_HMMoutput.tsv', 'simAdmixedGenome_5000_0_1_Rx5_0_recomb0.0004_HMMoutput.tsv', 'simAdmixedGenome_5000_0_1_Rx2_1_recomb0.001_HMMoutput.tsv', 'simAdmixedGenome_5000_0_1_Rx2_0_recomb0.002_HMMoutput.tsv', 'simAdmixedGenome_5000_0_1_Rx10_1_recomb0.00013_HMMoutput.tsv', 'simAdmixedGenome_5000_0_1_Rx2_0_recomb0.01_HMMoutput.tsv', 'simAdmixedGenome_5000_0_1_Rx4_1_recomb0.0004_HMMoutput.tsv', 'simAdmixedGenome_5000_0_1_Rx1_1_recomb0.0002_HMMoutput.tsv', 'simAdmixedGenome_5000_0_1_Rx5_0_recomb0.0001_HMMoutput.tsv', 'simAdmixedGenome_5000_0_1_Rx2_1_recomb0.01_HMMoutput.tsv', 'simAdmixedGenome_5000_0_1_Rx4_0_recomb0.0004_HMMoutput.tsv', 'simAdmixedGenome_5000_0_1_Rx4_1_recomb0.00013_HMMoutput.tsv', 'simAdmixedGenome_5000_0_1_Rx1_0_recomb0.0002_HMMoutput.tsv', 'simAdmixedGenome_5000_0_1_Rx5_1_recomb0.0001_HMMoutput.tsv', 'simAdmixedGenome_5000_0_1_Rx10_1_recomb0.002_HMMoutput.tsv', 'simAdmixedGenome_5000_0_1_Rx10_0_recomb0.001_HMMoutput.tsv', 'simAdmixedGenome_5000_0_1_Rx1_0_recomb0.00013_HMMoutput.tsv', 'simAdmixedGenome_5000_0_1_Rx4_0_recomb0.0001_HMMoutput.tsv', 'simAdmixedGenome_5000_0_1_Rx5_1_recomb0.0004_HMMoutput.tsv', 'simAdmixedGenome_5000_0_1_Rx2_1_recomb0.00013_HMMoutput.tsv']\n"
     ]
    }
   ],
   "source": [
    "# Get List of HMM output files\n",
    "#HMM_files_dir = \"/home/lbruce/teams/CSE284_SP21_A00/team3/HMM_Test_Outputs/\"\n",
    "HMM_files_dir = \"/home/lbruce/teams/CSE284_SP21_A00/team3/HMM_Log10_Test_Outputs/\"\n",
    "HMM_files = [f for f in listdir(HMM_files_dir) if join(HMM_files_dir, f).endswith('.tsv') and \"_5000\" in f]\n",
    "print(HMM_files)"
   ]
  },
  {
   "cell_type": "code",
   "execution_count": 17,
   "id": "musical-skirt",
   "metadata": {},
   "outputs": [],
   "source": [
    "for f in HMM_files:\n",
    "    input_dir = HMM_files_dir\n",
    "    output_dir = join(HMM_files_dir, \"chromosome_paintings/5000bp_beds/\")\n",
    "    tsv_file = f\n",
    "    plot_title = f.split('.')[0] + '.' + f.split('.')[1]\n",
    "    chromosome = '21'\n",
    "    chromosome_length = \"5000\"\n",
    "    pop_list = \"AFR EUR\"\n",
    "    \n",
    "    # TODO: if chromosome in file name, extract\n",
    "    # chromosome length is dependent on chr#, if synthetic set to 100\n",
    "    # ex: admixEUR_AFR_chr14_Rx3_c.tsv \n",
    "    if 'chr' in f:\n",
    "        print(\"CHROMOSOME\", f)\n",
    "        chromosome_full = f.split('_')[2]\n",
    "        chromosome = chromosome_full.split('r')[1]\n",
    "        if chromosome == '21':\n",
    "            chromosome_length = \"48129895\"\n",
    "        elif chromosome == '14':\n",
    "            chromosome_length = \"107043718\"\n",
    "            \n",
    "    command = \" \".join([python_dir, chrom_painting_script, \\\n",
    "                       '--input_dir', input_dir, \\\n",
    "                       '--output_dir', output_dir, \\\n",
    "                       '--tsv_file', tsv_file,\\\n",
    "                       '--plot_title', plot_title,\n",
    "                       '--chromosome', chromosome,\\\n",
    "                       '--chromosome_length', chromosome_length,\n",
    "                       '--pop_list', pop_list])\n",
    "    #print(command)\n",
    "    os.system(command)\n",
    "    #break\n",
    "\n"
   ]
  },
  {
   "cell_type": "markdown",
   "id": "after-infrared",
   "metadata": {},
   "source": [
    "### Chr14 HMM Outputs"
   ]
  },
  {
   "cell_type": "markdown",
   "id": "exciting-faculty",
   "metadata": {},
   "source": [
    "### Truth"
   ]
  },
  {
   "cell_type": "code",
   "execution_count": 33,
   "id": "express-sensitivity",
   "metadata": {},
   "outputs": [
    {
     "name": "stdout",
     "output_type": "stream",
     "text": [
      "/opt/conda/bin/python /home/lbruce/teams/CSE284_SP21_A00/team3/Git/cse284_project/plot_chromosome_painting.py --input_dir /home/lbruce/teams/CSE284_SP21_A00/team3/simulated_files/ --output_dir /home/lbruce/teams/CSE284_SP21_A00/team3/PreHMM_chromosome_painting_plots/ --tsv_file admixEUR_AFR_chr14_Rx1_b.tsv --plot_title Chr14_Admixed_Rx1_b_Truth --chromosome 14 --chromosome_length 107043718 --pop_list AFR EUR\n"
     ]
    }
   ],
   "source": [
    "truth_files_dir = \"/home/lbruce/teams/CSE284_SP21_A00/team3/simulated_files/\"\n",
    "input_dir = truth_files_dir\n",
    "output_dir = \"/home/lbruce/teams/CSE284_SP21_A00/team3/PreHMM_chromosome_painting_plots/\"\n",
    "tsv_file = \"admixEUR_AFR_chr14_Rx1_b.tsv\"\n",
    "plot_title = \"Chr14_Admixed_Rx1_b_Truth\"\n",
    "chromosome = '14'\n",
    "chromosome_length = \"107043718\"\n",
    "pop_list = \"AFR EUR\"\n",
    "\n",
    "command = \" \".join([python_dir, chrom_painting_script, \\\n",
    "                       '--input_dir', input_dir, \\\n",
    "                       '--output_dir', output_dir, \\\n",
    "                       '--tsv_file', tsv_file,\\\n",
    "                       '--plot_title', plot_title,\n",
    "                       '--chromosome', chromosome,\\\n",
    "                       '--chromosome_length', chromosome_length,\n",
    "                       '--pop_list', pop_list])\n",
    "print(command)"
   ]
  },
  {
   "cell_type": "markdown",
   "id": "champion-discipline",
   "metadata": {},
   "source": [
    "### HMM output"
   ]
  },
  {
   "cell_type": "code",
   "execution_count": 26,
   "id": "wound-steal",
   "metadata": {},
   "outputs": [
    {
     "data": {
      "text/html": [
       "<div>\n",
       "<style scoped>\n",
       "    .dataframe tbody tr th:only-of-type {\n",
       "        vertical-align: middle;\n",
       "    }\n",
       "\n",
       "    .dataframe tbody tr th {\n",
       "        vertical-align: top;\n",
       "    }\n",
       "\n",
       "    .dataframe thead th {\n",
       "        text-align: right;\n",
       "    }\n",
       "</style>\n",
       "<table border=\"1\" class=\"dataframe\">\n",
       "  <thead>\n",
       "    <tr style=\"text-align: right;\">\n",
       "      <th></th>\n",
       "      <th>CHR</th>\n",
       "      <th>POS</th>\n",
       "      <th>POP1</th>\n",
       "      <th>POP2</th>\n",
       "    </tr>\n",
       "  </thead>\n",
       "  <tbody>\n",
       "    <tr>\n",
       "      <th>0</th>\n",
       "      <td>14</td>\n",
       "      <td>19000017</td>\n",
       "      <td>1</td>\n",
       "      <td>1</td>\n",
       "    </tr>\n",
       "    <tr>\n",
       "      <th>1</th>\n",
       "      <td>14</td>\n",
       "      <td>19000050</td>\n",
       "      <td>1</td>\n",
       "      <td>1</td>\n",
       "    </tr>\n",
       "    <tr>\n",
       "      <th>2</th>\n",
       "      <td>14</td>\n",
       "      <td>19000056</td>\n",
       "      <td>1</td>\n",
       "      <td>1</td>\n",
       "    </tr>\n",
       "    <tr>\n",
       "      <th>3</th>\n",
       "      <td>14</td>\n",
       "      <td>19000059</td>\n",
       "      <td>1</td>\n",
       "      <td>1</td>\n",
       "    </tr>\n",
       "    <tr>\n",
       "      <th>4</th>\n",
       "      <td>14</td>\n",
       "      <td>19000060</td>\n",
       "      <td>1</td>\n",
       "      <td>1</td>\n",
       "    </tr>\n",
       "  </tbody>\n",
       "</table>\n",
       "</div>"
      ],
      "text/plain": [
       "   CHR       POS POP1 POP2\n",
       "0   14  19000017    1    1\n",
       "1   14  19000050    1    1\n",
       "2   14  19000056    1    1\n",
       "3   14  19000059    1    1\n",
       "4   14  19000060    1    1"
      ]
     },
     "execution_count": 26,
     "metadata": {},
     "output_type": "execute_result"
    }
   ],
   "source": [
    "import pandas as pd\n",
    "import numpy as np\n",
    "HMM_files_dir = \"/home/lbruce/teams/CSE284_SP21_A00/team3/HMM_Log10_Test_Outputs/\"\n",
    "#tsv_file = join(HMM_files_dir, \"210527_admixEUR_AFR_chr14_Rx1_a_long_runtime_test.tsv\")\n",
    "#formatted_tsv_file = join(HMM_files_dir, \"admixEUR_AFR_chr14_Rx1_b_recomb0.01_HMMoutput_formatted.tsv\")\n",
    "tsv_file = join(HMM_files_dir, \"admixEUR_AFR_chr14_Rx1_b_recomb0.01_HMMoutput.tsv\")\n",
    "formatted_tsv_file = join(HMM_files_dir, \"admixEUR_AFR_chr14_Rx1_b_recomb0.01_HMMoutput_formatted.tsv\")\n",
    "df = pd.read_csv(tsv_file, sep=\"\\t\")\n",
    "#display(df.head())\n",
    "df['POP1'] = np.where((df.POP1 == 'EUR'), 1,df.POP1)\n",
    "df['POP1'] = np.where((df.POP1 == 'AFR'), 0,df.POP1)\n",
    "df['POP2'] = np.where((df.POP2 == 'EUR'), 1,df.POP2)\n",
    "df['POP2'] = np.where((df.POP2 == 'AFR'), 0,df.POP2)\n",
    "#df.to_csv(formatted_tsv_file, sep='\\t', header=True, index=False)\n",
    "df.head()"
   ]
  },
  {
   "cell_type": "code",
   "execution_count": 30,
   "id": "raised-shirt",
   "metadata": {},
   "outputs": [
    {
     "name": "stdout",
     "output_type": "stream",
     "text": [
      "/opt/conda/bin/python /home/lbruce/teams/CSE284_SP21_A00/team3/Git/cse284_project/plot_chromosome_painting.py --input_dir /home/lbruce/teams/CSE284_SP21_A00/team3/HMM_Log10_Test_Outputs/ --output_dir /home/lbruce/teams/CSE284_SP21_A00/team3/HMM_Log10_Test_Outputs/chromosome_paintings/ --tsv_file admixEUR_AFR_chr14_Rx1_b_recomb0.01_HMMoutput_formatted.tsv --plot_title Chr14_Admixed_Rx1_Recombination=0.01% --chromosome 14 --chromosome_length 107043718 --pop_list AFR EUR\n"
     ]
    }
   ],
   "source": [
    "# Create Chr14 Plot\n",
    "HMM_files_dir = \"/home/lbruce/teams/CSE284_SP21_A00/team3/HMM_Log10_Test_Outputs/\"\n",
    "input_dir = HMM_files_dir\n",
    "output_dir = join(HMM_files_dir, \"chromosome_paintings/\")\n",
    "#tsv_file = \"210527_admixEUR_AFR_chr14_Rx1_a_long_runtime_test_formatted.tsv\"\n",
    "#plot_title = \"210527_admixEUR_AFR_chr14_Rx1_a_long_runtime_test\"\n",
    "tsv_file = \"admixEUR_AFR_chr14_Rx1_b_recomb0.01_HMMoutput_formatted.tsv\"\n",
    "plot_title = \"Chr14_Admixed_Rx1_Recombination=0.01%\"\n",
    "chromosome = '14'\n",
    "chromosome_length = \"107043718\"\n",
    "pop_list = \"AFR EUR\"\n",
    "\n",
    "command = \" \".join([python_dir, chrom_painting_script, \\\n",
    "                       '--input_dir', input_dir, \\\n",
    "                       '--output_dir', output_dir, \\\n",
    "                       '--tsv_file', tsv_file,\\\n",
    "                       '--plot_title', plot_title,\n",
    "                       '--chromosome', chromosome,\\\n",
    "                       '--chromosome_length', chromosome_length,\n",
    "                       '--pop_list', pop_list])\n",
    "print(command)"
   ]
  },
  {
   "cell_type": "markdown",
   "id": "numerical-reducing",
   "metadata": {},
   "source": [
    "## Chromosome 21 "
   ]
  },
  {
   "cell_type": "markdown",
   "id": "urban-victoria",
   "metadata": {},
   "source": [
    "### Truth"
   ]
  },
  {
   "cell_type": "code",
   "execution_count": 35,
   "id": "floating-basic",
   "metadata": {},
   "outputs": [
    {
     "name": "stdout",
     "output_type": "stream",
     "text": [
      "/opt/conda/bin/python /home/lbruce/teams/CSE284_SP21_A00/team3/Git/cse284_project/plot_chromosome_painting.py --input_dir /home/lbruce/teams/CSE284_SP21_A00/team3/simulated_files/ --output_dir /home/lbruce/teams/CSE284_SP21_A00/team3/PreHMM_chromosome_painting_plots/ --tsv_file admixEUR_AFR_chr21_Rx1_a.tsv --plot_title Chr21_Admixed_Rx1_a_Truth --chromosome 21 --chromosome_length 48129895 --pop_list AFR EUR\n"
     ]
    }
   ],
   "source": [
    "truth_files_dir = \"/home/lbruce/teams/CSE284_SP21_A00/team3/simulated_files/\"\n",
    "input_dir = truth_files_dir\n",
    "output_dir = \"/home/lbruce/teams/CSE284_SP21_A00/team3/PreHMM_chromosome_painting_plots/\"\n",
    "tsv_file = \"admixEUR_AFR_chr21_Rx1_a.tsv\"\n",
    "plot_title = \"Chr21_Admixed_Rx1_a_Truth\"\n",
    "chromosome = '21'\n",
    "chromosome_length = \"48129895\"\n",
    "pop_list = \"AFR EUR\"\n",
    "\n",
    "command = \" \".join([python_dir, chrom_painting_script, \\\n",
    "                       '--input_dir', input_dir, \\\n",
    "                       '--output_dir', output_dir, \\\n",
    "                       '--tsv_file', tsv_file,\\\n",
    "                       '--plot_title', plot_title,\n",
    "                       '--chromosome', chromosome,\\\n",
    "                       '--chromosome_length', chromosome_length,\n",
    "                       '--pop_list', pop_list])\n",
    "print(command)"
   ]
  },
  {
   "cell_type": "markdown",
   "id": "split-store",
   "metadata": {},
   "source": [
    "### HMM output"
   ]
  },
  {
   "cell_type": "code",
   "execution_count": 29,
   "id": "early-portland",
   "metadata": {},
   "outputs": [
    {
     "data": {
      "text/html": [
       "<div>\n",
       "<style scoped>\n",
       "    .dataframe tbody tr th:only-of-type {\n",
       "        vertical-align: middle;\n",
       "    }\n",
       "\n",
       "    .dataframe tbody tr th {\n",
       "        vertical-align: top;\n",
       "    }\n",
       "\n",
       "    .dataframe thead th {\n",
       "        text-align: right;\n",
       "    }\n",
       "</style>\n",
       "<table border=\"1\" class=\"dataframe\">\n",
       "  <thead>\n",
       "    <tr style=\"text-align: right;\">\n",
       "      <th></th>\n",
       "      <th>CHR</th>\n",
       "      <th>POS</th>\n",
       "      <th>POP1</th>\n",
       "      <th>POP2</th>\n",
       "    </tr>\n",
       "  </thead>\n",
       "  <tbody>\n",
       "    <tr>\n",
       "      <th>0</th>\n",
       "      <td>21</td>\n",
       "      <td>9411239</td>\n",
       "      <td>0</td>\n",
       "      <td>0</td>\n",
       "    </tr>\n",
       "    <tr>\n",
       "      <th>1</th>\n",
       "      <td>21</td>\n",
       "      <td>9411245</td>\n",
       "      <td>0</td>\n",
       "      <td>0</td>\n",
       "    </tr>\n",
       "    <tr>\n",
       "      <th>2</th>\n",
       "      <td>21</td>\n",
       "      <td>9411264</td>\n",
       "      <td>0</td>\n",
       "      <td>0</td>\n",
       "    </tr>\n",
       "    <tr>\n",
       "      <th>3</th>\n",
       "      <td>21</td>\n",
       "      <td>9411267</td>\n",
       "      <td>0</td>\n",
       "      <td>0</td>\n",
       "    </tr>\n",
       "    <tr>\n",
       "      <th>4</th>\n",
       "      <td>21</td>\n",
       "      <td>9411302</td>\n",
       "      <td>0</td>\n",
       "      <td>0</td>\n",
       "    </tr>\n",
       "  </tbody>\n",
       "</table>\n",
       "</div>"
      ],
      "text/plain": [
       "   CHR      POS POP1 POP2\n",
       "0   21  9411239    0    0\n",
       "1   21  9411245    0    0\n",
       "2   21  9411264    0    0\n",
       "3   21  9411267    0    0\n",
       "4   21  9411302    0    0"
      ]
     },
     "execution_count": 29,
     "metadata": {},
     "output_type": "execute_result"
    }
   ],
   "source": [
    "import pandas as pd\n",
    "import numpy as np\n",
    "HMM_files_dir = \"/home/lbruce/teams/CSE284_SP21_A00/team3/HMM_Log10_Test_Outputs/\"\n",
    "tsv_file = join(HMM_files_dir, \"admixEUR_AFR_chr21_Rx4_a_recomb0.01_HMMoutput.tsv\")\n",
    "formatted_tsv_file = join(HMM_files_dir, \"admixEUR_AFR_chr21_Rx4_a_recomb0.01_HMMoutput.tsv_formatted.tsv\")\n",
    "df = pd.read_csv(tsv_file, sep=\"\\t\")\n",
    "#display(df.head())\n",
    "df['POP1'] = np.where((df.POP1 == 'EUR'), 1,df.POP1)\n",
    "df['POP1'] = np.where((df.POP1 == 'AFR'), 0,df.POP1)\n",
    "df['POP2'] = np.where((df.POP2 == 'EUR'), 1,df.POP2)\n",
    "df['POP2'] = np.where((df.POP2 == 'AFR'), 0,df.POP2)\n",
    "#df.to_csv(formatted_tsv_file, sep='\\t', header=True, index=False)\n",
    "df.head()"
   ]
  },
  {
   "cell_type": "code",
   "execution_count": 31,
   "id": "relative-america",
   "metadata": {},
   "outputs": [
    {
     "name": "stdout",
     "output_type": "stream",
     "text": [
      "/opt/conda/bin/python /home/lbruce/teams/CSE284_SP21_A00/team3/Git/cse284_project/plot_chromosome_painting.py --input_dir /home/lbruce/teams/CSE284_SP21_A00/team3/HMM_Log10_Test_Outputs/ --output_dir /home/lbruce/teams/CSE284_SP21_A00/team3/HMM_Log10_Test_Outputs/chromosome_paintings/ --tsv_file admixEUR_AFR_chr21_Rx4_a_recomb0.01_HMMoutput.tsv_formatted.tsv --plot_title Chr21_Admixed_Rx1_Recombination_0.01 --chromosome 21 --chromosome_length 48129895 --pop_list AFR EUR\n"
     ]
    }
   ],
   "source": [
    "input_dir = HMM_files_dir\n",
    "output_dir = join(HMM_files_dir, \"chromosome_paintings/\")\n",
    "tsv_file = \"admixEUR_AFR_chr21_Rx4_a_recomb0.01_HMMoutput.tsv_formatted.tsv\"\n",
    "plot_title = \"Chr21_Admixed_Rx1_Recombination_0.01\"\n",
    "chromosome = '21'\n",
    "chromosome_length = \"48129895\"\n",
    "pop_list = \"AFR EUR\"\n",
    "\n",
    "command = \" \".join([python_dir, chrom_painting_script, \\\n",
    "                       '--input_dir', input_dir, \\\n",
    "                       '--output_dir', output_dir, \\\n",
    "                       '--tsv_file', tsv_file,\\\n",
    "                       '--plot_title', plot_title,\n",
    "                       '--chromosome', chromosome,\\\n",
    "                       '--chromosome_length', chromosome_length,\n",
    "                       '--pop_list', pop_list])\n",
    "print(command)"
   ]
  },
  {
   "cell_type": "code",
   "execution_count": null,
   "id": "competitive-bottle",
   "metadata": {},
   "outputs": [],
   "source": []
  }
 ],
 "metadata": {
  "kernelspec": {
   "display_name": "Python 3",
   "language": "python",
   "name": "python3"
  },
  "language_info": {
   "codemirror_mode": {
    "name": "ipython",
    "version": 3
   },
   "file_extension": ".py",
   "mimetype": "text/x-python",
   "name": "python",
   "nbconvert_exporter": "python",
   "pygments_lexer": "ipython3",
   "version": "3.8.6"
  }
 },
 "nbformat": 4,
 "nbformat_minor": 5
}
