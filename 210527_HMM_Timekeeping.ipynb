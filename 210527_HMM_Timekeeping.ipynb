{
 "cells": [
  {
   "cell_type": "markdown",
   "id": "designed-ballet",
   "metadata": {},
   "source": [
    "#### Summary:\n",
    "In this notebook we'll use the updated LAI_hmm_script_progress.py function which has a progress bar to compare our HMM runtime between very small and very large datasets."
   ]
  },
  {
   "cell_type": "code",
   "execution_count": 1,
   "id": "billion-credits",
   "metadata": {},
   "outputs": [],
   "source": [
    "import random as rn\n",
    "import numpy as np\n",
    "import pandas as pd\n",
    "import sys\n",
    "import math"
   ]
  },
  {
   "cell_type": "code",
   "execution_count": 2,
   "id": "graduate-degree",
   "metadata": {},
   "outputs": [],
   "source": [
    "import datetime"
   ]
  },
  {
   "cell_type": "code",
   "execution_count": 3,
   "id": "brown-bidding",
   "metadata": {},
   "outputs": [],
   "source": [
    "from LAI_hmm_scriptFINAL import HMMOptimalPathLAI, HammingDist, makeSNPseq, standardizeIndices"
   ]
  },
  {
   "cell_type": "code",
   "execution_count": 5,
   "id": "equivalent-pollution",
   "metadata": {},
   "outputs": [],
   "source": [
    "from LAI_hmm_script_log10_progress import HMMOptimalPathLAI_progress"
   ]
  },
  {
   "cell_type": "markdown",
   "id": "nasty-deadline",
   "metadata": {},
   "source": [
    "# HMM Running Function"
   ]
  },
  {
   "cell_type": "code",
   "execution_count": 6,
   "id": "original-revolution",
   "metadata": {},
   "outputs": [],
   "source": [
    "def HMM_implementation_wrapper(popA, popB, genotype_fp, emission_df, recomb, output_fp, chrm):\n",
    "    #read in sample genotype to test -- assumes current dir is the team3 dir\n",
    "    genotype_df = pd.read_csv(genotype_fp, sep='\\t',header = 0)\n",
    "\n",
    "    #cut down both dfs to only be positions shared in both\n",
    "    fin_emission_df, fin_genotype_df = standardizeIndices(emission_df, genotype_df, \"POS\")\n",
    "    now = datetime.datetime.now()\n",
    "    print (\"Files cut to share POS\", now.strftime(\"%Y-%m-%d %H:%M:%S\"))\n",
    "    \n",
    "    #create SNPseq\n",
    "    a1_idx = list(fin_genotype_df.columns).index('A1')\n",
    "    a2_idx = list(fin_genotype_df.columns).index('A2')\n",
    "    snps = makeSNPseq(fin_genotype_df,a1_idx,a2_idx)\n",
    "    now = datetime.datetime.now()\n",
    "    print (\"SNP sequence created\", now.strftime(\"%Y-%m-%d %H:%M:%S\"))\n",
    "    \n",
    "    #create the hmm object\n",
    "    hmm = HMMOptimalPathLAI_progress(popA, popB, fin_emission_df, recomb, snps)\n",
    "    hmm.get_transition_matrix()\n",
    "    now = datetime.datetime.now()\n",
    "    print (\"Transition matrix made\", now.strftime(\"%Y-%m-%d %H:%M:%S\"))\n",
    "    \n",
    "    #perform the Viterbi algorithm and reconstruct the most probable path through states\n",
    "    hmm.get_optimal_path()\n",
    "    now = datetime.datetime.now()\n",
    "    print (\"Optimal path algorithm complete\", now.strftime(\"%Y-%m-%d %H:%M:%S\"))\n",
    "    \n",
    "    hmm.reconstruct_path()\n",
    "    now = datetime.datetime.now()\n",
    "    print (\"Path reconstruction complete\", now.strftime(\"%Y-%m-%d %H:%M:%S\"))\n",
    "\n",
    "    #convert the path to the desired output format (pass the string to use for CHR col)\n",
    "    path_df = hmm.output_path(chrm)\n",
    "    path_df.to_csv(output_fp,sep='\\t',header=True,index=False)\n",
    "    now = datetime.datetime.now()\n",
    "    print (\"Path saved\", now.strftime(\"%Y-%m-%d %H:%M:%S\"))"
   ]
  },
  {
   "cell_type": "markdown",
   "id": "growing-error",
   "metadata": {},
   "source": [
    "# Short Data"
   ]
  },
  {
   "cell_type": "code",
   "execution_count": 8,
   "id": "worth-external",
   "metadata": {},
   "outputs": [],
   "source": [
    "#define names of the two test populations\n",
    "test_PopA = \"0\"\n",
    "test_PopB = \"1\""
   ]
  },
  {
   "cell_type": "code",
   "execution_count": 11,
   "id": "chief-stand",
   "metadata": {},
   "outputs": [
    {
     "data": {
      "text/html": [
       "<div>\n",
       "<style scoped>\n",
       "    .dataframe tbody tr th:only-of-type {\n",
       "        vertical-align: middle;\n",
       "    }\n",
       "\n",
       "    .dataframe tbody tr th {\n",
       "        vertical-align: top;\n",
       "    }\n",
       "\n",
       "    .dataframe thead th {\n",
       "        text-align: right;\n",
       "    }\n",
       "</style>\n",
       "<table border=\"1\" class=\"dataframe\">\n",
       "  <thead>\n",
       "    <tr style=\"text-align: right;\">\n",
       "      <th></th>\n",
       "      <th>POS</th>\n",
       "      <th>0_A</th>\n",
       "      <th>0_C</th>\n",
       "      <th>0_G</th>\n",
       "      <th>0_T</th>\n",
       "      <th>1_A</th>\n",
       "      <th>1_C</th>\n",
       "      <th>1_G</th>\n",
       "      <th>1_T</th>\n",
       "    </tr>\n",
       "  </thead>\n",
       "  <tbody>\n",
       "    <tr>\n",
       "      <th>0</th>\n",
       "      <td>0</td>\n",
       "      <td>0.0000</td>\n",
       "      <td>0.3553</td>\n",
       "      <td>0.0000</td>\n",
       "      <td>0.6447</td>\n",
       "      <td>0.0000</td>\n",
       "      <td>0.5719</td>\n",
       "      <td>0.0000</td>\n",
       "      <td>0.4281</td>\n",
       "    </tr>\n",
       "    <tr>\n",
       "      <th>1</th>\n",
       "      <td>1</td>\n",
       "      <td>0.0000</td>\n",
       "      <td>0.7580</td>\n",
       "      <td>0.0000</td>\n",
       "      <td>0.2420</td>\n",
       "      <td>0.0000</td>\n",
       "      <td>0.4374</td>\n",
       "      <td>0.0000</td>\n",
       "      <td>0.5626</td>\n",
       "    </tr>\n",
       "    <tr>\n",
       "      <th>2</th>\n",
       "      <td>2</td>\n",
       "      <td>0.1303</td>\n",
       "      <td>0.0000</td>\n",
       "      <td>0.0000</td>\n",
       "      <td>0.8697</td>\n",
       "      <td>0.4271</td>\n",
       "      <td>0.0000</td>\n",
       "      <td>0.0000</td>\n",
       "      <td>0.5729</td>\n",
       "    </tr>\n",
       "    <tr>\n",
       "      <th>3</th>\n",
       "      <td>3</td>\n",
       "      <td>0.2157</td>\n",
       "      <td>0.0000</td>\n",
       "      <td>0.7843</td>\n",
       "      <td>0.0000</td>\n",
       "      <td>0.3534</td>\n",
       "      <td>0.0000</td>\n",
       "      <td>0.6466</td>\n",
       "      <td>0.0000</td>\n",
       "    </tr>\n",
       "    <tr>\n",
       "      <th>4</th>\n",
       "      <td>4</td>\n",
       "      <td>0.2444</td>\n",
       "      <td>0.0000</td>\n",
       "      <td>0.0000</td>\n",
       "      <td>0.7556</td>\n",
       "      <td>0.3655</td>\n",
       "      <td>0.0000</td>\n",
       "      <td>0.0000</td>\n",
       "      <td>0.6345</td>\n",
       "    </tr>\n",
       "  </tbody>\n",
       "</table>\n",
       "</div>"
      ],
      "text/plain": [
       "   POS     0_A     0_C     0_G     0_T     1_A     1_C     1_G     1_T\n",
       "0    0  0.0000  0.3553  0.0000  0.6447  0.0000  0.5719  0.0000  0.4281\n",
       "1    1  0.0000  0.7580  0.0000  0.2420  0.0000  0.4374  0.0000  0.5626\n",
       "2    2  0.1303  0.0000  0.0000  0.8697  0.4271  0.0000  0.0000  0.5729\n",
       "3    3  0.2157  0.0000  0.7843  0.0000  0.3534  0.0000  0.6466  0.0000\n",
       "4    4  0.2444  0.0000  0.0000  0.7556  0.3655  0.0000  0.0000  0.6345"
      ]
     },
     "execution_count": 11,
     "metadata": {},
     "output_type": "execute_result"
    }
   ],
   "source": [
    "#read in emissions data (simulated df)\n",
    "emission_fp1 = \"Git/cse284_project/Data/simData_N2_P100_seed518.tsv\" #asumes in team3 dir\n",
    "emission_df1 = pd.read_csv(emission_fp1, sep='\\t',header=0)\n",
    "\n",
    "#renaming the columns (only necessary for simulated data)\n",
    "colnames = [\"POS\",\"0_A\",\"0_C\",\"0_G\",\"0_T\",\"1_A\",\"1_C\",\"1_G\",\"1_T\"]\n",
    "emission_df1.columns = colnames\n",
    "emission_df1.head()"
   ]
  },
  {
   "cell_type": "code",
   "execution_count": 12,
   "id": "adolescent-picture",
   "metadata": {},
   "outputs": [
    {
     "data": {
      "text/html": [
       "<div>\n",
       "<style scoped>\n",
       "    .dataframe tbody tr th:only-of-type {\n",
       "        vertical-align: middle;\n",
       "    }\n",
       "\n",
       "    .dataframe tbody tr th {\n",
       "        vertical-align: top;\n",
       "    }\n",
       "\n",
       "    .dataframe thead th {\n",
       "        text-align: right;\n",
       "    }\n",
       "</style>\n",
       "<table border=\"1\" class=\"dataframe\">\n",
       "  <thead>\n",
       "    <tr style=\"text-align: right;\">\n",
       "      <th></th>\n",
       "      <th>POS</th>\n",
       "      <th>A1</th>\n",
       "      <th>A2</th>\n",
       "      <th>POP1</th>\n",
       "      <th>POP2</th>\n",
       "    </tr>\n",
       "  </thead>\n",
       "  <tbody>\n",
       "    <tr>\n",
       "      <th>0</th>\n",
       "      <td>0</td>\n",
       "      <td>C</td>\n",
       "      <td>T</td>\n",
       "      <td>0</td>\n",
       "      <td>0</td>\n",
       "    </tr>\n",
       "    <tr>\n",
       "      <th>1</th>\n",
       "      <td>1</td>\n",
       "      <td>C</td>\n",
       "      <td>C</td>\n",
       "      <td>0</td>\n",
       "      <td>0</td>\n",
       "    </tr>\n",
       "    <tr>\n",
       "      <th>2</th>\n",
       "      <td>2</td>\n",
       "      <td>T</td>\n",
       "      <td>T</td>\n",
       "      <td>0</td>\n",
       "      <td>0</td>\n",
       "    </tr>\n",
       "    <tr>\n",
       "      <th>3</th>\n",
       "      <td>3</td>\n",
       "      <td>A</td>\n",
       "      <td>G</td>\n",
       "      <td>0</td>\n",
       "      <td>0</td>\n",
       "    </tr>\n",
       "    <tr>\n",
       "      <th>4</th>\n",
       "      <td>4</td>\n",
       "      <td>T</td>\n",
       "      <td>T</td>\n",
       "      <td>0</td>\n",
       "      <td>0</td>\n",
       "    </tr>\n",
       "  </tbody>\n",
       "</table>\n",
       "</div>"
      ],
      "text/plain": [
       "   POS A1 A2  POP1  POP2\n",
       "0    0  C  T     0     0\n",
       "1    1  C  C     0     0\n",
       "2    2  T  T     0     0\n",
       "3    3  A  G     0     0\n",
       "4    4  T  T     0     0"
      ]
     },
     "execution_count": 12,
     "metadata": {},
     "output_type": "execute_result"
    }
   ],
   "source": [
    "#read in sample genotype to test\n",
    "#assumes current dir is the team3 dir\n",
    "genotype_fp1 = \"Git/cse284_project/Data/simGenome_100_0_0.tsv\"\n",
    "genotype_df1 = pd.read_csv(genotype_fp1, sep='\\t',header = 0)\n",
    "genotype_df1.head()"
   ]
  },
  {
   "cell_type": "code",
   "execution_count": 24,
   "id": "controlling-catalyst",
   "metadata": {},
   "outputs": [
    {
     "name": "stderr",
     "output_type": "stream",
     "text": [
      "get_optimal_path: 19it [00:00, 169.89it/s]"
     ]
    },
    {
     "name": "stdout",
     "output_type": "stream",
     "text": [
      "Files cut to share POS 2021-05-27 13:28:27\n",
      "SNP sequence created 2021-05-27 13:28:27\n",
      "Transition matrix made 2021-05-27 13:28:27\n"
     ]
    },
    {
     "name": "stderr",
     "output_type": "stream",
     "text": [
      "get_optimal_path: 100it [00:00, 177.50it/s]\n",
      "reconstruct_path: 100%|██████████| 100/100 [00:00<00:00, 373823.89it/s]\n",
      "output_path: 100%|██████████| 100/100 [00:00<00:00, 668948.01it/s]\n"
     ]
    },
    {
     "name": "stdout",
     "output_type": "stream",
     "text": [
      "Optimal path algorithm complete 2021-05-27 13:28:28\n",
      "Path reconstruction complete 2021-05-27 13:28:28\n",
      "Path saved 2021-05-27 13:28:28\n"
     ]
    }
   ],
   "source": [
    "output_fp1 = \"HMM_Test_Outputs/210527_simGenome_100_0_0_short_runtime_test.tsv\"\n",
    "HMM_implementation_wrapper(test_PopA, test_PopB, genotype_fp1, emission_df1, 0.1, output_fp1, \"21\")"
   ]
  },
  {
   "cell_type": "markdown",
   "id": "descending-nylon",
   "metadata": {},
   "source": [
    "# Huge Data"
   ]
  },
  {
   "cell_type": "code",
   "execution_count": 6,
   "id": "motivated-chocolate",
   "metadata": {},
   "outputs": [],
   "source": [
    "popA = \"AFR\"\n",
    "popB = \"EUR\""
   ]
  },
  {
   "cell_type": "markdown",
   "id": "written-excuse",
   "metadata": {},
   "source": [
    "Emissions files"
   ]
  },
  {
   "cell_type": "code",
   "execution_count": 7,
   "id": "greatest-partnership",
   "metadata": {},
   "outputs": [
    {
     "data": {
      "text/html": [
       "<div>\n",
       "<style scoped>\n",
       "    .dataframe tbody tr th:only-of-type {\n",
       "        vertical-align: middle;\n",
       "    }\n",
       "\n",
       "    .dataframe tbody tr th {\n",
       "        vertical-align: top;\n",
       "    }\n",
       "\n",
       "    .dataframe thead th {\n",
       "        text-align: right;\n",
       "    }\n",
       "</style>\n",
       "<table border=\"1\" class=\"dataframe\">\n",
       "  <thead>\n",
       "    <tr style=\"text-align: right;\">\n",
       "      <th></th>\n",
       "      <th>CHR</th>\n",
       "      <th>POS</th>\n",
       "      <th>SNP</th>\n",
       "      <th>A2</th>\n",
       "      <th>A1</th>\n",
       "      <th>MAF_AFR</th>\n",
       "      <th>MAF_EUR</th>\n",
       "      <th>AFR_A</th>\n",
       "      <th>AFR_C</th>\n",
       "      <th>AFR_G</th>\n",
       "      <th>AFR_T</th>\n",
       "      <th>EUR_A</th>\n",
       "      <th>EUR_C</th>\n",
       "      <th>EUR_G</th>\n",
       "      <th>EUR_T</th>\n",
       "    </tr>\n",
       "  </thead>\n",
       "  <tbody>\n",
       "    <tr>\n",
       "      <th>0</th>\n",
       "      <td>14</td>\n",
       "      <td>19000017</td>\n",
       "      <td>rs375700886</td>\n",
       "      <td>C</td>\n",
       "      <td>T</td>\n",
       "      <td>0.0000</td>\n",
       "      <td>0.00000</td>\n",
       "      <td>0.000001</td>\n",
       "      <td>1.000000</td>\n",
       "      <td>0.000001</td>\n",
       "      <td>0.000001</td>\n",
       "      <td>0.000001</td>\n",
       "      <td>1.000000</td>\n",
       "      <td>0.000001</td>\n",
       "      <td>0.000001</td>\n",
       "    </tr>\n",
       "    <tr>\n",
       "      <th>1</th>\n",
       "      <td>14</td>\n",
       "      <td>19000050</td>\n",
       "      <td>rs543746158</td>\n",
       "      <td>G</td>\n",
       "      <td>A</td>\n",
       "      <td>0.0000</td>\n",
       "      <td>0.00000</td>\n",
       "      <td>0.000001</td>\n",
       "      <td>0.000001</td>\n",
       "      <td>1.000000</td>\n",
       "      <td>0.000001</td>\n",
       "      <td>0.000001</td>\n",
       "      <td>0.000001</td>\n",
       "      <td>1.000000</td>\n",
       "      <td>0.000001</td>\n",
       "    </tr>\n",
       "    <tr>\n",
       "      <th>2</th>\n",
       "      <td>14</td>\n",
       "      <td>19000056</td>\n",
       "      <td>rs561973970</td>\n",
       "      <td>A</td>\n",
       "      <td>T</td>\n",
       "      <td>0.0000</td>\n",
       "      <td>0.00000</td>\n",
       "      <td>1.000000</td>\n",
       "      <td>0.000001</td>\n",
       "      <td>0.000001</td>\n",
       "      <td>0.000001</td>\n",
       "      <td>1.000000</td>\n",
       "      <td>0.000001</td>\n",
       "      <td>0.000001</td>\n",
       "      <td>0.000001</td>\n",
       "    </tr>\n",
       "    <tr>\n",
       "      <th>3</th>\n",
       "      <td>14</td>\n",
       "      <td>19000059</td>\n",
       "      <td>rs201622908</td>\n",
       "      <td>G</td>\n",
       "      <td>T</td>\n",
       "      <td>0.0000</td>\n",
       "      <td>0.00498</td>\n",
       "      <td>0.000001</td>\n",
       "      <td>0.000001</td>\n",
       "      <td>1.000000</td>\n",
       "      <td>0.000001</td>\n",
       "      <td>0.000001</td>\n",
       "      <td>0.000001</td>\n",
       "      <td>0.995020</td>\n",
       "      <td>0.004980</td>\n",
       "    </tr>\n",
       "    <tr>\n",
       "      <th>4</th>\n",
       "      <td>14</td>\n",
       "      <td>19000060</td>\n",
       "      <td>rs28973059</td>\n",
       "      <td>C</td>\n",
       "      <td>G</td>\n",
       "      <td>0.1188</td>\n",
       "      <td>0.38840</td>\n",
       "      <td>0.000001</td>\n",
       "      <td>0.881200</td>\n",
       "      <td>0.118800</td>\n",
       "      <td>0.000001</td>\n",
       "      <td>0.000001</td>\n",
       "      <td>0.611600</td>\n",
       "      <td>0.388400</td>\n",
       "      <td>0.000001</td>\n",
       "    </tr>\n",
       "  </tbody>\n",
       "</table>\n",
       "</div>"
      ],
      "text/plain": [
       "   CHR       POS          SNP A2 A1  MAF_AFR  MAF_EUR     AFR_A     AFR_C  \\\n",
       "0   14  19000017  rs375700886  C  T   0.0000  0.00000  0.000001  1.000000   \n",
       "1   14  19000050  rs543746158  G  A   0.0000  0.00000  0.000001  0.000001   \n",
       "2   14  19000056  rs561973970  A  T   0.0000  0.00000  1.000000  0.000001   \n",
       "3   14  19000059  rs201622908  G  T   0.0000  0.00498  0.000001  0.000001   \n",
       "4   14  19000060   rs28973059  C  G   0.1188  0.38840  0.000001  0.881200   \n",
       "\n",
       "      AFR_G     AFR_T     EUR_A     EUR_C     EUR_G     EUR_T  \n",
       "0  0.000001  0.000001  0.000001  1.000000  0.000001  0.000001  \n",
       "1  1.000000  0.000001  0.000001  0.000001  1.000000  0.000001  \n",
       "2  0.000001  0.000001  1.000000  0.000001  0.000001  0.000001  \n",
       "3  1.000000  0.000001  0.000001  0.000001  0.995020  0.004980  \n",
       "4  0.118800  0.000001  0.000001  0.611600  0.388400  0.000001  "
      ]
     },
     "execution_count": 7,
     "metadata": {},
     "output_type": "execute_result"
    }
   ],
   "source": [
    "#chr14\n",
    "chr14_emissions_fp = \"/home/hmummey/teams/CSE284_SP21_A00/team3/chromosome_14_files/chr14_genotypes_afr_eur_allelefreqs.bybp.csv\"\n",
    "emission_df2 = pd.read_csv(chr14_emissions_fp, sep=',',header=0)\n",
    "emission_df2.head()"
   ]
  },
  {
   "cell_type": "code",
   "execution_count": 8,
   "id": "purple-wrestling",
   "metadata": {},
   "outputs": [
    {
     "name": "stdout",
     "output_type": "stream",
     "text": [
      "2539145\n"
     ]
    },
    {
     "data": {
      "text/html": [
       "<div>\n",
       "<style scoped>\n",
       "    .dataframe tbody tr th:only-of-type {\n",
       "        vertical-align: middle;\n",
       "    }\n",
       "\n",
       "    .dataframe tbody tr th {\n",
       "        vertical-align: top;\n",
       "    }\n",
       "\n",
       "    .dataframe thead th {\n",
       "        text-align: right;\n",
       "    }\n",
       "</style>\n",
       "<table border=\"1\" class=\"dataframe\">\n",
       "  <thead>\n",
       "    <tr style=\"text-align: right;\">\n",
       "      <th></th>\n",
       "      <th>POS</th>\n",
       "      <th>A1</th>\n",
       "      <th>A2</th>\n",
       "      <th>POP1</th>\n",
       "      <th>POP2</th>\n",
       "    </tr>\n",
       "  </thead>\n",
       "  <tbody>\n",
       "    <tr>\n",
       "      <th>0</th>\n",
       "      <td>19000017</td>\n",
       "      <td>T</td>\n",
       "      <td>T</td>\n",
       "      <td>1</td>\n",
       "      <td>0</td>\n",
       "    </tr>\n",
       "    <tr>\n",
       "      <th>1</th>\n",
       "      <td>19000050</td>\n",
       "      <td>A</td>\n",
       "      <td>A</td>\n",
       "      <td>1</td>\n",
       "      <td>0</td>\n",
       "    </tr>\n",
       "    <tr>\n",
       "      <th>2</th>\n",
       "      <td>19000056</td>\n",
       "      <td>T</td>\n",
       "      <td>T</td>\n",
       "      <td>1</td>\n",
       "      <td>0</td>\n",
       "    </tr>\n",
       "    <tr>\n",
       "      <th>3</th>\n",
       "      <td>19000059</td>\n",
       "      <td>T</td>\n",
       "      <td>T</td>\n",
       "      <td>1</td>\n",
       "      <td>0</td>\n",
       "    </tr>\n",
       "    <tr>\n",
       "      <th>4</th>\n",
       "      <td>19000060</td>\n",
       "      <td>G</td>\n",
       "      <td>G</td>\n",
       "      <td>1</td>\n",
       "      <td>0</td>\n",
       "    </tr>\n",
       "  </tbody>\n",
       "</table>\n",
       "</div>"
      ],
      "text/plain": [
       "        POS A1 A2  POP1  POP2\n",
       "0  19000017  T  T     1     0\n",
       "1  19000050  A  A     1     0\n",
       "2  19000056  T  T     1     0\n",
       "3  19000059  T  T     1     0\n",
       "4  19000060  G  G     1     0"
      ]
     },
     "execution_count": 8,
     "metadata": {},
     "output_type": "execute_result"
    }
   ],
   "source": [
    "#go through manually (step by step) for the first file: /home/hmummey/teams/CSE284_SP21_A00/team3/simulated_files/admixEUR_AFR_chr14_Rx1_a.tsv\n",
    "genotype_fp2 = \"/home/hmummey/teams/CSE284_SP21_A00/team3/simulated_files/admixEUR_AFR_chr14_Rx1_a.tsv\"\n",
    "genotype_df2 = pd.read_csv(genotype_fp2, sep='\\t',header = 0)\n",
    "print(len(genotype_df2))\n",
    "genotype_df2.head()"
   ]
  },
  {
   "cell_type": "code",
   "execution_count": 9,
   "id": "capable-berkeley",
   "metadata": {},
   "outputs": [
    {
     "name": "stdout",
     "output_type": "stream",
     "text": [
      "Files cut to share POS 2021-05-27 17:25:56\n"
     ]
    },
    {
     "name": "stderr",
     "output_type": "stream",
     "text": [
      "get_optimal_path: 18it [00:00, 173.93it/s]"
     ]
    },
    {
     "name": "stdout",
     "output_type": "stream",
     "text": [
      "SNP sequence created 2021-05-27 17:27:59\n",
      "Transition matrix made 2021-05-27 17:27:59\n"
     ]
    },
    {
     "name": "stderr",
     "output_type": "stream",
     "text": [
      "get_optimal_path: 734107it [47:05, 282.94it/s]IOPub message rate exceeded.\n",
      "The notebook server will temporarily stop sending output\n",
      "to the client in order to avoid crashing it.\n",
      "To change this limit, set the config variable\n",
      "`--NotebookApp.iopub_msg_rate_limit`.\n",
      "\n",
      "Current values:\n",
      "NotebookApp.iopub_msg_rate_limit=1000.0 (msgs/sec)\n",
      "NotebookApp.rate_limit_window=3.0 (secs)\n",
      "\n",
      "get_optimal_path: 2500619it [2:36:44, 265.89it/s]\n",
      "reconstruct_path:   4%|▍         | 111117/2500619 [00:00<00:02, 1111144.57it/s]"
     ]
    },
    {
     "name": "stdout",
     "output_type": "stream",
     "text": [
      "Optimal path algorithm complete 2021-05-27 20:04:44\n"
     ]
    },
    {
     "name": "stderr",
     "output_type": "stream",
     "text": [
      "reconstruct_path: 100%|██████████| 2500619/2500619 [00:02<00:00, 1192002.93it/s]\n",
      "output_path:   9%|▉         | 221389/2500619 [00:00<00:01, 2213828.77it/s]"
     ]
    },
    {
     "name": "stdout",
     "output_type": "stream",
     "text": [
      "Path reconstruction complete 2021-05-27 20:04:46\n"
     ]
    },
    {
     "name": "stderr",
     "output_type": "stream",
     "text": [
      "output_path: 100%|██████████| 2500619/2500619 [00:00<00:00, 2523670.34it/s]\n"
     ]
    },
    {
     "name": "stdout",
     "output_type": "stream",
     "text": [
      "Path saved 2021-05-27 20:05:43\n"
     ]
    }
   ],
   "source": [
    "output_fp2 = \"HMM_Test_Outputs/210527_admixEUR_AFR_chr14_Rx1_a_long_runtime_test.tsv\"\n",
    "HMM_implementation_wrapper(popA, popB, genotype_fp2, emission_df2, 0.1, output_fp2, \"14\")"
   ]
  },
  {
   "cell_type": "markdown",
   "id": "flexible-birth",
   "metadata": {},
   "source": [
    "# Huge data again:\n",
    "* chr14 Rx1\n",
    "* chr21 Rx4"
   ]
  },
  {
   "cell_type": "code",
   "execution_count": 11,
   "id": "chubby-calibration",
   "metadata": {},
   "outputs": [],
   "source": [
    "popA = \"AFR\"\n",
    "popB = \"EUR\""
   ]
  },
  {
   "cell_type": "markdown",
   "id": "entitled-situation",
   "metadata": {},
   "source": [
    "Chr14"
   ]
  },
  {
   "cell_type": "code",
   "execution_count": 8,
   "id": "signal-wallet",
   "metadata": {},
   "outputs": [
    {
     "data": {
      "text/html": [
       "<div>\n",
       "<style scoped>\n",
       "    .dataframe tbody tr th:only-of-type {\n",
       "        vertical-align: middle;\n",
       "    }\n",
       "\n",
       "    .dataframe tbody tr th {\n",
       "        vertical-align: top;\n",
       "    }\n",
       "\n",
       "    .dataframe thead th {\n",
       "        text-align: right;\n",
       "    }\n",
       "</style>\n",
       "<table border=\"1\" class=\"dataframe\">\n",
       "  <thead>\n",
       "    <tr style=\"text-align: right;\">\n",
       "      <th></th>\n",
       "      <th>CHR</th>\n",
       "      <th>POS</th>\n",
       "      <th>SNP</th>\n",
       "      <th>A2</th>\n",
       "      <th>A1</th>\n",
       "      <th>MAF_AFR</th>\n",
       "      <th>MAF_EUR</th>\n",
       "      <th>AFR_A</th>\n",
       "      <th>AFR_C</th>\n",
       "      <th>AFR_G</th>\n",
       "      <th>AFR_T</th>\n",
       "      <th>EUR_A</th>\n",
       "      <th>EUR_C</th>\n",
       "      <th>EUR_G</th>\n",
       "      <th>EUR_T</th>\n",
       "    </tr>\n",
       "  </thead>\n",
       "  <tbody>\n",
       "    <tr>\n",
       "      <th>0</th>\n",
       "      <td>14</td>\n",
       "      <td>19000017</td>\n",
       "      <td>rs375700886</td>\n",
       "      <td>C</td>\n",
       "      <td>T</td>\n",
       "      <td>0.0000</td>\n",
       "      <td>0.00000</td>\n",
       "      <td>0.000001</td>\n",
       "      <td>1.000000</td>\n",
       "      <td>0.000001</td>\n",
       "      <td>0.000001</td>\n",
       "      <td>0.000001</td>\n",
       "      <td>1.000000</td>\n",
       "      <td>0.000001</td>\n",
       "      <td>0.000001</td>\n",
       "    </tr>\n",
       "    <tr>\n",
       "      <th>1</th>\n",
       "      <td>14</td>\n",
       "      <td>19000050</td>\n",
       "      <td>rs543746158</td>\n",
       "      <td>G</td>\n",
       "      <td>A</td>\n",
       "      <td>0.0000</td>\n",
       "      <td>0.00000</td>\n",
       "      <td>0.000001</td>\n",
       "      <td>0.000001</td>\n",
       "      <td>1.000000</td>\n",
       "      <td>0.000001</td>\n",
       "      <td>0.000001</td>\n",
       "      <td>0.000001</td>\n",
       "      <td>1.000000</td>\n",
       "      <td>0.000001</td>\n",
       "    </tr>\n",
       "    <tr>\n",
       "      <th>2</th>\n",
       "      <td>14</td>\n",
       "      <td>19000056</td>\n",
       "      <td>rs561973970</td>\n",
       "      <td>A</td>\n",
       "      <td>T</td>\n",
       "      <td>0.0000</td>\n",
       "      <td>0.00000</td>\n",
       "      <td>1.000000</td>\n",
       "      <td>0.000001</td>\n",
       "      <td>0.000001</td>\n",
       "      <td>0.000001</td>\n",
       "      <td>1.000000</td>\n",
       "      <td>0.000001</td>\n",
       "      <td>0.000001</td>\n",
       "      <td>0.000001</td>\n",
       "    </tr>\n",
       "    <tr>\n",
       "      <th>3</th>\n",
       "      <td>14</td>\n",
       "      <td>19000059</td>\n",
       "      <td>rs201622908</td>\n",
       "      <td>G</td>\n",
       "      <td>T</td>\n",
       "      <td>0.0000</td>\n",
       "      <td>0.00498</td>\n",
       "      <td>0.000001</td>\n",
       "      <td>0.000001</td>\n",
       "      <td>1.000000</td>\n",
       "      <td>0.000001</td>\n",
       "      <td>0.000001</td>\n",
       "      <td>0.000001</td>\n",
       "      <td>0.995020</td>\n",
       "      <td>0.004980</td>\n",
       "    </tr>\n",
       "    <tr>\n",
       "      <th>4</th>\n",
       "      <td>14</td>\n",
       "      <td>19000060</td>\n",
       "      <td>rs28973059</td>\n",
       "      <td>C</td>\n",
       "      <td>G</td>\n",
       "      <td>0.1188</td>\n",
       "      <td>0.38840</td>\n",
       "      <td>0.000001</td>\n",
       "      <td>0.881200</td>\n",
       "      <td>0.118800</td>\n",
       "      <td>0.000001</td>\n",
       "      <td>0.000001</td>\n",
       "      <td>0.611600</td>\n",
       "      <td>0.388400</td>\n",
       "      <td>0.000001</td>\n",
       "    </tr>\n",
       "  </tbody>\n",
       "</table>\n",
       "</div>"
      ],
      "text/plain": [
       "   CHR       POS          SNP A2 A1  MAF_AFR  MAF_EUR     AFR_A     AFR_C  \\\n",
       "0   14  19000017  rs375700886  C  T   0.0000  0.00000  0.000001  1.000000   \n",
       "1   14  19000050  rs543746158  G  A   0.0000  0.00000  0.000001  0.000001   \n",
       "2   14  19000056  rs561973970  A  T   0.0000  0.00000  1.000000  0.000001   \n",
       "3   14  19000059  rs201622908  G  T   0.0000  0.00498  0.000001  0.000001   \n",
       "4   14  19000060   rs28973059  C  G   0.1188  0.38840  0.000001  0.881200   \n",
       "\n",
       "      AFR_G     AFR_T     EUR_A     EUR_C     EUR_G     EUR_T  \n",
       "0  0.000001  0.000001  0.000001  1.000000  0.000001  0.000001  \n",
       "1  1.000000  0.000001  0.000001  0.000001  1.000000  0.000001  \n",
       "2  0.000001  0.000001  1.000000  0.000001  0.000001  0.000001  \n",
       "3  1.000000  0.000001  0.000001  0.000001  0.995020  0.004980  \n",
       "4  0.118800  0.000001  0.000001  0.611600  0.388400  0.000001  "
      ]
     },
     "execution_count": 8,
     "metadata": {},
     "output_type": "execute_result"
    }
   ],
   "source": [
    "#chr14\n",
    "chr14_emissions_fp = \"/home/hmummey/teams/CSE284_SP21_A00/team3/chromosome_14_files/chr14_genotypes_afr_eur_allelefreqs.bybp.csv\"\n",
    "emission_df14 = pd.read_csv(chr14_emissions_fp, sep=',',header=0)\n",
    "emission_df14.head()"
   ]
  },
  {
   "cell_type": "code",
   "execution_count": 9,
   "id": "overall-dylan",
   "metadata": {},
   "outputs": [
    {
     "name": "stdout",
     "output_type": "stream",
     "text": [
      "2539145\n"
     ]
    },
    {
     "data": {
      "text/html": [
       "<div>\n",
       "<style scoped>\n",
       "    .dataframe tbody tr th:only-of-type {\n",
       "        vertical-align: middle;\n",
       "    }\n",
       "\n",
       "    .dataframe tbody tr th {\n",
       "        vertical-align: top;\n",
       "    }\n",
       "\n",
       "    .dataframe thead th {\n",
       "        text-align: right;\n",
       "    }\n",
       "</style>\n",
       "<table border=\"1\" class=\"dataframe\">\n",
       "  <thead>\n",
       "    <tr style=\"text-align: right;\">\n",
       "      <th></th>\n",
       "      <th>POS</th>\n",
       "      <th>A1</th>\n",
       "      <th>A2</th>\n",
       "      <th>POP1</th>\n",
       "      <th>POP2</th>\n",
       "    </tr>\n",
       "  </thead>\n",
       "  <tbody>\n",
       "    <tr>\n",
       "      <th>0</th>\n",
       "      <td>19000017</td>\n",
       "      <td>T</td>\n",
       "      <td>T</td>\n",
       "      <td>0</td>\n",
       "      <td>0</td>\n",
       "    </tr>\n",
       "    <tr>\n",
       "      <th>1</th>\n",
       "      <td>19000050</td>\n",
       "      <td>A</td>\n",
       "      <td>A</td>\n",
       "      <td>0</td>\n",
       "      <td>0</td>\n",
       "    </tr>\n",
       "    <tr>\n",
       "      <th>2</th>\n",
       "      <td>19000056</td>\n",
       "      <td>T</td>\n",
       "      <td>T</td>\n",
       "      <td>0</td>\n",
       "      <td>0</td>\n",
       "    </tr>\n",
       "    <tr>\n",
       "      <th>3</th>\n",
       "      <td>19000059</td>\n",
       "      <td>T</td>\n",
       "      <td>T</td>\n",
       "      <td>0</td>\n",
       "      <td>0</td>\n",
       "    </tr>\n",
       "    <tr>\n",
       "      <th>4</th>\n",
       "      <td>19000060</td>\n",
       "      <td>G</td>\n",
       "      <td>G</td>\n",
       "      <td>0</td>\n",
       "      <td>0</td>\n",
       "    </tr>\n",
       "  </tbody>\n",
       "</table>\n",
       "</div>"
      ],
      "text/plain": [
       "        POS A1 A2  POP1  POP2\n",
       "0  19000017  T  T     0     0\n",
       "1  19000050  A  A     0     0\n",
       "2  19000056  T  T     0     0\n",
       "3  19000059  T  T     0     0\n",
       "4  19000060  G  G     0     0"
      ]
     },
     "execution_count": 9,
     "metadata": {},
     "output_type": "execute_result"
    }
   ],
   "source": [
    "#go through manually (step by step) for the first file: /home/hmummey/teams/CSE284_SP21_A00/team3/simulated_files/admixEUR_AFR_chr14_Rx1_a.tsv\n",
    "genotype_fp14 = \"/home/hmummey/teams/CSE284_SP21_A00/team3/simulated_files/admixEUR_AFR_chr14_Rx1_b.tsv\"\n",
    "genotype_df14 = pd.read_csv(genotype_fp14, sep='\\t',header = 0)\n",
    "print(len(genotype_df14))\n",
    "genotype_df14.head()"
   ]
  },
  {
   "cell_type": "code",
   "execution_count": 12,
   "id": "former-lambda",
   "metadata": {},
   "outputs": [
    {
     "name": "stdout",
     "output_type": "stream",
     "text": [
      "Files cut to share POS 2021-06-01 11:31:34\n"
     ]
    },
    {
     "name": "stderr",
     "output_type": "stream",
     "text": [
      "get_optimal_path: 19it [00:00, 189.96it/s]"
     ]
    },
    {
     "name": "stdout",
     "output_type": "stream",
     "text": [
      "SNP sequence created 2021-06-01 11:34:07\n",
      "Transition matrix made 2021-06-01 11:34:07\n"
     ]
    },
    {
     "name": "stderr",
     "output_type": "stream",
     "text": [
      "get_optimal_path: 2378699it [2:58:03, 230.35it/s]IOPub message rate exceeded.\n",
      "The notebook server will temporarily stop sending output\n",
      "to the client in order to avoid crashing it.\n",
      "To change this limit, set the config variable\n",
      "`--NotebookApp.iopub_msg_rate_limit`.\n",
      "\n",
      "Current values:\n",
      "NotebookApp.iopub_msg_rate_limit=1000.0 (msgs/sec)\n",
      "NotebookApp.rate_limit_window=3.0 (secs)\n",
      "\n",
      "get_optimal_path: 2500619it [3:07:34, 222.19it/s]\n",
      "reconstruct_path:   3%|▎         | 87153/2500619 [00:00<00:02, 871501.74it/s]"
     ]
    },
    {
     "name": "stdout",
     "output_type": "stream",
     "text": [
      "Optimal path algorithm complete 2021-06-01 14:41:42\n"
     ]
    },
    {
     "name": "stderr",
     "output_type": "stream",
     "text": [
      "reconstruct_path: 100%|██████████| 2500619/2500619 [00:02<00:00, 879053.04it/s]\n",
      "output_path:  17%|█▋        | 431422/2500619 [00:00<00:00, 2195899.34it/s]"
     ]
    },
    {
     "name": "stdout",
     "output_type": "stream",
     "text": [
      "Path reconstruction complete 2021-06-01 14:41:45\n"
     ]
    },
    {
     "name": "stderr",
     "output_type": "stream",
     "text": [
      "output_path: 100%|██████████| 2500619/2500619 [00:01<00:00, 2311189.58it/s]\n"
     ]
    },
    {
     "name": "stdout",
     "output_type": "stream",
     "text": [
      "Path saved 2021-06-01 14:41:51\n"
     ]
    }
   ],
   "source": [
    "output_fp14 = \"HMM_Log10_Test_Outputs/admixEUR_AFR_chr14_Rx1_b_recomb0.01_HMMoutput.tsv\" \n",
    "recomb14 = 0.01\n",
    "HMM_implementation_wrapper(popA, popB, genotype_fp14, emission_df14, recomb14, output_fp14, \"14\")"
   ]
  },
  {
   "cell_type": "markdown",
   "id": "christian-browse",
   "metadata": {},
   "source": [
    "Chr 21"
   ]
  },
  {
   "cell_type": "code",
   "execution_count": 13,
   "id": "generous-composer",
   "metadata": {},
   "outputs": [
    {
     "data": {
      "text/html": [
       "<div>\n",
       "<style scoped>\n",
       "    .dataframe tbody tr th:only-of-type {\n",
       "        vertical-align: middle;\n",
       "    }\n",
       "\n",
       "    .dataframe tbody tr th {\n",
       "        vertical-align: top;\n",
       "    }\n",
       "\n",
       "    .dataframe thead th {\n",
       "        text-align: right;\n",
       "    }\n",
       "</style>\n",
       "<table border=\"1\" class=\"dataframe\">\n",
       "  <thead>\n",
       "    <tr style=\"text-align: right;\">\n",
       "      <th></th>\n",
       "      <th>CHR</th>\n",
       "      <th>POS</th>\n",
       "      <th>SNP</th>\n",
       "      <th>A2</th>\n",
       "      <th>A1</th>\n",
       "      <th>MAF_AFR</th>\n",
       "      <th>MAF_EUR</th>\n",
       "      <th>AFR_A</th>\n",
       "      <th>AFR_C</th>\n",
       "      <th>AFR_G</th>\n",
       "      <th>AFR_T</th>\n",
       "      <th>EUR_A</th>\n",
       "      <th>EUR_C</th>\n",
       "      <th>EUR_G</th>\n",
       "      <th>EUR_T</th>\n",
       "    </tr>\n",
       "  </thead>\n",
       "  <tbody>\n",
       "    <tr>\n",
       "      <th>0</th>\n",
       "      <td>21</td>\n",
       "      <td>9411239</td>\n",
       "      <td>rs559462325</td>\n",
       "      <td>G</td>\n",
       "      <td>A</td>\n",
       "      <td>0.000000</td>\n",
       "      <td>0.000000</td>\n",
       "      <td>0.000001</td>\n",
       "      <td>0.000001</td>\n",
       "      <td>1.000000</td>\n",
       "      <td>0.000001</td>\n",
       "      <td>0.000001</td>\n",
       "      <td>0.000001</td>\n",
       "      <td>1.000000</td>\n",
       "      <td>0.000001</td>\n",
       "    </tr>\n",
       "    <tr>\n",
       "      <th>1</th>\n",
       "      <td>21</td>\n",
       "      <td>9411245</td>\n",
       "      <td>rs181691356</td>\n",
       "      <td>C</td>\n",
       "      <td>A</td>\n",
       "      <td>0.000893</td>\n",
       "      <td>0.001992</td>\n",
       "      <td>0.000893</td>\n",
       "      <td>0.999107</td>\n",
       "      <td>0.000001</td>\n",
       "      <td>0.000001</td>\n",
       "      <td>0.001992</td>\n",
       "      <td>0.998008</td>\n",
       "      <td>0.000001</td>\n",
       "      <td>0.000001</td>\n",
       "    </tr>\n",
       "    <tr>\n",
       "      <th>2</th>\n",
       "      <td>21</td>\n",
       "      <td>9411264</td>\n",
       "      <td>rs548263598</td>\n",
       "      <td>A</td>\n",
       "      <td>C</td>\n",
       "      <td>0.000893</td>\n",
       "      <td>0.000000</td>\n",
       "      <td>0.999107</td>\n",
       "      <td>0.000893</td>\n",
       "      <td>0.000001</td>\n",
       "      <td>0.000001</td>\n",
       "      <td>1.000000</td>\n",
       "      <td>0.000001</td>\n",
       "      <td>0.000001</td>\n",
       "      <td>0.000001</td>\n",
       "    </tr>\n",
       "    <tr>\n",
       "      <th>3</th>\n",
       "      <td>21</td>\n",
       "      <td>9411267</td>\n",
       "      <td>rs561987868</td>\n",
       "      <td>G</td>\n",
       "      <td>T</td>\n",
       "      <td>0.000000</td>\n",
       "      <td>0.000000</td>\n",
       "      <td>0.000001</td>\n",
       "      <td>0.000001</td>\n",
       "      <td>1.000000</td>\n",
       "      <td>0.000001</td>\n",
       "      <td>0.000001</td>\n",
       "      <td>0.000001</td>\n",
       "      <td>1.000000</td>\n",
       "      <td>0.000001</td>\n",
       "    </tr>\n",
       "    <tr>\n",
       "      <th>4</th>\n",
       "      <td>21</td>\n",
       "      <td>9411302</td>\n",
       "      <td>rs531010746</td>\n",
       "      <td>G</td>\n",
       "      <td>T</td>\n",
       "      <td>0.011610</td>\n",
       "      <td>0.000000</td>\n",
       "      <td>0.000001</td>\n",
       "      <td>0.000001</td>\n",
       "      <td>0.988390</td>\n",
       "      <td>0.011610</td>\n",
       "      <td>0.000001</td>\n",
       "      <td>0.000001</td>\n",
       "      <td>1.000000</td>\n",
       "      <td>0.000001</td>\n",
       "    </tr>\n",
       "  </tbody>\n",
       "</table>\n",
       "</div>"
      ],
      "text/plain": [
       "   CHR      POS          SNP A2 A1   MAF_AFR   MAF_EUR     AFR_A     AFR_C  \\\n",
       "0   21  9411239  rs559462325  G  A  0.000000  0.000000  0.000001  0.000001   \n",
       "1   21  9411245  rs181691356  C  A  0.000893  0.001992  0.000893  0.999107   \n",
       "2   21  9411264  rs548263598  A  C  0.000893  0.000000  0.999107  0.000893   \n",
       "3   21  9411267  rs561987868  G  T  0.000000  0.000000  0.000001  0.000001   \n",
       "4   21  9411302  rs531010746  G  T  0.011610  0.000000  0.000001  0.000001   \n",
       "\n",
       "      AFR_G     AFR_T     EUR_A     EUR_C     EUR_G     EUR_T  \n",
       "0  1.000000  0.000001  0.000001  0.000001  1.000000  0.000001  \n",
       "1  0.000001  0.000001  0.001992  0.998008  0.000001  0.000001  \n",
       "2  0.000001  0.000001  1.000000  0.000001  0.000001  0.000001  \n",
       "3  1.000000  0.000001  0.000001  0.000001  1.000000  0.000001  \n",
       "4  0.988390  0.011610  0.000001  0.000001  1.000000  0.000001  "
      ]
     },
     "execution_count": 13,
     "metadata": {},
     "output_type": "execute_result"
    }
   ],
   "source": [
    "#chr21\n",
    "chr21_emissions_fp = \"/home/hmummey/teams/CSE284_SP21_A00/team3/chromosome_21_files/chr21_genotypes_afr_eur_allelefreqs.bybp.csv\"\n",
    "emission_df21 = pd.read_csv(chr21_emissions_fp, sep=',',header=0)\n",
    "emission_df21.head()"
   ]
  },
  {
   "cell_type": "code",
   "execution_count": 14,
   "id": "positive-botswana",
   "metadata": {},
   "outputs": [
    {
     "name": "stdout",
     "output_type": "stream",
     "text": [
      "1054445\n"
     ]
    },
    {
     "data": {
      "text/html": [
       "<div>\n",
       "<style scoped>\n",
       "    .dataframe tbody tr th:only-of-type {\n",
       "        vertical-align: middle;\n",
       "    }\n",
       "\n",
       "    .dataframe tbody tr th {\n",
       "        vertical-align: top;\n",
       "    }\n",
       "\n",
       "    .dataframe thead th {\n",
       "        text-align: right;\n",
       "    }\n",
       "</style>\n",
       "<table border=\"1\" class=\"dataframe\">\n",
       "  <thead>\n",
       "    <tr style=\"text-align: right;\">\n",
       "      <th></th>\n",
       "      <th>POS</th>\n",
       "      <th>A1</th>\n",
       "      <th>A2</th>\n",
       "      <th>POP1</th>\n",
       "      <th>POP2</th>\n",
       "    </tr>\n",
       "  </thead>\n",
       "  <tbody>\n",
       "    <tr>\n",
       "      <th>0</th>\n",
       "      <td>9411239</td>\n",
       "      <td>A</td>\n",
       "      <td>A</td>\n",
       "      <td>0</td>\n",
       "      <td>1</td>\n",
       "    </tr>\n",
       "    <tr>\n",
       "      <th>1</th>\n",
       "      <td>9411245</td>\n",
       "      <td>A</td>\n",
       "      <td>A</td>\n",
       "      <td>0</td>\n",
       "      <td>1</td>\n",
       "    </tr>\n",
       "    <tr>\n",
       "      <th>2</th>\n",
       "      <td>9411264</td>\n",
       "      <td>C</td>\n",
       "      <td>C</td>\n",
       "      <td>0</td>\n",
       "      <td>1</td>\n",
       "    </tr>\n",
       "    <tr>\n",
       "      <th>3</th>\n",
       "      <td>9411267</td>\n",
       "      <td>T</td>\n",
       "      <td>T</td>\n",
       "      <td>0</td>\n",
       "      <td>1</td>\n",
       "    </tr>\n",
       "    <tr>\n",
       "      <th>4</th>\n",
       "      <td>9411302</td>\n",
       "      <td>T</td>\n",
       "      <td>T</td>\n",
       "      <td>0</td>\n",
       "      <td>1</td>\n",
       "    </tr>\n",
       "  </tbody>\n",
       "</table>\n",
       "</div>"
      ],
      "text/plain": [
       "       POS A1 A2  POP1  POP2\n",
       "0  9411239  A  A     0     1\n",
       "1  9411245  A  A     0     1\n",
       "2  9411264  C  C     0     1\n",
       "3  9411267  T  T     0     1\n",
       "4  9411302  T  T     0     1"
      ]
     },
     "execution_count": 14,
     "metadata": {},
     "output_type": "execute_result"
    }
   ],
   "source": [
    "genotype_fp21 = \"/home/hmummey/teams/CSE284_SP21_A00/team3/simulated_files/admixEUR_AFR_chr21_Rx4_a.tsv\" \n",
    "genotype_df21 = pd.read_csv(genotype_fp21, sep='\\t',header = 0)\n",
    "print(len(genotype_df21))\n",
    "genotype_df21.head()"
   ]
  },
  {
   "cell_type": "code",
   "execution_count": 16,
   "id": "juvenile-music",
   "metadata": {},
   "outputs": [
    {
     "name": "stdout",
     "output_type": "stream",
     "text": [
      "Files cut to share POS 2021-06-01 15:25:32\n"
     ]
    },
    {
     "name": "stderr",
     "output_type": "stream",
     "text": [
      "get_optimal_path: 23it [00:00, 224.01it/s]"
     ]
    },
    {
     "name": "stdout",
     "output_type": "stream",
     "text": [
      "SNP sequence created 2021-06-01 15:26:37\n",
      "Transition matrix made 2021-06-01 15:26:37\n"
     ]
    },
    {
     "name": "stderr",
     "output_type": "stream",
     "text": [
      "get_optimal_path: 121080it [09:19, 232.41it/s]IOPub message rate exceeded.\n",
      "The notebook server will temporarily stop sending output\n",
      "to the client in order to avoid crashing it.\n",
      "To change this limit, set the config variable\n",
      "`--NotebookApp.iopub_msg_rate_limit`.\n",
      "\n",
      "Current values:\n",
      "NotebookApp.iopub_msg_rate_limit=1000.0 (msgs/sec)\n",
      "NotebookApp.rate_limit_window=3.0 (secs)\n",
      "\n",
      "get_optimal_path: 1037584it [1:18:31, 220.21it/s]\n",
      "reconstruct_path:   8%|▊         | 86725/1037584 [00:00<00:01, 867223.95it/s]"
     ]
    },
    {
     "name": "stdout",
     "output_type": "stream",
     "text": [
      "Optimal path algorithm complete 2021-06-01 16:45:08\n"
     ]
    },
    {
     "name": "stderr",
     "output_type": "stream",
     "text": [
      "reconstruct_path: 100%|██████████| 1037584/1037584 [00:01<00:00, 941896.99it/s]\n",
      "output_path:   0%|          | 0/1037584 [00:00<?, ?it/s]"
     ]
    },
    {
     "name": "stdout",
     "output_type": "stream",
     "text": [
      "Path reconstruction complete 2021-06-01 16:45:09\n"
     ]
    },
    {
     "name": "stderr",
     "output_type": "stream",
     "text": [
      "output_path: 100%|██████████| 1037584/1037584 [00:00<00:00, 2286587.31it/s]\n"
     ]
    },
    {
     "name": "stdout",
     "output_type": "stream",
     "text": [
      "Path saved 2021-06-01 16:45:12\n"
     ]
    }
   ],
   "source": [
    "output_fp21 = \"HMM_Log10_Test_Outputs/admixEUR_AFR_chr21_Rx4_a_recomb0.01_HMMoutput.tsv\"\n",
    "recomb21 = 0.01\n",
    "HMM_implementation_wrapper(popA, popB, genotype_fp21, emission_df21, recomb21, output_fp21, \"21\")"
   ]
  },
  {
   "cell_type": "code",
   "execution_count": 17,
   "id": "insured-accommodation",
   "metadata": {},
   "outputs": [
    {
     "name": "stdout",
     "output_type": "stream",
     "text": [
      "test\n"
     ]
    }
   ],
   "source": [
    "print(\"test\")"
   ]
  },
  {
   "cell_type": "code",
   "execution_count": null,
   "id": "traditional-statement",
   "metadata": {},
   "outputs": [],
   "source": []
  }
 ],
 "metadata": {
  "kernelspec": {
   "display_name": "Python 3",
   "language": "python",
   "name": "python3"
  },
  "language_info": {
   "codemirror_mode": {
    "name": "ipython",
    "version": 3
   },
   "file_extension": ".py",
   "mimetype": "text/x-python",
   "name": "python",
   "nbconvert_exporter": "python",
   "pygments_lexer": "ipython3",
   "version": "3.8.6"
  }
 },
 "nbformat": 4,
 "nbformat_minor": 5
}
