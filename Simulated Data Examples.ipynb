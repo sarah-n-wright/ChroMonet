{
 "cells": [
  {
   "cell_type": "code",
   "execution_count": 2,
   "id": "technological-savage",
   "metadata": {},
   "outputs": [],
   "source": [
    "import simulated_data as sim\n",
    "import pandas as pd"
   ]
  },
  {
   "cell_type": "markdown",
   "id": "extensive-driver",
   "metadata": {},
   "source": [
    "### TODO\n",
    "* Make a genome load function\n",
    "* Make it possible to save to different directory"
   ]
  },
  {
   "cell_type": "markdown",
   "id": "conventional-crisis",
   "metadata": {},
   "source": [
    "## Frequency Datasets\n",
    "### Create a simulated dataset"
   ]
  },
  {
   "cell_type": "code",
   "execution_count": 2,
   "id": "interpreted-evanescence",
   "metadata": {},
   "outputs": [
    {
     "name": "stderr",
     "output_type": "stream",
     "text": [
      "100%|██████████| 5000/5000 [00:20<00:00, 248.60it/s]\n"
     ]
    },
    {
     "data": {
      "text/html": [
       "<div>\n",
       "<style scoped>\n",
       "    .dataframe tbody tr th:only-of-type {\n",
       "        vertical-align: middle;\n",
       "    }\n",
       "\n",
       "    .dataframe tbody tr th {\n",
       "        vertical-align: top;\n",
       "    }\n",
       "\n",
       "    .dataframe thead th {\n",
       "        text-align: right;\n",
       "    }\n",
       "</style>\n",
       "<table border=\"1\" class=\"dataframe\">\n",
       "  <thead>\n",
       "    <tr style=\"text-align: right;\">\n",
       "      <th></th>\n",
       "      <th>POS</th>\n",
       "      <th>A0</th>\n",
       "      <th>C0</th>\n",
       "      <th>G0</th>\n",
       "      <th>T0</th>\n",
       "      <th>A1</th>\n",
       "      <th>C1</th>\n",
       "      <th>G1</th>\n",
       "      <th>T1</th>\n",
       "    </tr>\n",
       "  </thead>\n",
       "  <tbody>\n",
       "    <tr>\n",
       "      <th>0</th>\n",
       "      <td>0</td>\n",
       "      <td>0.0000</td>\n",
       "      <td>0.5567</td>\n",
       "      <td>0.4433</td>\n",
       "      <td>0.0000</td>\n",
       "      <td>0.0000</td>\n",
       "      <td>0.6487</td>\n",
       "      <td>0.3513</td>\n",
       "      <td>0.0000</td>\n",
       "    </tr>\n",
       "    <tr>\n",
       "      <th>1</th>\n",
       "      <td>1</td>\n",
       "      <td>0.4619</td>\n",
       "      <td>0.0000</td>\n",
       "      <td>0.0000</td>\n",
       "      <td>0.5381</td>\n",
       "      <td>0.2880</td>\n",
       "      <td>0.0000</td>\n",
       "      <td>0.0000</td>\n",
       "      <td>0.7120</td>\n",
       "    </tr>\n",
       "    <tr>\n",
       "      <th>2</th>\n",
       "      <td>2</td>\n",
       "      <td>0.0000</td>\n",
       "      <td>0.8425</td>\n",
       "      <td>0.1575</td>\n",
       "      <td>0.0000</td>\n",
       "      <td>0.0000</td>\n",
       "      <td>0.3347</td>\n",
       "      <td>0.6653</td>\n",
       "      <td>0.0000</td>\n",
       "    </tr>\n",
       "    <tr>\n",
       "      <th>3</th>\n",
       "      <td>3</td>\n",
       "      <td>0.2744</td>\n",
       "      <td>0.0000</td>\n",
       "      <td>0.7256</td>\n",
       "      <td>0.0000</td>\n",
       "      <td>0.9542</td>\n",
       "      <td>0.0000</td>\n",
       "      <td>0.0458</td>\n",
       "      <td>0.0000</td>\n",
       "    </tr>\n",
       "    <tr>\n",
       "      <th>4</th>\n",
       "      <td>4</td>\n",
       "      <td>0.0000</td>\n",
       "      <td>0.0000</td>\n",
       "      <td>0.3972</td>\n",
       "      <td>0.6028</td>\n",
       "      <td>0.0000</td>\n",
       "      <td>0.0000</td>\n",
       "      <td>0.4926</td>\n",
       "      <td>0.5074</td>\n",
       "    </tr>\n",
       "  </tbody>\n",
       "</table>\n",
       "</div>"
      ],
      "text/plain": [
       "   POS      A0      C0      G0      T0      A1      C1      G1      T1\n",
       "0    0  0.0000  0.5567  0.4433  0.0000  0.0000  0.6487  0.3513  0.0000\n",
       "1    1  0.4619  0.0000  0.0000  0.5381  0.2880  0.0000  0.0000  0.7120\n",
       "2    2  0.0000  0.8425  0.1575  0.0000  0.0000  0.3347  0.6653  0.0000\n",
       "3    3  0.2744  0.0000  0.7256  0.0000  0.9542  0.0000  0.0458  0.0000\n",
       "4    4  0.0000  0.0000  0.3972  0.6028  0.0000  0.0000  0.4926  0.5074"
      ]
     },
     "execution_count": 2,
     "metadata": {},
     "output_type": "execute_result"
    }
   ],
   "source": [
    "# set seed > 0 to enforce seeding\n",
    "# set save=True to save result to file\n",
    "data = sim.make_fake_frequencies(2, 5000, seed=531, save=True)\n",
    "data.head()"
   ]
  },
  {
   "cell_type": "markdown",
   "id": "determined-herald",
   "metadata": {},
   "source": [
    "### Load an existing dataset"
   ]
  },
  {
   "cell_type": "code",
   "execution_count": 3,
   "id": "known-cross",
   "metadata": {},
   "outputs": [
    {
     "name": "stdout",
     "output_type": "stream",
     "text": [
      "File: Data/simData_N2_P5000_seed531.tsv does not exist, please generate it first.\n"
     ]
    },
    {
     "ename": "AttributeError",
     "evalue": "'NoneType' object has no attribute 'shape'",
     "output_type": "error",
     "traceback": [
      "\u001b[0;31m---------------------------------------------------------------------------\u001b[0m",
      "\u001b[0;31mAttributeError\u001b[0m                            Traceback (most recent call last)",
      "\u001b[0;32m<ipython-input-3-3d0827391bbf>\u001b[0m in \u001b[0;36m<module>\u001b[0;34m\u001b[0m\n\u001b[1;32m      1\u001b[0m \u001b[0mdata1\u001b[0m \u001b[0;34m=\u001b[0m \u001b[0msim\u001b[0m\u001b[0;34m.\u001b[0m\u001b[0mload_fake_frequencies\u001b[0m\u001b[0;34m(\u001b[0m\u001b[0;36m2\u001b[0m\u001b[0;34m,\u001b[0m\u001b[0;36m5000\u001b[0m\u001b[0;34m,\u001b[0m\u001b[0;36m531\u001b[0m\u001b[0;34m)\u001b[0m\u001b[0;34m\u001b[0m\u001b[0;34m\u001b[0m\u001b[0m\n\u001b[0;32m----> 2\u001b[0;31m \u001b[0mdata1\u001b[0m\u001b[0;34m.\u001b[0m\u001b[0mshape\u001b[0m\u001b[0;34m\u001b[0m\u001b[0;34m\u001b[0m\u001b[0m\n\u001b[0m",
      "\u001b[0;31mAttributeError\u001b[0m: 'NoneType' object has no attribute 'shape'"
     ]
    }
   ],
   "source": [
    "data1 = sim.load_fake_frequencies(2,5000,531)\n",
    "data1.shape"
   ]
  },
  {
   "cell_type": "markdown",
   "id": "municipal-harmony",
   "metadata": {},
   "source": [
    "### Convert between formats\n",
    "1. Collapse population"
   ]
  },
  {
   "cell_type": "code",
   "execution_count": null,
   "id": "thick-freeze",
   "metadata": {},
   "outputs": [],
   "source": [
    "# if column names are in format e.g. EUR_A use pop_is_suffix=False\n",
    "data_long = sim.freq_collapse_pop_to_column(data, pop_is_suffix=True)\n",
    "data_long.head()"
   ]
  },
  {
   "cell_type": "markdown",
   "id": "posted-oracle",
   "metadata": {},
   "source": [
    "2. Revert to original"
   ]
  },
  {
   "cell_type": "code",
   "execution_count": null,
   "id": "geographic-deposit",
   "metadata": {},
   "outputs": [],
   "source": [
    "# Note this will automatically make the population a suffix (due to merge)\n",
    "data_original = sim.freq_one_row_per_position(data_long)\n",
    "data_original.head()"
   ]
  },
  {
   "cell_type": "markdown",
   "id": "nominated-queens",
   "metadata": {},
   "source": [
    "## Simulated genomes\n",
    "\n",
    "### Simulate perfect genomes\n",
    "Perfect genomes are defined as those containing only the most frequent allele for given position in the given ancestry. "
   ]
  },
  {
   "cell_type": "code",
   "execution_count": 4,
   "id": "fantastic-interstate",
   "metadata": {},
   "outputs": [
    {
     "data": {
      "text/plain": [
       "dict_keys([('0', '0'), ('0', '1'), ('1', '0'), ('1', '1')])"
      ]
     },
     "execution_count": 4,
     "metadata": {},
     "output_type": "execute_result"
    }
   ],
   "source": [
    "perfect_G = sim.simulate_perfect_genomes([\"0\",\"1\"], data, save=True)\n",
    "perfect_G.keys()"
   ]
  },
  {
   "cell_type": "markdown",
   "id": "timely-heater",
   "metadata": {},
   "source": [
    "### Simulate genomes from distributions"
   ]
  },
  {
   "cell_type": "code",
   "execution_count": null,
   "id": "caring-session",
   "metadata": {},
   "outputs": [],
   "source": [
    "sim_genome = sim.simulate_random_genome([\"0\", \"0\"], data, save=False)\n",
    "sim_genome[0:5]"
   ]
  },
  {
   "cell_type": "code",
   "execution_count": 6,
   "id": "stone-psychiatry",
   "metadata": {},
   "outputs": [],
   "source": [
    "sim_genome = sim.simulate_random_genome([\"0\", \"0\"], data, save=True)\n",
    "sim_genome = sim.simulate_random_genome([\"0\", \"1\"], data, save=True)\n",
    "sim_genome = sim.simulate_random_genome([\"1\", \"0\"], data, save=True)\n",
    "sim_genome = sim.simulate_random_genome([\"1\", \"1\"], data, save=True)"
   ]
  },
  {
   "cell_type": "markdown",
   "id": "quarterly-civilian",
   "metadata": {},
   "source": [
    "### Convert between formats\n",
    "Simulation functions return genome as pairs of nucleotides but save as a table with ancestry information. These tables can be converted to genome format"
   ]
  },
  {
   "cell_type": "code",
   "execution_count": null,
   "id": "economic-entity",
   "metadata": {},
   "outputs": [],
   "source": [
    "saved_genome = pd.read_csv(\"Data/simGenome_100_0_0.tsv\", sep=\"\\t\", index_col=False)\n",
    "saved_genome.head()"
   ]
  },
  {
   "cell_type": "code",
   "execution_count": null,
   "id": "federal-nudist",
   "metadata": {},
   "outputs": [],
   "source": [
    "genome = sim.table_to_genome(saved_genome)\n",
    "genome[0:5]"
   ]
  },
  {
   "cell_type": "code",
   "execution_count": null,
   "id": "sublime-organizer",
   "metadata": {},
   "outputs": [],
   "source": [
    "back_to_table = sim.genome_to_table([\"0\", \"0\"], genome, data1)\n",
    "back_to_table.head()"
   ]
  },
  {
   "cell_type": "markdown",
   "id": "straight-bearing",
   "metadata": {},
   "source": [
    "## Admixed genomes"
   ]
  },
  {
   "cell_type": "code",
   "execution_count": 6,
   "id": "analyzed-malpractice",
   "metadata": {},
   "outputs": [
    {
     "data": {
      "text/html": [
       "<div>\n",
       "<style scoped>\n",
       "    .dataframe tbody tr th:only-of-type {\n",
       "        vertical-align: middle;\n",
       "    }\n",
       "\n",
       "    .dataframe tbody tr th {\n",
       "        vertical-align: top;\n",
       "    }\n",
       "\n",
       "    .dataframe thead th {\n",
       "        text-align: right;\n",
       "    }\n",
       "</style>\n",
       "<table border=\"1\" class=\"dataframe\">\n",
       "  <thead>\n",
       "    <tr style=\"text-align: right;\">\n",
       "      <th></th>\n",
       "      <th>POS</th>\n",
       "      <th>A</th>\n",
       "      <th>C</th>\n",
       "      <th>G</th>\n",
       "      <th>T</th>\n",
       "      <th>POP</th>\n",
       "    </tr>\n",
       "  </thead>\n",
       "  <tbody>\n",
       "    <tr>\n",
       "      <th>0</th>\n",
       "      <td>0</td>\n",
       "      <td>0.0000</td>\n",
       "      <td>0.5567</td>\n",
       "      <td>0.4433</td>\n",
       "      <td>0.0000</td>\n",
       "      <td>0</td>\n",
       "    </tr>\n",
       "    <tr>\n",
       "      <th>0</th>\n",
       "      <td>0</td>\n",
       "      <td>0.0000</td>\n",
       "      <td>0.6487</td>\n",
       "      <td>0.3513</td>\n",
       "      <td>0.0000</td>\n",
       "      <td>1</td>\n",
       "    </tr>\n",
       "    <tr>\n",
       "      <th>1</th>\n",
       "      <td>1</td>\n",
       "      <td>0.4619</td>\n",
       "      <td>0.0000</td>\n",
       "      <td>0.0000</td>\n",
       "      <td>0.5381</td>\n",
       "      <td>0</td>\n",
       "    </tr>\n",
       "    <tr>\n",
       "      <th>1</th>\n",
       "      <td>1</td>\n",
       "      <td>0.2880</td>\n",
       "      <td>0.0000</td>\n",
       "      <td>0.0000</td>\n",
       "      <td>0.7120</td>\n",
       "      <td>1</td>\n",
       "    </tr>\n",
       "    <tr>\n",
       "      <th>2</th>\n",
       "      <td>2</td>\n",
       "      <td>0.0000</td>\n",
       "      <td>0.8425</td>\n",
       "      <td>0.1575</td>\n",
       "      <td>0.0000</td>\n",
       "      <td>0</td>\n",
       "    </tr>\n",
       "  </tbody>\n",
       "</table>\n",
       "</div>"
      ],
      "text/plain": [
       "   POS       A       C       G       T POP\n",
       "0    0  0.0000  0.5567  0.4433  0.0000   0\n",
       "0    0  0.0000  0.6487  0.3513  0.0000   1\n",
       "1    1  0.4619  0.0000  0.0000  0.5381   0\n",
       "1    1  0.2880  0.0000  0.0000  0.7120   1\n",
       "2    2  0.0000  0.8425  0.1575  0.0000   0"
      ]
     },
     "execution_count": 6,
     "metadata": {},
     "output_type": "execute_result"
    }
   ],
   "source": [
    "data = pd.read_csv(\"../../simulated_files/simData_N2_P5000_seed531.tsv\", sep = \"\\t\", index_col=False)\n",
    "data_long = sim.freq_collapse_pop_to_column(data, pop_is_suffix=True)\n",
    "data_long.head()"
   ]
  },
  {
   "cell_type": "code",
   "execution_count": null,
   "id": "protected-palestinian",
   "metadata": {},
   "outputs": [],
   "source": [
    "x1 = sim.random_admixed_genome([\"0\", \"1\"], data_long, 1, save=False)"
   ]
  },
  {
   "cell_type": "code",
   "execution_count": null,
   "id": "norman-context",
   "metadata": {},
   "outputs": [],
   "source": [
    "x2 = sim.random_admixed_genome([\"0\", \"1\"], data_long, 2, save=False)"
   ]
  },
  {
   "cell_type": "code",
   "execution_count": null,
   "id": "boring-stanford",
   "metadata": {},
   "outputs": [],
   "source": [
    "x10 = sim.random_admixed_genome([\"0\", \"1\"], data_long, 10, save=False)"
   ]
  },
  {
   "cell_type": "code",
   "execution_count": 7,
   "id": "intellectual-encoding",
   "metadata": {},
   "outputs": [],
   "source": [
    "data_long =  sim.freq_collapse_pop_to_column(data, pop_is_suffix=True)\n",
    "x = sim.random_admixed_genome([\"0\", \"1\"], data_long, 1, sample_id=\"0\", save=True)\n",
    "x = sim.random_admixed_genome([\"0\", \"1\"], data_long, 1, sample_id=\"1\", save=True)\n",
    "x = sim.random_admixed_genome([\"0\", \"1\"], data_long, 2, sample_id=\"0\", save=True)\n",
    "x = sim.random_admixed_genome([\"0\", \"1\"], data_long, 2, sample_id=\"1\", save=True)\n",
    "x = sim.random_admixed_genome([\"0\", \"1\"], data_long, 4, sample_id=\"0\", save=True)\n",
    "x = sim.random_admixed_genome([\"0\", \"1\"], data_long, 4, sample_id=\"1\", save=True)\n",
    "x = sim.random_admixed_genome([\"0\", \"1\"], data_long, 5, sample_id=\"0\", save=True)\n",
    "x = sim.random_admixed_genome([\"0\", \"1\"], data_long, 5, sample_id=\"1\", save=True)\n",
    "x = sim.random_admixed_genome([\"0\", \"1\"], data_long, 10, sample_id=\"0\", save=True)\n",
    "x = sim.random_admixed_genome([\"0\", \"1\"], data_long, 10, sample_id=\"1\", save=True)"
   ]
  },
  {
   "cell_type": "markdown",
   "id": "cardiac-fountain",
   "metadata": {},
   "source": [
    "### Admix from perfect genomes"
   ]
  },
  {
   "cell_type": "code",
   "execution_count": null,
   "id": "continuous-answer",
   "metadata": {},
   "outputs": [],
   "source": []
  },
  {
   "cell_type": "markdown",
   "id": "hawaiian-croatia",
   "metadata": {},
   "source": [
    "### 1000 Genomes"
   ]
  },
  {
   "cell_type": "code",
   "execution_count": null,
   "id": "mental-second",
   "metadata": {},
   "outputs": [],
   "source": [
    "def load_1000g_emissions(filename):\n",
    "    data = pd.read_csv(filename, usecols=[1,7,8,9,10,11,12,13, 14], index_col=False)\n",
    "    return data"
   ]
  },
  {
   "cell_type": "code",
   "execution_count": null,
   "id": "olive-residence",
   "metadata": {},
   "outputs": [],
   "source": [
    "g = load_1000g_emissions(\"../../chromosome_21_files/chr21_genotypes_afr_eur_allelefreqs.bybp.csv\")\n",
    "g.head()"
   ]
  },
  {
   "cell_type": "code",
   "execution_count": null,
   "id": "bored-finger",
   "metadata": {},
   "outputs": [],
   "source": [
    "g_long = sim.freq_collapse_pop_to_column(g, pop_is_suffix=False)\n",
    "g_long.head()"
   ]
  },
  {
   "cell_type": "code",
   "execution_count": null,
   "id": "liquid-debate",
   "metadata": {},
   "outputs": [],
   "source": [
    "#ad1 = sim.random_admixed_genome([\"AFR_\", \"EUR_\"], g_long, 1, save=False)\n",
    "# Need to make this more efficient for large data"
   ]
  },
  {
   "cell_type": "markdown",
   "id": "automotive-performance",
   "metadata": {},
   "source": [
    "### Admix from existing chromosomes (1000G)"
   ]
  },
  {
   "cell_type": "code",
   "execution_count": 9,
   "id": "suspected-reception",
   "metadata": {},
   "outputs": [],
   "source": [
    "g1 = pd.read_csv(\"../../simulated_files/simGenome_perfect_5000_0_0.tsv\", sep = \"\\t\", index_col = False)\n",
    "g2 = pd.read_csv(\"../../simulated_files/simGenome_perfect_5000_1_1.tsv\", sep = \"\\t\", index_col = False)\n"
   ]
  },
  {
   "cell_type": "code",
   "execution_count": 14,
   "id": "digital-biography",
   "metadata": {},
   "outputs": [],
   "source": [
    "for repeat in [\"a\", \"b\", \"c\"]:\n",
    "    _ = sim.admix_two_genomes_full(g1, g2, 1, \"../../simulated_files/simAdmixPerfectGenomes00_11_5000_Rx1_\"+repeat+\".tsv\", save=True)"
   ]
  },
  {
   "cell_type": "code",
   "execution_count": 15,
   "id": "regional-detector",
   "metadata": {},
   "outputs": [],
   "source": [
    "for repeat in [\"a\", \"b\", \"c\"]:\n",
    "    _ = sim.admix_two_genomes_full(g1, g2, 3, \"../../simulated_files/simAdmixPerfectGenomes00_11_5000_Rx3_\"+repeat+\".tsv\", save=True)"
   ]
  },
  {
   "cell_type": "code",
   "execution_count": 16,
   "id": "theoretical-fleet",
   "metadata": {},
   "outputs": [],
   "source": [
    "for repeat in [\"a\", \"b\", \"c\"]:\n",
    "    _ = sim.admix_two_genomes_full(g1, g2, 5, \"../../simulated_files/simAdmixPerfectGenomes00_11_5000_Rx5_\"+repeat+\".tsv\", save=True)"
   ]
  },
  {
   "cell_type": "code",
   "execution_count": 17,
   "id": "foreign-assets",
   "metadata": {},
   "outputs": [],
   "source": [
    "for repeat in [\"a\", \"b\", \"c\"]:\n",
    "    _ = sim.admix_two_genomes_full(g1, g2, 10, \"../../simulated_files/simAdmixPerfectGenomes00_11_5000_Rx10_\"+repeat+\".tsv\", save=True)"
   ]
  },
  {
   "cell_type": "markdown",
   "id": "genetic-pharmacy",
   "metadata": {},
   "source": [
    "#### Chromosome 21"
   ]
  },
  {
   "cell_type": "code",
   "execution_count": 18,
   "id": "exclusive-solomon",
   "metadata": {},
   "outputs": [],
   "source": [
    "g1 = pd.read_csv(\"../../chromosome_21_files/NA12878.EUR.chr21.phase3_shapeit2_mvncall_integrated_v5a.20130502.formatted_geno.tsv\", sep=\"\\t\", index_col=False)\n",
    "g2 = pd.read_csv(\"../../chromosome_21_files/HG01879.AFR.chr21.phase3_shapeit2_mvncall_integrated_v5a.20130502.formatted_geno.tsv\", sep=\"\\t\", index_col=False)"
   ]
  },
  {
   "cell_type": "code",
   "execution_count": 19,
   "id": "angry-nickel",
   "metadata": {},
   "outputs": [
    {
     "data": {
      "text/html": [
       "<div>\n",
       "<style scoped>\n",
       "    .dataframe tbody tr th:only-of-type {\n",
       "        vertical-align: middle;\n",
       "    }\n",
       "\n",
       "    .dataframe tbody tr th {\n",
       "        vertical-align: top;\n",
       "    }\n",
       "\n",
       "    .dataframe thead th {\n",
       "        text-align: right;\n",
       "    }\n",
       "</style>\n",
       "<table border=\"1\" class=\"dataframe\">\n",
       "  <thead>\n",
       "    <tr style=\"text-align: right;\">\n",
       "      <th></th>\n",
       "      <th>POS</th>\n",
       "      <th>A1</th>\n",
       "      <th>A2</th>\n",
       "      <th>POP1</th>\n",
       "      <th>POP2</th>\n",
       "    </tr>\n",
       "  </thead>\n",
       "  <tbody>\n",
       "    <tr>\n",
       "      <th>0</th>\n",
       "      <td>9411239</td>\n",
       "      <td>A</td>\n",
       "      <td>A</td>\n",
       "      <td>0</td>\n",
       "      <td>0</td>\n",
       "    </tr>\n",
       "    <tr>\n",
       "      <th>1</th>\n",
       "      <td>9411245</td>\n",
       "      <td>A</td>\n",
       "      <td>A</td>\n",
       "      <td>0</td>\n",
       "      <td>0</td>\n",
       "    </tr>\n",
       "    <tr>\n",
       "      <th>2</th>\n",
       "      <td>9411264</td>\n",
       "      <td>C</td>\n",
       "      <td>C</td>\n",
       "      <td>0</td>\n",
       "      <td>0</td>\n",
       "    </tr>\n",
       "    <tr>\n",
       "      <th>3</th>\n",
       "      <td>9411267</td>\n",
       "      <td>T</td>\n",
       "      <td>T</td>\n",
       "      <td>0</td>\n",
       "      <td>0</td>\n",
       "    </tr>\n",
       "    <tr>\n",
       "      <th>4</th>\n",
       "      <td>9411302</td>\n",
       "      <td>T</td>\n",
       "      <td>T</td>\n",
       "      <td>0</td>\n",
       "      <td>0</td>\n",
       "    </tr>\n",
       "  </tbody>\n",
       "</table>\n",
       "</div>"
      ],
      "text/plain": [
       "       POS A1 A2  POP1  POP2\n",
       "0  9411239  A  A     0     0\n",
       "1  9411245  A  A     0     0\n",
       "2  9411264  C  C     0     0\n",
       "3  9411267  T  T     0     0\n",
       "4  9411302  T  T     0     0"
      ]
     },
     "execution_count": 19,
     "metadata": {},
     "output_type": "execute_result"
    }
   ],
   "source": [
    "g2.head()"
   ]
  },
  {
   "cell_type": "code",
   "execution_count": 20,
   "id": "gothic-street",
   "metadata": {},
   "outputs": [],
   "source": [
    "g2.drop_duplicates(subset=\"POS\", keep=False, inplace=True, ignore_index=True)\n",
    "g1.drop_duplicates(subset=\"POS\", keep=False, inplace=True, ignore_index=True)"
   ]
  },
  {
   "cell_type": "code",
   "execution_count": 21,
   "id": "continent-enforcement",
   "metadata": {},
   "outputs": [],
   "source": [
    "for repeat in [\"a\", \"b\", \"c\"]:\n",
    "    mix1 = sim.admix_two_genomes_full(g1, g2, 4, \"../../simulated_files/admixEUR_AFR_chr21_Rx4_\"+repeat+\".tsv\", save=True)"
   ]
  },
  {
   "cell_type": "code",
   "execution_count": null,
   "id": "atmospheric-bleeding",
   "metadata": {},
   "outputs": [],
   "source": [
    "for repeat in [\"a\", \"b\", \"c\"]:\n",
    "    mix1 = sim.admix_two_genomes_full(g1, g2, 3, \"../../simulated_files/admixEUR_AFR_chr21_Rx3_\"+repeat+\".tsv\", save=True)"
   ]
  },
  {
   "cell_type": "markdown",
   "id": "arranged-train",
   "metadata": {},
   "source": [
    "#### Chromosome 14"
   ]
  },
  {
   "cell_type": "code",
   "execution_count": null,
   "id": "tamil-harmony",
   "metadata": {},
   "outputs": [],
   "source": [
    "g1 = pd.read_csv(\"../../chromosome_14_files/NA12878.EUR.chr14.phase3_shapeit2_mvncall_integrated_v5a.20130502.formatted_geno.tsv\", sep=\"\\t\", index_col=False)\n",
    "g2 = pd.read_csv(\"../../chromosome_14_files/HG01879.AFR.chr14.phase3_shapeit2_mvncall_integrated_v5a.20130502.formatted_geno.tsv\", sep=\"\\t\", index_col=False)"
   ]
  },
  {
   "cell_type": "code",
   "execution_count": null,
   "id": "terminal-lesson",
   "metadata": {},
   "outputs": [],
   "source": [
    "g2.drop_duplicates(subset=\"POS\", keep=False, inplace=True, ignore_index=True)\n",
    "g1.drop_duplicates(subset=\"POS\", keep=False, inplace=True, ignore_index=True)"
   ]
  },
  {
   "cell_type": "code",
   "execution_count": null,
   "id": "standard-surgery",
   "metadata": {},
   "outputs": [],
   "source": [
    "for repeat in [\"a\", \"b\", \"c\"]:\n",
    "    mix1 = sim.admix_two_genomes_full(g1, g2, 1, \"../../simulated_files/admixEUR_AFR_chr14_Rx1_\"+repeat+\".tsv\", save=True)"
   ]
  },
  {
   "cell_type": "code",
   "execution_count": null,
   "id": "crucial-episode",
   "metadata": {},
   "outputs": [],
   "source": [
    "for repeat in [\"a\", \"b\", \"c\"]:\n",
    "    mix1 = sim.admix_two_genomes_full(g1, g2, 3, \"../../simulated_files/admixEUR_AFR_chr14_Rx3_\"+repeat+\".tsv\", save=True)"
   ]
  },
  {
   "cell_type": "markdown",
   "id": "absolute-academy",
   "metadata": {},
   "source": [
    "#### Two-step admix chr21"
   ]
  },
  {
   "cell_type": "code",
   "execution_count": null,
   "id": "instructional-sunglasses",
   "metadata": {},
   "outputs": [],
   "source": [
    "g1 = pd.read_csv(\"../../chromosome_21_files/NA12878.EUR.chr21.phase3_shapeit2_mvncall_integrated_v5a.20130502.formatted_geno.tsv\", sep=\"\\t\", index_col=False)\n",
    "g2 = pd.read_csv(\"../../simulated_files/admixEUR_AFR_chr21_Rx1_a.tsv\", sep=\"\\t\", index_col=False)\n",
    "g2.drop_duplicates(subset=\"POS\", keep=False, inplace=True, ignore_index=True)\n",
    "g1.drop_duplicates(subset=\"POS\", keep=False, inplace=True, ignore_index=True)\n",
    "for repeat in [\"a\", \"b\", \"c\"]:\n",
    "    mix1 = sim.admix_two_genomes_full(g1, g2, 1, \"../../simulated_files/admixEUR_Rx1a_chr21_Rx1_\"+repeat+\".tsv\", save=True)"
   ]
  },
  {
   "cell_type": "code",
   "execution_count": null,
   "id": "combined-narrow",
   "metadata": {},
   "outputs": [],
   "source": [
    "g1 = pd.read_csv(\"../../simulated_files/admixEUR_AFR_chr21_Rx1_c.tsv\", sep=\"\\t\", index_col=False)\n",
    "g2 = pd.read_csv(\"../../simulated_files/admixEUR_AFR_chr21_Rx3_b.tsv\", sep=\"\\t\", index_col=False)\n",
    "g2.drop_duplicates(subset=\"POS\", keep=False, inplace=True, ignore_index=True)\n",
    "g1.drop_duplicates(subset=\"POS\", keep=False, inplace=True, ignore_index=True)\n",
    "for repeat in [\"a\", \"b\", \"c\"]:\n",
    "    mix1 = sim.admix_two_genomes_full(g1, g2, 1, \"../../simulated_files/admixRx1c_Rx3b_chr21_Rx1_\"+repeat+\".tsv\", save=True)"
   ]
  },
  {
   "cell_type": "markdown",
   "id": "monetary-cricket",
   "metadata": {},
   "source": [
    "## Accuracy"
   ]
  },
  {
   "cell_type": "code",
   "execution_count": null,
   "id": "aerial-savings",
   "metadata": {},
   "outputs": [],
   "source": [
    "import pandas as pd\n",
    "import numpy as np\n",
    "def accuracy(predict_geno, truth_geno):\n",
    "    n_pos = len(predict_geno)\n",
    "    p1 = predict_geno.POP1.to_numpy()\n",
    "    p2 = predict_geno.POP2.to_numpy()\n",
    "    t1 = truth_geno.POP1.to_numpy()\n",
    "    t2 = truth_geno.POP2.to_numpy()\n",
    "    #print(type(t2))\n",
    "    correct1 = np.equal(p1, t1).sum()\n",
    "    correct2 = np.equal(p2, t2).sum()\n",
    "    accuracy = (correct1 + correct2) / (2 * n_pos)\n",
    "    return accuracy"
   ]
  },
  {
   "cell_type": "code",
   "execution_count": null,
   "id": "streaming-quilt",
   "metadata": {},
   "outputs": [],
   "source": [
    "g1 = pd.read_csv(\"../../simulated_files/admixEUR_AFR_chr21_Rx1_c.tsv\", sep=\"\\t\", index_col=False)\n",
    "g2 = pd.read_csv(\"../../simulated_files/admixEUR_AFR_chr21_Rx3_b.tsv\", sep=\"\\t\", index_col=False)\n",
    "g2.drop_duplicates(subset=\"POS\", keep=False, inplace=True, ignore_index=True)\n",
    "g1.drop_duplicates(subset=\"POS\", keep=False, inplace=True, ignore_index=True)\n",
    "accuracy(g1, g2)"
   ]
  }
 ],
 "metadata": {
  "kernelspec": {
   "display_name": "Python 3",
   "language": "python",
   "name": "python3"
  },
  "language_info": {
   "codemirror_mode": {
    "name": "ipython",
    "version": 3
   },
   "file_extension": ".py",
   "mimetype": "text/x-python",
   "name": "python",
   "nbconvert_exporter": "python",
   "pygments_lexer": "ipython3",
   "version": "3.8.6"
  }
 },
 "nbformat": 4,
 "nbformat_minor": 5
}
