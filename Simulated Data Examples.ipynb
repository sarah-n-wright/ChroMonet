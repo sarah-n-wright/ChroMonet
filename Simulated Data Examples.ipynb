{
 "cells": [
  {
   "cell_type": "code",
   "execution_count": 2,
   "id": "technological-savage",
   "metadata": {},
   "outputs": [],
   "source": [
    "import simulated_data as sim\n",
    "import pandas as pd"
   ]
  },
  {
   "cell_type": "markdown",
   "id": "extensive-driver",
   "metadata": {},
   "source": [
    "### TODO\n",
    "* Make a genome load function\n",
    "* Make it possible to save to different directory"
   ]
  },
  {
   "cell_type": "markdown",
   "id": "conventional-crisis",
   "metadata": {},
   "source": [
    "## Frequency Datasets\n",
    "### Create a simulated dataset"
   ]
  },
  {
   "cell_type": "code",
   "execution_count": null,
   "id": "interpreted-evanescence",
   "metadata": {},
   "outputs": [],
   "source": [
    "# set seed > 0 to enforce seeding\n",
    "# set save=True to save result to file\n",
    "data = sim.make_fake_frequencies(2, 500, seed=0, save=False)\n",
    "data.head()"
   ]
  },
  {
   "cell_type": "markdown",
   "id": "determined-herald",
   "metadata": {},
   "source": [
    "### Load an existing dataset"
   ]
  },
  {
   "cell_type": "code",
   "execution_count": null,
   "id": "known-cross",
   "metadata": {},
   "outputs": [],
   "source": [
    "data1 = sim.load_fake_frequencies(2,100,518)\n",
    "data1.head()"
   ]
  },
  {
   "cell_type": "markdown",
   "id": "municipal-harmony",
   "metadata": {},
   "source": [
    "### Convert between formats\n",
    "1. Collapse population"
   ]
  },
  {
   "cell_type": "code",
   "execution_count": null,
   "id": "thick-freeze",
   "metadata": {},
   "outputs": [],
   "source": [
    "# if column names are in format e.g. EUR_A use pop_is_suffix=False\n",
    "data_long = sim.freq_collapse_pop_to_column(data, pop_is_suffix=True)\n",
    "data_long.head()"
   ]
  },
  {
   "cell_type": "markdown",
   "id": "posted-oracle",
   "metadata": {},
   "source": [
    "2. Revert to original"
   ]
  },
  {
   "cell_type": "code",
   "execution_count": null,
   "id": "geographic-deposit",
   "metadata": {},
   "outputs": [],
   "source": [
    "# Note this will automatically make the population a suffix (due to merge)\n",
    "data_original = sim.freq_one_row_per_position(data_long)\n",
    "data_original.head()"
   ]
  },
  {
   "cell_type": "markdown",
   "id": "nominated-queens",
   "metadata": {},
   "source": [
    "## Simulated genomes\n",
    "\n",
    "### Simulate perfect genomes\n",
    "Perfect genomes are defined as those containing only the most frequent allele for given position in the given ancestry. "
   ]
  },
  {
   "cell_type": "code",
   "execution_count": null,
   "id": "fantastic-interstate",
   "metadata": {},
   "outputs": [],
   "source": [
    "perfect_G = sim.simulate_perfect_genomes([\"0\",\"1\"], data, save=False)\n",
    "perfect_G.keys()"
   ]
  },
  {
   "cell_type": "markdown",
   "id": "timely-heater",
   "metadata": {},
   "source": [
    "### Simulate genomes from distributions"
   ]
  },
  {
   "cell_type": "code",
   "execution_count": null,
   "id": "caring-session",
   "metadata": {},
   "outputs": [],
   "source": [
    "sim_genome = sim.simulate_random_genomes([\"0\", \"0\"], data, save=False)\n",
    "sim_genome[0:5]"
   ]
  },
  {
   "cell_type": "markdown",
   "id": "quarterly-civilian",
   "metadata": {},
   "source": [
    "### Convert between formats\n",
    "Simulation functions return genome as pairs of nucleotides but save as a table with ancestry information. These tables can be converted to genome format"
   ]
  },
  {
   "cell_type": "code",
   "execution_count": null,
   "id": "economic-entity",
   "metadata": {},
   "outputs": [],
   "source": [
    "saved_genome = pd.read_csv(\"Data/simGenome_100_0_0.tsv\", sep=\"\\t\", index_col=False)\n",
    "saved_genome.head()"
   ]
  },
  {
   "cell_type": "code",
   "execution_count": null,
   "id": "federal-nudist",
   "metadata": {},
   "outputs": [],
   "source": [
    "genome = sim.table_to_genome(saved_genome)\n",
    "genome[0:5]"
   ]
  },
  {
   "cell_type": "code",
   "execution_count": null,
   "id": "sublime-organizer",
   "metadata": {},
   "outputs": [],
   "source": [
    "back_to_table = sim.genome_to_table([\"0\", \"0\"], genome, data1)\n",
    "back_to_table.head()"
   ]
  },
  {
   "cell_type": "markdown",
   "id": "straight-bearing",
   "metadata": {},
   "source": [
    "## Admixed genomes"
   ]
  },
  {
   "cell_type": "code",
   "execution_count": null,
   "id": "protected-palestinian",
   "metadata": {},
   "outputs": [],
   "source": [
    "x1 = sim.random_admixed_genome([\"0\", \"1\"], data_long, 1, save=False)"
   ]
  },
  {
   "cell_type": "code",
   "execution_count": null,
   "id": "norman-context",
   "metadata": {},
   "outputs": [],
   "source": [
    "x2 = sim.random_admixed_genome([\"0\", \"1\"], data_long, 2, save=False)"
   ]
  },
  {
   "cell_type": "code",
   "execution_count": null,
   "id": "boring-stanford",
   "metadata": {},
   "outputs": [],
   "source": [
    "x10 = sim.random_admixed_genome([\"0\", \"1\"], data_long, 10, save=False)"
   ]
  },
  {
   "cell_type": "markdown",
   "id": "hawaiian-croatia",
   "metadata": {},
   "source": [
    "### 1000 Genomes"
   ]
  },
  {
   "cell_type": "code",
   "execution_count": null,
   "id": "mental-second",
   "metadata": {},
   "outputs": [],
   "source": [
    "def load_1000g_emissions(filename):\n",
    "    data = pd.read_csv(filename, usecols=[1,7,8,9,10,11,12,13, 14], index_col=False)\n",
    "    return data"
   ]
  },
  {
   "cell_type": "code",
   "execution_count": null,
   "id": "olive-residence",
   "metadata": {},
   "outputs": [],
   "source": [
    "g = load_1000g_emissions(\"../../chromosome_21_files/chr21_genotypes_afr_eur_allelefreqs.bybp.csv\")\n",
    "g.head()"
   ]
  },
  {
   "cell_type": "code",
   "execution_count": null,
   "id": "bored-finger",
   "metadata": {},
   "outputs": [],
   "source": [
    "g_long = sim.freq_collapse_pop_to_column(g, pop_is_suffix=False)\n",
    "g_long.head()"
   ]
  },
  {
   "cell_type": "code",
   "execution_count": null,
   "id": "liquid-debate",
   "metadata": {},
   "outputs": [],
   "source": [
    "#ad1 = sim.random_admixed_genome([\"AFR_\", \"EUR_\"], g_long, 1, save=False)\n",
    "# Need to make this more efficient for large data"
   ]
  },
  {
   "cell_type": "markdown",
   "id": "automotive-performance",
   "metadata": {},
   "source": [
    "### Admix from existing chromosomes (1000G)"
   ]
  },
  {
   "cell_type": "markdown",
   "id": "humanitarian-industry",
   "metadata": {},
   "source": [
    "#### Chromosome 21"
   ]
  },
  {
   "cell_type": "code",
   "execution_count": 34,
   "id": "exclusive-solomon",
   "metadata": {},
   "outputs": [],
   "source": [
    "g1 = pd.read_csv(\"../../chromosome_21_files/NA12878.EUR.chr21.phase3_shapeit2_mvncall_integrated_v5a.20130502.formatted_geno.tsv\", sep=\"\\t\", index_col=False)\n",
    "g2 = pd.read_csv(\"../../chromosome_21_files/HG01879.AFR.chr21.phase3_shapeit2_mvncall_integrated_v5a.20130502.formatted_geno.tsv\", sep=\"\\t\", index_col=False)"
   ]
  },
  {
   "cell_type": "code",
   "execution_count": 35,
   "id": "angry-nickel",
   "metadata": {},
   "outputs": [
    {
     "data": {
      "text/html": [
       "<div>\n",
       "<style scoped>\n",
       "    .dataframe tbody tr th:only-of-type {\n",
       "        vertical-align: middle;\n",
       "    }\n",
       "\n",
       "    .dataframe tbody tr th {\n",
       "        vertical-align: top;\n",
       "    }\n",
       "\n",
       "    .dataframe thead th {\n",
       "        text-align: right;\n",
       "    }\n",
       "</style>\n",
       "<table border=\"1\" class=\"dataframe\">\n",
       "  <thead>\n",
       "    <tr style=\"text-align: right;\">\n",
       "      <th></th>\n",
       "      <th>POS</th>\n",
       "      <th>A1</th>\n",
       "      <th>A2</th>\n",
       "      <th>POP1</th>\n",
       "      <th>POP2</th>\n",
       "    </tr>\n",
       "  </thead>\n",
       "  <tbody>\n",
       "    <tr>\n",
       "      <th>0</th>\n",
       "      <td>9411239</td>\n",
       "      <td>A</td>\n",
       "      <td>A</td>\n",
       "      <td>0</td>\n",
       "      <td>0</td>\n",
       "    </tr>\n",
       "    <tr>\n",
       "      <th>1</th>\n",
       "      <td>9411245</td>\n",
       "      <td>A</td>\n",
       "      <td>A</td>\n",
       "      <td>0</td>\n",
       "      <td>0</td>\n",
       "    </tr>\n",
       "    <tr>\n",
       "      <th>2</th>\n",
       "      <td>9411264</td>\n",
       "      <td>C</td>\n",
       "      <td>C</td>\n",
       "      <td>0</td>\n",
       "      <td>0</td>\n",
       "    </tr>\n",
       "    <tr>\n",
       "      <th>3</th>\n",
       "      <td>9411267</td>\n",
       "      <td>T</td>\n",
       "      <td>T</td>\n",
       "      <td>0</td>\n",
       "      <td>0</td>\n",
       "    </tr>\n",
       "    <tr>\n",
       "      <th>4</th>\n",
       "      <td>9411302</td>\n",
       "      <td>T</td>\n",
       "      <td>T</td>\n",
       "      <td>0</td>\n",
       "      <td>0</td>\n",
       "    </tr>\n",
       "  </tbody>\n",
       "</table>\n",
       "</div>"
      ],
      "text/plain": [
       "       POS A1 A2  POP1  POP2\n",
       "0  9411239  A  A     0     0\n",
       "1  9411245  A  A     0     0\n",
       "2  9411264  C  C     0     0\n",
       "3  9411267  T  T     0     0\n",
       "4  9411302  T  T     0     0"
      ]
     },
     "execution_count": 35,
     "metadata": {},
     "output_type": "execute_result"
    }
   ],
   "source": [
    "g2.head()"
   ]
  },
  {
   "cell_type": "code",
   "execution_count": 37,
   "id": "cardiac-petite",
   "metadata": {},
   "outputs": [],
   "source": [
    "g2.drop_duplicates(subset=\"POS\", keep=False, inplace=True, ignore_index=True)\n",
    "g1.drop_duplicates(subset=\"POS\", keep=False, inplace=True, ignore_index=True)"
   ]
  },
  {
   "cell_type": "code",
   "execution_count": 38,
   "id": "continent-enforcement",
   "metadata": {},
   "outputs": [],
   "source": [
    "for repeat in [\"a\", \"b\", \"c\"]:\n",
    "    mix1 = sim.admix_two_genomes_full(g1, g2, 1, \"../../simulated_files/admixEUR_AFR_chr21_Rx1_\"+repeat+\".tsv\", save=True)"
   ]
  },
  {
   "cell_type": "code",
   "execution_count": 39,
   "id": "individual-garlic",
   "metadata": {},
   "outputs": [],
   "source": [
    "for repeat in [\"a\", \"b\", \"c\"]:\n",
    "    mix1 = sim.admix_two_genomes_full(g1, g2, 3, \"../../simulated_files/admixEUR_AFR_chr21_Rx3_\"+repeat+\".tsv\", save=True)"
   ]
  },
  {
   "cell_type": "markdown",
   "id": "least-headquarters",
   "metadata": {},
   "source": [
    "#### Chromosome 14"
   ]
  },
  {
   "cell_type": "code",
   "execution_count": 40,
   "id": "least-special",
   "metadata": {},
   "outputs": [],
   "source": [
    "g1 = pd.read_csv(\"../../chromosome_14_files/NA12878.EUR.chr14.phase3_shapeit2_mvncall_integrated_v5a.20130502.formatted_geno.tsv\", sep=\"\\t\", index_col=False)\n",
    "g2 = pd.read_csv(\"../../chromosome_14_files/HG01879.AFR.chr14.phase3_shapeit2_mvncall_integrated_v5a.20130502.formatted_geno.tsv\", sep=\"\\t\", index_col=False)"
   ]
  },
  {
   "cell_type": "code",
   "execution_count": 43,
   "id": "auburn-prototype",
   "metadata": {},
   "outputs": [],
   "source": [
    "g2.drop_duplicates(subset=\"POS\", keep=False, inplace=True, ignore_index=True)\n",
    "g1.drop_duplicates(subset=\"POS\", keep=False, inplace=True, ignore_index=True)"
   ]
  },
  {
   "cell_type": "code",
   "execution_count": 44,
   "id": "vulnerable-aaron",
   "metadata": {},
   "outputs": [],
   "source": [
    "for repeat in [\"a\", \"b\", \"c\"]:\n",
    "    mix1 = sim.admix_two_genomes_full(g1, g2, 1, \"../../simulated_files/admixEUR_AFR_chr14_Rx1_\"+repeat+\".tsv\", save=True)"
   ]
  },
  {
   "cell_type": "code",
   "execution_count": 45,
   "id": "declared-forth",
   "metadata": {},
   "outputs": [],
   "source": [
    "for repeat in [\"a\", \"b\", \"c\"]:\n",
    "    mix1 = sim.admix_two_genomes_full(g1, g2, 3, \"../../simulated_files/admixEUR_AFR_chr14_Rx3_\"+repeat+\".tsv\", save=True)"
   ]
  },
  {
   "cell_type": "markdown",
   "id": "enclosed-movie",
   "metadata": {},
   "source": [
    "#### Two-step admix chr21"
   ]
  },
  {
   "cell_type": "code",
   "execution_count": 52,
   "id": "realistic-portable",
   "metadata": {},
   "outputs": [],
   "source": [
    "g1 = pd.read_csv(\"../../chromosome_21_files/NA12878.EUR.chr21.phase3_shapeit2_mvncall_integrated_v5a.20130502.formatted_geno.tsv\", sep=\"\\t\", index_col=False)\n",
    "g2 = pd.read_csv(\"../../simulated_files/admixEUR_AFR_chr21_Rx1_a.tsv\", sep=\"\\t\", index_col=False)\n",
    "g2.drop_duplicates(subset=\"POS\", keep=False, inplace=True, ignore_index=True)\n",
    "g1.drop_duplicates(subset=\"POS\", keep=False, inplace=True, ignore_index=True)\n",
    "for repeat in [\"a\", \"b\", \"c\"]:\n",
    "    mix1 = sim.admix_two_genomes_full(g1, g2, 1, \"../../simulated_files/admixEUR_Rx1a_chr21_Rx1_\"+repeat+\".tsv\", save=True)"
   ]
  },
  {
   "cell_type": "code",
   "execution_count": 53,
   "id": "buried-former",
   "metadata": {},
   "outputs": [],
   "source": [
    "g1 = pd.read_csv(\"../../simulated_files/admixEUR_AFR_chr21_Rx1_c.tsv\", sep=\"\\t\", index_col=False)\n",
    "g2 = pd.read_csv(\"../../simulated_files/admixEUR_AFR_chr21_Rx3_b.tsv\", sep=\"\\t\", index_col=False)\n",
    "g2.drop_duplicates(subset=\"POS\", keep=False, inplace=True, ignore_index=True)\n",
    "g1.drop_duplicates(subset=\"POS\", keep=False, inplace=True, ignore_index=True)\n",
    "for repeat in [\"a\", \"b\", \"c\"]:\n",
    "    mix1 = sim.admix_two_genomes_full(g1, g2, 1, \"../../simulated_files/admixRx1c_Rx3b_chr21_Rx1_\"+repeat+\".tsv\", save=True)"
   ]
  },
  {
   "cell_type": "code",
   "execution_count": 49,
   "id": "applicable-rochester",
   "metadata": {},
   "outputs": [
    {
     "data": {
      "text/plain": [
       "(2539145, 5)"
      ]
     },
     "execution_count": 49,
     "metadata": {},
     "output_type": "execute_result"
    }
   ],
   "source": []
  }
 ],
 "metadata": {
  "kernelspec": {
   "display_name": "Python 3",
   "language": "python",
   "name": "python3"
  },
  "language_info": {
   "codemirror_mode": {
    "name": "ipython",
    "version": 3
   },
   "file_extension": ".py",
   "mimetype": "text/x-python",
   "name": "python",
   "nbconvert_exporter": "python",
   "pygments_lexer": "ipython3",
   "version": "3.8.6"
  }
 },
 "nbformat": 4,
 "nbformat_minor": 5
}
