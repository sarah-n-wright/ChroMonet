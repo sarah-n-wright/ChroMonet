{
 "cells": [
  {
   "cell_type": "code",
   "execution_count": 1,
   "id": "super-maldives",
   "metadata": {},
   "outputs": [],
   "source": [
    "import simulated_data as sim"
   ]
  },
  {
   "cell_type": "markdown",
   "id": "improving-moscow",
   "metadata": {},
   "source": [
    "### TODO"
   ]
  },
  {
   "cell_type": "markdown",
   "id": "resistant-surface",
   "metadata": {},
   "source": [
    "### Create a dataset"
   ]
  },
  {
   "cell_type": "code",
   "execution_count": 2,
   "id": "concerned-victory",
   "metadata": {},
   "outputs": [
    {
     "data": {
      "text/html": [
       "<div>\n",
       "<style scoped>\n",
       "    .dataframe tbody tr th:only-of-type {\n",
       "        vertical-align: middle;\n",
       "    }\n",
       "\n",
       "    .dataframe tbody tr th {\n",
       "        vertical-align: top;\n",
       "    }\n",
       "\n",
       "    .dataframe thead th {\n",
       "        text-align: right;\n",
       "    }\n",
       "</style>\n",
       "<table border=\"1\" class=\"dataframe\">\n",
       "  <thead>\n",
       "    <tr style=\"text-align: right;\">\n",
       "      <th></th>\n",
       "      <th>POS</th>\n",
       "      <th>A0</th>\n",
       "      <th>C0</th>\n",
       "      <th>G0</th>\n",
       "      <th>T0</th>\n",
       "      <th>A1</th>\n",
       "      <th>C1</th>\n",
       "      <th>G1</th>\n",
       "      <th>T1</th>\n",
       "    </tr>\n",
       "  </thead>\n",
       "  <tbody>\n",
       "    <tr>\n",
       "      <th>0</th>\n",
       "      <td>0</td>\n",
       "      <td>0.2595</td>\n",
       "      <td>0.0000</td>\n",
       "      <td>0.7405</td>\n",
       "      <td>0.0000</td>\n",
       "      <td>0.7495</td>\n",
       "      <td>0.0000</td>\n",
       "      <td>0.2505</td>\n",
       "      <td>0.0000</td>\n",
       "    </tr>\n",
       "    <tr>\n",
       "      <th>1</th>\n",
       "      <td>1</td>\n",
       "      <td>0.0000</td>\n",
       "      <td>0.7365</td>\n",
       "      <td>0.0000</td>\n",
       "      <td>0.2635</td>\n",
       "      <td>0.0000</td>\n",
       "      <td>0.4245</td>\n",
       "      <td>0.0000</td>\n",
       "      <td>0.5755</td>\n",
       "    </tr>\n",
       "    <tr>\n",
       "      <th>2</th>\n",
       "      <td>2</td>\n",
       "      <td>0.0000</td>\n",
       "      <td>0.5165</td>\n",
       "      <td>0.4835</td>\n",
       "      <td>0.0000</td>\n",
       "      <td>0.0000</td>\n",
       "      <td>0.1716</td>\n",
       "      <td>0.8284</td>\n",
       "      <td>0.0000</td>\n",
       "    </tr>\n",
       "    <tr>\n",
       "      <th>3</th>\n",
       "      <td>3</td>\n",
       "      <td>0.8738</td>\n",
       "      <td>0.1262</td>\n",
       "      <td>0.0000</td>\n",
       "      <td>0.0000</td>\n",
       "      <td>0.2070</td>\n",
       "      <td>0.7930</td>\n",
       "      <td>0.0000</td>\n",
       "      <td>0.0000</td>\n",
       "    </tr>\n",
       "    <tr>\n",
       "      <th>4</th>\n",
       "      <td>4</td>\n",
       "      <td>0.0000</td>\n",
       "      <td>0.1192</td>\n",
       "      <td>0.0000</td>\n",
       "      <td>0.8808</td>\n",
       "      <td>0.0000</td>\n",
       "      <td>0.6446</td>\n",
       "      <td>0.0000</td>\n",
       "      <td>0.3554</td>\n",
       "    </tr>\n",
       "  </tbody>\n",
       "</table>\n",
       "</div>"
      ],
      "text/plain": [
       "   POS      A0      C0      G0      T0      A1      C1      G1      T1\n",
       "0    0  0.2595  0.0000  0.7405  0.0000  0.7495  0.0000  0.2505  0.0000\n",
       "1    1  0.0000  0.7365  0.0000  0.2635  0.0000  0.4245  0.0000  0.5755\n",
       "2    2  0.0000  0.5165  0.4835  0.0000  0.0000  0.1716  0.8284  0.0000\n",
       "3    3  0.8738  0.1262  0.0000  0.0000  0.2070  0.7930  0.0000  0.0000\n",
       "4    4  0.0000  0.1192  0.0000  0.8808  0.0000  0.6446  0.0000  0.3554"
      ]
     },
     "execution_count": 2,
     "metadata": {},
     "output_type": "execute_result"
    }
   ],
   "source": [
    "# set seed > 0 to enforce seeding\n",
    "# set save=True to save result to file\n",
    "data = sim.make_fake_frequencies(2, 500, seed=0, save=False)\n",
    "data.head()"
   ]
  },
  {
   "cell_type": "markdown",
   "id": "finite-touch",
   "metadata": {},
   "source": [
    "### Convert between formats\n",
    "1. Collapse population"
   ]
  },
  {
   "cell_type": "code",
   "execution_count": 3,
   "id": "instrumental-commission",
   "metadata": {},
   "outputs": [
    {
     "data": {
      "text/html": [
       "<div>\n",
       "<style scoped>\n",
       "    .dataframe tbody tr th:only-of-type {\n",
       "        vertical-align: middle;\n",
       "    }\n",
       "\n",
       "    .dataframe tbody tr th {\n",
       "        vertical-align: top;\n",
       "    }\n",
       "\n",
       "    .dataframe thead th {\n",
       "        text-align: right;\n",
       "    }\n",
       "</style>\n",
       "<table border=\"1\" class=\"dataframe\">\n",
       "  <thead>\n",
       "    <tr style=\"text-align: right;\">\n",
       "      <th></th>\n",
       "      <th>POS</th>\n",
       "      <th>A</th>\n",
       "      <th>C</th>\n",
       "      <th>G</th>\n",
       "      <th>T</th>\n",
       "      <th>POP</th>\n",
       "    </tr>\n",
       "  </thead>\n",
       "  <tbody>\n",
       "    <tr>\n",
       "      <th>0</th>\n",
       "      <td>0</td>\n",
       "      <td>0.2595</td>\n",
       "      <td>0.0000</td>\n",
       "      <td>0.7405</td>\n",
       "      <td>0.0000</td>\n",
       "      <td>0</td>\n",
       "    </tr>\n",
       "    <tr>\n",
       "      <th>0</th>\n",
       "      <td>0</td>\n",
       "      <td>0.7495</td>\n",
       "      <td>0.0000</td>\n",
       "      <td>0.2505</td>\n",
       "      <td>0.0000</td>\n",
       "      <td>1</td>\n",
       "    </tr>\n",
       "    <tr>\n",
       "      <th>1</th>\n",
       "      <td>1</td>\n",
       "      <td>0.0000</td>\n",
       "      <td>0.7365</td>\n",
       "      <td>0.0000</td>\n",
       "      <td>0.2635</td>\n",
       "      <td>0</td>\n",
       "    </tr>\n",
       "    <tr>\n",
       "      <th>1</th>\n",
       "      <td>1</td>\n",
       "      <td>0.0000</td>\n",
       "      <td>0.4245</td>\n",
       "      <td>0.0000</td>\n",
       "      <td>0.5755</td>\n",
       "      <td>1</td>\n",
       "    </tr>\n",
       "    <tr>\n",
       "      <th>2</th>\n",
       "      <td>2</td>\n",
       "      <td>0.0000</td>\n",
       "      <td>0.5165</td>\n",
       "      <td>0.4835</td>\n",
       "      <td>0.0000</td>\n",
       "      <td>0</td>\n",
       "    </tr>\n",
       "  </tbody>\n",
       "</table>\n",
       "</div>"
      ],
      "text/plain": [
       "   POS       A       C       G       T POP\n",
       "0    0  0.2595  0.0000  0.7405  0.0000   0\n",
       "0    0  0.7495  0.0000  0.2505  0.0000   1\n",
       "1    1  0.0000  0.7365  0.0000  0.2635   0\n",
       "1    1  0.0000  0.4245  0.0000  0.5755   1\n",
       "2    2  0.0000  0.5165  0.4835  0.0000   0"
      ]
     },
     "execution_count": 3,
     "metadata": {},
     "output_type": "execute_result"
    }
   ],
   "source": [
    "# if column names are in format e.g. EUR_A use pop_is_suffix=False\n",
    "data_long = sim.freq_collapse_pop_to_column(data, pop_is_suffix=True)\n",
    "data_long.head()"
   ]
  },
  {
   "cell_type": "markdown",
   "id": "operational-diving",
   "metadata": {},
   "source": [
    "2. Revert to original"
   ]
  },
  {
   "cell_type": "code",
   "execution_count": 4,
   "id": "applied-pantyhose",
   "metadata": {},
   "outputs": [
    {
     "data": {
      "text/html": [
       "<div>\n",
       "<style scoped>\n",
       "    .dataframe tbody tr th:only-of-type {\n",
       "        vertical-align: middle;\n",
       "    }\n",
       "\n",
       "    .dataframe tbody tr th {\n",
       "        vertical-align: top;\n",
       "    }\n",
       "\n",
       "    .dataframe thead th {\n",
       "        text-align: right;\n",
       "    }\n",
       "</style>\n",
       "<table border=\"1\" class=\"dataframe\">\n",
       "  <thead>\n",
       "    <tr style=\"text-align: right;\">\n",
       "      <th></th>\n",
       "      <th>POS</th>\n",
       "      <th>A0</th>\n",
       "      <th>C0</th>\n",
       "      <th>G0</th>\n",
       "      <th>T0</th>\n",
       "      <th>A1</th>\n",
       "      <th>C1</th>\n",
       "      <th>G1</th>\n",
       "      <th>T1</th>\n",
       "    </tr>\n",
       "  </thead>\n",
       "  <tbody>\n",
       "    <tr>\n",
       "      <th>0</th>\n",
       "      <td>0</td>\n",
       "      <td>0.2595</td>\n",
       "      <td>0.0000</td>\n",
       "      <td>0.7405</td>\n",
       "      <td>0.0000</td>\n",
       "      <td>0.7495</td>\n",
       "      <td>0.0000</td>\n",
       "      <td>0.2505</td>\n",
       "      <td>0.0000</td>\n",
       "    </tr>\n",
       "    <tr>\n",
       "      <th>1</th>\n",
       "      <td>1</td>\n",
       "      <td>0.0000</td>\n",
       "      <td>0.7365</td>\n",
       "      <td>0.0000</td>\n",
       "      <td>0.2635</td>\n",
       "      <td>0.0000</td>\n",
       "      <td>0.4245</td>\n",
       "      <td>0.0000</td>\n",
       "      <td>0.5755</td>\n",
       "    </tr>\n",
       "    <tr>\n",
       "      <th>2</th>\n",
       "      <td>2</td>\n",
       "      <td>0.0000</td>\n",
       "      <td>0.5165</td>\n",
       "      <td>0.4835</td>\n",
       "      <td>0.0000</td>\n",
       "      <td>0.0000</td>\n",
       "      <td>0.1716</td>\n",
       "      <td>0.8284</td>\n",
       "      <td>0.0000</td>\n",
       "    </tr>\n",
       "    <tr>\n",
       "      <th>3</th>\n",
       "      <td>3</td>\n",
       "      <td>0.8738</td>\n",
       "      <td>0.1262</td>\n",
       "      <td>0.0000</td>\n",
       "      <td>0.0000</td>\n",
       "      <td>0.2070</td>\n",
       "      <td>0.7930</td>\n",
       "      <td>0.0000</td>\n",
       "      <td>0.0000</td>\n",
       "    </tr>\n",
       "    <tr>\n",
       "      <th>4</th>\n",
       "      <td>4</td>\n",
       "      <td>0.0000</td>\n",
       "      <td>0.1192</td>\n",
       "      <td>0.0000</td>\n",
       "      <td>0.8808</td>\n",
       "      <td>0.0000</td>\n",
       "      <td>0.6446</td>\n",
       "      <td>0.0000</td>\n",
       "      <td>0.3554</td>\n",
       "    </tr>\n",
       "  </tbody>\n",
       "</table>\n",
       "</div>"
      ],
      "text/plain": [
       "   POS      A0      C0      G0      T0      A1      C1      G1      T1\n",
       "0    0  0.2595  0.0000  0.7405  0.0000  0.7495  0.0000  0.2505  0.0000\n",
       "1    1  0.0000  0.7365  0.0000  0.2635  0.0000  0.4245  0.0000  0.5755\n",
       "2    2  0.0000  0.5165  0.4835  0.0000  0.0000  0.1716  0.8284  0.0000\n",
       "3    3  0.8738  0.1262  0.0000  0.0000  0.2070  0.7930  0.0000  0.0000\n",
       "4    4  0.0000  0.1192  0.0000  0.8808  0.0000  0.6446  0.0000  0.3554"
      ]
     },
     "execution_count": 4,
     "metadata": {},
     "output_type": "execute_result"
    }
   ],
   "source": [
    "# Note this will automatically make the population a suffix (due to merge)\n",
    "data_original = sim.freq_one_row_per_position(data_long)\n",
    "data_original.head()"
   ]
  },
  {
   "cell_type": "markdown",
   "id": "becoming-front",
   "metadata": {},
   "source": [
    "### Simulate perfect genomes\n",
    "Perfect genomes are defined as those containing only the most frequent allele for given position in the given ancestry. "
   ]
  },
  {
   "cell_type": "code",
   "execution_count": 13,
   "id": "abstract-joseph",
   "metadata": {},
   "outputs": [
    {
     "data": {
      "text/plain": [
       "dict_keys([('0', '0'), ('0', '1'), ('1', '0'), ('1', '1')])"
      ]
     },
     "execution_count": 13,
     "metadata": {},
     "output_type": "execute_result"
    }
   ],
   "source": [
    "perfect_G = sim.simulate_perfect_genomes([\"0\",\"1\"], data)\n",
    "perfect_G.keys()"
   ]
  },
  {
   "cell_type": "markdown",
   "id": "returning-presence",
   "metadata": {},
   "source": [
    "### Simulate genomes from distributions"
   ]
  },
  {
   "cell_type": "code",
   "execution_count": 12,
   "id": "obvious-catering",
   "metadata": {},
   "outputs": [
    {
     "data": {
      "text/plain": [
       "dict_keys(['01.0', '10.0', '00.0', '11.0'])"
      ]
     },
     "execution_count": 12,
     "metadata": {},
     "output_type": "execute_result"
    }
   ],
   "source": [
    "sim_genome = sim.simulate_random_genomes([[\"0\", \"1\"], [\"1\", \"0\"], [\"0\", \"0\"], [\"1\", \"1\"]], data)\n",
    "sim_genome.keys()"
   ]
  },
  {
   "cell_type": "markdown",
   "id": "durable-christianity",
   "metadata": {},
   "source": [
    "### Simulate admixed genomes\n",
    "Not yet implemented"
   ]
  }
 ],
 "metadata": {
  "kernelspec": {
   "display_name": "Python 3",
   "language": "python",
   "name": "python3"
  },
  "language_info": {
   "codemirror_mode": {
    "name": "ipython",
    "version": 3
   },
   "file_extension": ".py",
   "mimetype": "text/x-python",
   "name": "python",
   "nbconvert_exporter": "python",
   "pygments_lexer": "ipython3",
   "version": "3.8.6"
  }
 },
 "nbformat": 4,
 "nbformat_minor": 5
}
