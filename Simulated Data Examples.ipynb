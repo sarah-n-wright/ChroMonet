{
 "cells": [
  {
   "cell_type": "code",
   "execution_count": null,
   "id": "technological-savage",
   "metadata": {},
   "outputs": [],
   "source": [
    "import simulated_data as sim"
   ]
  },
  {
   "cell_type": "markdown",
   "id": "extensive-driver",
   "metadata": {},
   "source": [
    "### TODO\n",
    "* Save/load of genomes"
   ]
  },
  {
   "cell_type": "markdown",
   "id": "conventional-crisis",
   "metadata": {},
   "source": [
    "### Create a dataset"
   ]
  },
  {
   "cell_type": "code",
   "execution_count": null,
   "id": "interpreted-evanescence",
   "metadata": {},
   "outputs": [],
   "source": [
    "# set seed > 0 to enforce seeding\n",
    "# set save=True to save result to file\n",
    "data = sim.make_fake_frequencies(2, 500, seed=0, save=False)\n",
    "data.head()"
   ]
  },
  {
   "cell_type": "markdown",
   "id": "municipal-harmony",
   "metadata": {},
   "source": [
    "### Convert between formats\n",
    "1. Collapse population"
   ]
  },
  {
   "cell_type": "code",
   "execution_count": null,
   "id": "thick-freeze",
   "metadata": {},
   "outputs": [],
   "source": [
    "# if column names are in format e.g. EUR_A use pop_is_suffix=False\n",
    "data_long = sim.freq_collapse_pop_to_column(data, pop_is_suffix=True)\n",
    "data_long.head()"
   ]
  },
  {
   "cell_type": "markdown",
   "id": "posted-oracle",
   "metadata": {},
   "source": [
    "2. Revert to original"
   ]
  },
  {
   "cell_type": "code",
   "execution_count": null,
   "id": "geographic-deposit",
   "metadata": {},
   "outputs": [],
   "source": [
    "# Note this will automatically make the population a suffix (due to merge)\n",
    "data_original = sim.freq_one_row_per_position(data_long)\n",
    "data_original.head()"
   ]
  },
  {
   "cell_type": "markdown",
   "id": "nominated-queens",
   "metadata": {},
   "source": [
    "### Simulate perfect genomes\n",
    "Perfect genomes are defined as those containing only the most frequent allele for given position in the given ancestry. "
   ]
  },
  {
   "cell_type": "code",
   "execution_count": null,
   "id": "fantastic-interstate",
   "metadata": {},
   "outputs": [],
   "source": [
    "perfect_G = sim.simulate_perfect_genomes([\"0\",\"1\"], data)\n",
    "perfect_G.keys()"
   ]
  },
  {
   "cell_type": "markdown",
   "id": "timely-heater",
   "metadata": {},
   "source": [
    "### Simulate genomes from distributions"
   ]
  },
  {
   "cell_type": "code",
   "execution_count": null,
   "id": "caring-session",
   "metadata": {},
   "outputs": [],
   "source": [
    "sim_genome = sim.simulate_random_genomes([[\"0\", \"1\"], [\"1\", \"0\"], [\"0\", \"0\"], [\"1\", \"1\"]], data)\n",
    "sim_genome.keys()"
   ]
  },
  {
   "cell_type": "markdown",
   "id": "quarterly-civilian",
   "metadata": {},
   "source": [
    "### Simulate admixed genomes\n",
    "Not yet implemented"
   ]
  }
 ],
 "metadata": {
  "kernelspec": {
   "display_name": "Python 3",
   "language": "python",
   "name": "python3"
  },
  "language_info": {
   "codemirror_mode": {
    "name": "ipython",
    "version": 3
   },
   "file_extension": ".py",
   "mimetype": "text/x-python",
   "name": "python",
   "nbconvert_exporter": "python",
   "pygments_lexer": "ipython3",
   "version": "3.8.6"
  }
 },
 "nbformat": 4,
 "nbformat_minor": 5
}
